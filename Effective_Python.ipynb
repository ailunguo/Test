{
  "nbformat": 4,
  "nbformat_minor": 0,
  "metadata": {
    "colab": {
      "provenance": [],
      "authorship_tag": "ABX9TyOlKTnVrfiDHrWGzPxwSXoT",
      "include_colab_link": true
    },
    "kernelspec": {
      "name": "python3",
      "display_name": "Python 3"
    },
    "language_info": {
      "name": "python"
    }
  },
  "cells": [
    {
      "cell_type": "markdown",
      "metadata": {
        "id": "view-in-github",
        "colab_type": "text"
      },
      "source": [
        "<a href=\"https://colab.research.google.com/github/ailunguo/Test/blob/main/Effective_Python.ipynb\" target=\"_parent\"><img src=\"https://colab.research.google.com/assets/colab-badge.svg\" alt=\"Open In Colab\"/></a>"
      ]
    },
    {
      "cell_type": "code",
      "source": [
        "snack_calories = {\n",
        "    'chips': 140,\n",
        "    'popcorn': 80,\n",
        "    'nuts': 190\n",
        "}\n",
        "items = tuple(snack_calories.items())\n",
        "items"
      ],
      "metadata": {
        "id": "p1yoNy_AtPDR",
        "colab": {
          "base_uri": "https://localhost:8080/"
        },
        "outputId": "59157faf-8409-4e38-e196-6e925d0db995"
      },
      "execution_count": 2,
      "outputs": [
        {
          "output_type": "execute_result",
          "data": {
            "text/plain": [
              "(('chips', 140), ('popcorn', 80), ('nuts', 190))"
            ]
          },
          "metadata": {},
          "execution_count": 2
        }
      ]
    },
    {
      "cell_type": "code",
      "source": [
        "item = ('Peanut butter', 'Jelly')\n",
        "first = item[0]\n",
        "second = item[1]\n",
        "print(first, 'and', second)"
      ],
      "metadata": {
        "colab": {
          "base_uri": "https://localhost:8080/"
        },
        "id": "h5SIHNqX5xLO",
        "outputId": "d5006f36-9dcd-489a-b17b-b8b208e2a59e"
      },
      "execution_count": 3,
      "outputs": [
        {
          "output_type": "stream",
          "name": "stdout",
          "text": [
            "Peanut butter and Jelly\n"
          ]
        }
      ]
    },
    {
      "cell_type": "code",
      "source": [
        "# tuple类型不支持更改\n",
        "pair = ('Chocolate', 'Peanut butter')\n",
        "pair[0] = 'Honey'"
      ],
      "metadata": {
        "colab": {
          "base_uri": "https://localhost:8080/",
          "height": 217
        },
        "id": "tqgxZcbL6EjU",
        "outputId": "bb2d62a0-bd59-4390-edf7-e5149e1e14d5"
      },
      "execution_count": 5,
      "outputs": [
        {
          "output_type": "error",
          "ename": "TypeError",
          "evalue": "ignored",
          "traceback": [
            "\u001b[0;31m---------------------------------------------------------------------------\u001b[0m",
            "\u001b[0;31mTypeError\u001b[0m                                 Traceback (most recent call last)",
            "\u001b[0;32m<ipython-input-5-1c183e0bfc53>\u001b[0m in \u001b[0;36m<cell line: 3>\u001b[0;34m()\u001b[0m\n\u001b[1;32m      1\u001b[0m \u001b[0;31m# tuple类型不支持更改\u001b[0m\u001b[0;34m\u001b[0m\u001b[0;34m\u001b[0m\u001b[0m\n\u001b[1;32m      2\u001b[0m \u001b[0mpair\u001b[0m \u001b[0;34m=\u001b[0m \u001b[0;34m(\u001b[0m\u001b[0;34m'Chocolate'\u001b[0m\u001b[0;34m,\u001b[0m \u001b[0;34m'Peanut butter'\u001b[0m\u001b[0;34m)\u001b[0m\u001b[0;34m\u001b[0m\u001b[0;34m\u001b[0m\u001b[0m\n\u001b[0;32m----> 3\u001b[0;31m \u001b[0mpair\u001b[0m\u001b[0;34m[\u001b[0m\u001b[0;36m0\u001b[0m\u001b[0;34m]\u001b[0m \u001b[0;34m=\u001b[0m \u001b[0;34m'Honey'\u001b[0m\u001b[0;34m\u001b[0m\u001b[0;34m\u001b[0m\u001b[0m\n\u001b[0m",
            "\u001b[0;31mTypeError\u001b[0m: 'tuple' object does not support item assignment"
          ]
        }
      ]
    },
    {
      "cell_type": "code",
      "source": [
        "item = ('Peanut butter', 'Jelly')\n",
        "first, second = item\n",
        "print(first, 'and', second)"
      ],
      "metadata": {
        "colab": {
          "base_uri": "https://localhost:8080/"
        },
        "id": "YEdaa3ZL6UrL",
        "outputId": "8862506c-ca01-48fd-d8c2-4d1ce9e91b55"
      },
      "execution_count": 6,
      "outputs": [
        {
          "output_type": "stream",
          "name": "stdout",
          "text": [
            "Peanut butter and Jelly\n"
          ]
        }
      ]
    },
    {
      "cell_type": "code",
      "source": [
        "favorite_snacks = {\n",
        "    'salty': ('pretzels', 100),\n",
        "    'sweet': ('cookies', 80),\n",
        "    'veggie': ('carrots', 20),\n",
        "}\n",
        "favorite_snacks"
      ],
      "metadata": {
        "colab": {
          "base_uri": "https://localhost:8080/"
        },
        "id": "YFtMKCh76udN",
        "outputId": "3732cdb7-5a11-4910-d7bc-e9ed87b48f10"
      },
      "execution_count": 7,
      "outputs": [
        {
          "output_type": "execute_result",
          "data": {
            "text/plain": [
              "{'salty': ('pretzels', 100),\n",
              " 'sweet': ('cookies', 80),\n",
              " 'veggie': ('carrots', 20)}"
            ]
          },
          "metadata": {},
          "execution_count": 7
        }
      ]
    },
    {
      "cell_type": "code",
      "source": [
        "((type1, (name1, cals1)),\n",
        " (type2, (name2, cals2)),\n",
        " (type3, (name3, cals3))) = favorite_snacks.items()\n",
        "# 上面的type, name, cals分别和favorite_snacs中的一一对应"
      ],
      "metadata": {
        "id": "6Cf4pbq07C-I"
      },
      "execution_count": 10,
      "outputs": []
    },
    {
      "cell_type": "code",
      "source": [
        "print(f'{type1}, {name1}, {cals1}')"
      ],
      "metadata": {
        "colab": {
          "base_uri": "https://localhost:8080/"
        },
        "id": "9t_rrEE_7XGD",
        "outputId": "b4c89a6b-3a35-464c-adc1-05a5446ba381"
      },
      "execution_count": 12,
      "outputs": [
        {
          "output_type": "stream",
          "name": "stdout",
          "text": [
            "salty, pretzels, 100\n"
          ]
        }
      ]
    },
    {
      "cell_type": "code",
      "source": [
        "from random import randint"
      ],
      "metadata": {
        "id": "T-CGIOcP73y9"
      },
      "execution_count": 13,
      "outputs": []
    },
    {
      "cell_type": "code",
      "source": [
        "randint(0, 1)"
      ],
      "metadata": {
        "colab": {
          "base_uri": "https://localhost:8080/"
        },
        "id": "ONMYNRsZ8_Vd",
        "outputId": "56f5073f-dc34-4326-a563-2e236b37d177"
      },
      "execution_count": 15,
      "outputs": [
        {
          "output_type": "execute_result",
          "data": {
            "text/plain": [
              "0"
            ]
          },
          "metadata": {},
          "execution_count": 15
        }
      ]
    },
    {
      "cell_type": "code",
      "source": [
        "bin(8 << 1)"
      ],
      "metadata": {
        "colab": {
          "base_uri": "https://localhost:8080/",
          "height": 35
        },
        "id": "CBWHbEZQ9A99",
        "outputId": "c7a1b328-4c11-490c-e645-7c0610b72901"
      },
      "execution_count": 18,
      "outputs": [
        {
          "output_type": "execute_result",
          "data": {
            "text/plain": [
              "'0b10000'"
            ],
            "application/vnd.google.colaboratory.intrinsic+json": {
              "type": "string"
            }
          },
          "metadata": {},
          "execution_count": 18
        }
      ]
    },
    {
      "cell_type": "code",
      "source": [
        "lt = ['vanilla', 'chocolate', 'pecan', 'strawberry']\n",
        "it = enumerate(lt)\n",
        "next(it)"
      ],
      "metadata": {
        "colab": {
          "base_uri": "https://localhost:8080/"
        },
        "id": "Zz557jZc9K4t",
        "outputId": "c9f1b688-c2ec-44fb-ce4e-710975da0bd0"
      },
      "execution_count": 19,
      "outputs": [
        {
          "output_type": "execute_result",
          "data": {
            "text/plain": [
              "(0, 'vanilla')"
            ]
          },
          "metadata": {},
          "execution_count": 19
        }
      ]
    },
    {
      "cell_type": "code",
      "source": [
        "next(it)"
      ],
      "metadata": {
        "colab": {
          "base_uri": "https://localhost:8080/"
        },
        "id": "i6aZJubj9lp8",
        "outputId": "1041e73f-2af0-4ec9-81f1-b9affaf9871a"
      },
      "execution_count": 20,
      "outputs": [
        {
          "output_type": "execute_result",
          "data": {
            "text/plain": [
              "(1, 'chocolate')"
            ]
          },
          "metadata": {},
          "execution_count": 20
        }
      ]
    },
    {
      "cell_type": "code",
      "source": [
        "for i, name in it:\n",
        "  print(i, name)"
      ],
      "metadata": {
        "colab": {
          "base_uri": "https://localhost:8080/"
        },
        "id": "Gzr4--Az9nUF",
        "outputId": "abe3dc30-c2e9-4867-de48-a102bfa602fa"
      },
      "execution_count": 21,
      "outputs": [
        {
          "output_type": "stream",
          "name": "stdout",
          "text": [
            "2 pecan\n",
            "3 strawberry\n"
          ]
        }
      ]
    },
    {
      "cell_type": "code",
      "source": [
        "names = ['Cecilla', 'Lisa', 'Marie']\n"
      ],
      "metadata": {
        "id": "JkKi6l9x9rt9"
      },
      "execution_count": null,
      "outputs": []
    }
  ]
}