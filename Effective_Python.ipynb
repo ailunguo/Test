{
  "nbformat": 4,
  "nbformat_minor": 0,
  "metadata": {
    "colab": {
      "provenance": [],
      "authorship_tag": "ABX9TyPYRqGwsgts57xB9H7t7Qrm",
      "include_colab_link": true
    },
    "kernelspec": {
      "name": "python3",
      "display_name": "Python 3"
    },
    "language_info": {
      "name": "python"
    }
  },
  "cells": [
    {
      "cell_type": "markdown",
      "metadata": {
        "id": "view-in-github",
        "colab_type": "text"
      },
      "source": [
        "<a href=\"https://colab.research.google.com/github/ailunguo/Test/blob/main/Effective_Python.ipynb\" target=\"_parent\"><img src=\"https://colab.research.google.com/assets/colab-badge.svg\" alt=\"Open In Colab\"/></a>"
      ]
    },
    {
      "cell_type": "code",
      "source": [
        "snack_calories = {\n",
        "    'chips': 140,\n",
        "    'popcorn': 80,\n",
        "    'nuts': 190\n",
        "}\n",
        "items = tuple(snack_calories.items())\n",
        "items"
      ],
      "metadata": {
        "id": "p1yoNy_AtPDR",
        "colab": {
          "base_uri": "https://localhost:8080/"
        },
        "outputId": "59157faf-8409-4e38-e196-6e925d0db995"
      },
      "execution_count": null,
      "outputs": [
        {
          "output_type": "execute_result",
          "data": {
            "text/plain": [
              "(('chips', 140), ('popcorn', 80), ('nuts', 190))"
            ]
          },
          "metadata": {},
          "execution_count": 2
        }
      ]
    },
    {
      "cell_type": "code",
      "source": [
        "item = ('Peanut butter', 'Jelly')\n",
        "first = item[0]\n",
        "second = item[1]\n",
        "print(first, 'and', second)"
      ],
      "metadata": {
        "colab": {
          "base_uri": "https://localhost:8080/"
        },
        "id": "h5SIHNqX5xLO",
        "outputId": "d5006f36-9dcd-489a-b17b-b8b208e2a59e"
      },
      "execution_count": null,
      "outputs": [
        {
          "output_type": "stream",
          "name": "stdout",
          "text": [
            "Peanut butter and Jelly\n"
          ]
        }
      ]
    },
    {
      "cell_type": "code",
      "source": [
        "# tuple类型不支持更改\n",
        "pair = ('Chocolate', 'Peanut butter')\n",
        "pair[0] = 'Honey'"
      ],
      "metadata": {
        "colab": {
          "base_uri": "https://localhost:8080/",
          "height": 217
        },
        "id": "tqgxZcbL6EjU",
        "outputId": "bb2d62a0-bd59-4390-edf7-e5149e1e14d5"
      },
      "execution_count": null,
      "outputs": [
        {
          "output_type": "error",
          "ename": "TypeError",
          "evalue": "ignored",
          "traceback": [
            "\u001b[0;31m---------------------------------------------------------------------------\u001b[0m",
            "\u001b[0;31mTypeError\u001b[0m                                 Traceback (most recent call last)",
            "\u001b[0;32m<ipython-input-5-1c183e0bfc53>\u001b[0m in \u001b[0;36m<cell line: 3>\u001b[0;34m()\u001b[0m\n\u001b[1;32m      1\u001b[0m \u001b[0;31m# tuple类型不支持更改\u001b[0m\u001b[0;34m\u001b[0m\u001b[0;34m\u001b[0m\u001b[0m\n\u001b[1;32m      2\u001b[0m \u001b[0mpair\u001b[0m \u001b[0;34m=\u001b[0m \u001b[0;34m(\u001b[0m\u001b[0;34m'Chocolate'\u001b[0m\u001b[0;34m,\u001b[0m \u001b[0;34m'Peanut butter'\u001b[0m\u001b[0;34m)\u001b[0m\u001b[0;34m\u001b[0m\u001b[0;34m\u001b[0m\u001b[0m\n\u001b[0;32m----> 3\u001b[0;31m \u001b[0mpair\u001b[0m\u001b[0;34m[\u001b[0m\u001b[0;36m0\u001b[0m\u001b[0;34m]\u001b[0m \u001b[0;34m=\u001b[0m \u001b[0;34m'Honey'\u001b[0m\u001b[0;34m\u001b[0m\u001b[0;34m\u001b[0m\u001b[0m\n\u001b[0m",
            "\u001b[0;31mTypeError\u001b[0m: 'tuple' object does not support item assignment"
          ]
        }
      ]
    },
    {
      "cell_type": "code",
      "source": [
        "item = ('Peanut butter', 'Jelly')\n",
        "first, second = item\n",
        "print(first, 'and', second)"
      ],
      "metadata": {
        "colab": {
          "base_uri": "https://localhost:8080/"
        },
        "id": "YEdaa3ZL6UrL",
        "outputId": "8862506c-ca01-48fd-d8c2-4d1ce9e91b55"
      },
      "execution_count": null,
      "outputs": [
        {
          "output_type": "stream",
          "name": "stdout",
          "text": [
            "Peanut butter and Jelly\n"
          ]
        }
      ]
    },
    {
      "cell_type": "code",
      "source": [
        "favorite_snacks = {\n",
        "    'salty': ('pretzels', 100),\n",
        "    'sweet': ('cookies', 80),\n",
        "    'veggie': ('carrots', 20),\n",
        "}\n",
        "favorite_snacks"
      ],
      "metadata": {
        "colab": {
          "base_uri": "https://localhost:8080/"
        },
        "id": "YFtMKCh76udN",
        "outputId": "3732cdb7-5a11-4910-d7bc-e9ed87b48f10"
      },
      "execution_count": null,
      "outputs": [
        {
          "output_type": "execute_result",
          "data": {
            "text/plain": [
              "{'salty': ('pretzels', 100),\n",
              " 'sweet': ('cookies', 80),\n",
              " 'veggie': ('carrots', 20)}"
            ]
          },
          "metadata": {},
          "execution_count": 7
        }
      ]
    },
    {
      "cell_type": "code",
      "source": [
        "((type1, (name1, cals1)),\n",
        " (type2, (name2, cals2)),\n",
        " (type3, (name3, cals3))) = favorite_snacks.items()\n",
        "# 上面的type, name, cals分别和favorite_snacs中的一一对应"
      ],
      "metadata": {
        "id": "6Cf4pbq07C-I"
      },
      "execution_count": null,
      "outputs": []
    },
    {
      "cell_type": "code",
      "source": [
        "print(f'{type1}, {name1}, {cals1}')"
      ],
      "metadata": {
        "colab": {
          "base_uri": "https://localhost:8080/"
        },
        "id": "9t_rrEE_7XGD",
        "outputId": "b4c89a6b-3a35-464c-adc1-05a5446ba381"
      },
      "execution_count": null,
      "outputs": [
        {
          "output_type": "stream",
          "name": "stdout",
          "text": [
            "salty, pretzels, 100\n"
          ]
        }
      ]
    },
    {
      "cell_type": "code",
      "source": [
        "from random import randint"
      ],
      "metadata": {
        "id": "T-CGIOcP73y9"
      },
      "execution_count": null,
      "outputs": []
    },
    {
      "cell_type": "code",
      "source": [
        "randint(0, 1)"
      ],
      "metadata": {
        "colab": {
          "base_uri": "https://localhost:8080/"
        },
        "id": "ONMYNRsZ8_Vd",
        "outputId": "56f5073f-dc34-4326-a563-2e236b37d177"
      },
      "execution_count": null,
      "outputs": [
        {
          "output_type": "execute_result",
          "data": {
            "text/plain": [
              "0"
            ]
          },
          "metadata": {},
          "execution_count": 15
        }
      ]
    },
    {
      "cell_type": "code",
      "source": [
        "bin(8 << 1)"
      ],
      "metadata": {
        "colab": {
          "base_uri": "https://localhost:8080/",
          "height": 35
        },
        "id": "CBWHbEZQ9A99",
        "outputId": "c7a1b328-4c11-490c-e645-7c0610b72901"
      },
      "execution_count": null,
      "outputs": [
        {
          "output_type": "execute_result",
          "data": {
            "text/plain": [
              "'0b10000'"
            ],
            "application/vnd.google.colaboratory.intrinsic+json": {
              "type": "string"
            }
          },
          "metadata": {},
          "execution_count": 18
        }
      ]
    },
    {
      "cell_type": "code",
      "source": [
        "lt = ['vanilla', 'chocolate', 'pecan', 'strawberry']\n",
        "it = enumerate(lt)\n",
        "next(it)"
      ],
      "metadata": {
        "colab": {
          "base_uri": "https://localhost:8080/"
        },
        "id": "Zz557jZc9K4t",
        "outputId": "c9f1b688-c2ec-44fb-ce4e-710975da0bd0"
      },
      "execution_count": null,
      "outputs": [
        {
          "output_type": "execute_result",
          "data": {
            "text/plain": [
              "(0, 'vanilla')"
            ]
          },
          "metadata": {},
          "execution_count": 19
        }
      ]
    },
    {
      "cell_type": "code",
      "source": [
        "next(it)"
      ],
      "metadata": {
        "colab": {
          "base_uri": "https://localhost:8080/"
        },
        "id": "i6aZJubj9lp8",
        "outputId": "1041e73f-2af0-4ec9-81f1-b9affaf9871a"
      },
      "execution_count": null,
      "outputs": [
        {
          "output_type": "execute_result",
          "data": {
            "text/plain": [
              "(1, 'chocolate')"
            ]
          },
          "metadata": {},
          "execution_count": 20
        }
      ]
    },
    {
      "cell_type": "code",
      "source": [
        "for i, name in it:\n",
        "  print(i, name)"
      ],
      "metadata": {
        "colab": {
          "base_uri": "https://localhost:8080/"
        },
        "id": "Gzr4--Az9nUF",
        "outputId": "abe3dc30-c2e9-4867-de48-a102bfa602fa"
      },
      "execution_count": null,
      "outputs": [
        {
          "output_type": "stream",
          "name": "stdout",
          "text": [
            "2 pecan\n",
            "3 strawberry\n"
          ]
        }
      ]
    },
    {
      "cell_type": "code",
      "source": [
        "names = ['Cecilla', 'Lisa', 'Marie']\n"
      ],
      "metadata": {
        "id": "JkKi6l9x9rt9"
      },
      "execution_count": null,
      "outputs": []
    },
    {
      "cell_type": "markdown",
      "source": [
        "# 2, Lists and Dictionaries"
      ],
      "metadata": {
        "id": "DHt01vrtRIsc"
      }
    },
    {
      "cell_type": "code",
      "source": [
        "it = iter(range(3))\n",
        "for i in it:\n",
        "  print(i)"
      ],
      "metadata": {
        "colab": {
          "base_uri": "https://localhost:8080/"
        },
        "id": "RJUxZkt3RRQI",
        "outputId": "19dbeadc-6adf-45c9-d825-88d4a5022609"
      },
      "execution_count": 1,
      "outputs": [
        {
          "output_type": "stream",
          "name": "stdout",
          "text": [
            "0\n",
            "1\n",
            "2\n"
          ]
        }
      ]
    },
    {
      "cell_type": "code",
      "source": [
        "def generate_csv():\n",
        "  yield ('Date', 'Make', 'Model', 'Year', 'Price')\n",
        "next(generate_csv()) # generate_csv()使用yield返回的生成器，所以需要用next()来加载内容"
      ],
      "metadata": {
        "colab": {
          "base_uri": "https://localhost:8080/"
        },
        "id": "1q1hcyteSYbQ",
        "outputId": "f125a178-7921-4735-d8fa-112117bcf60a"
      },
      "execution_count": 4,
      "outputs": [
        {
          "output_type": "execute_result",
          "data": {
            "text/plain": [
              "('Date', 'Make', 'Model', 'Year', 'Price')"
            ]
          },
          "metadata": {},
          "execution_count": 4
        }
      ]
    },
    {
      "cell_type": "code",
      "source": [
        "votes = {\n",
        "  'otter': 1281,\n",
        "  'polar bear': 587,\n",
        "  'fox': 863\n",
        "}\n",
        "names = list(votes.keys())\n",
        "names.sort(key=votes.get, reverse=True)\n",
        "print(names)"
      ],
      "metadata": {
        "colab": {
          "base_uri": "https://localhost:8080/"
        },
        "id": "VJk03hhMStk9",
        "outputId": "eddc266a-c8ce-4890-dff3-c7e2214f02b3"
      },
      "execution_count": 7,
      "outputs": [
        {
          "output_type": "stream",
          "name": "stdout",
          "text": [
            "['otter', 'fox', 'polar bear']\n"
          ]
        }
      ]
    },
    {
      "cell_type": "code",
      "source": [],
      "metadata": {
        "colab": {
          "base_uri": "https://localhost:8080/"
        },
        "id": "ewSQar9MWaiY",
        "outputId": "6f7a3b75-dbaf-4635-943b-4c540bf7bf95"
      },
      "execution_count": 9,
      "outputs": [
        {
          "output_type": "execute_result",
          "data": {
            "text/plain": [
              "<function dict.get(key, default=None, /)>"
            ]
          },
          "metadata": {},
          "execution_count": 9
        }
      ]
    },
    {
      "cell_type": "code",
      "source": [],
      "metadata": {
        "id": "eAhq_99cWtpw"
      },
      "execution_count": null,
      "outputs": []
    }
  ]
}