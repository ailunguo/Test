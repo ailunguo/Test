{
  "nbformat": 4,
  "nbformat_minor": 0,
  "metadata": {
    "colab": {
      "provenance": [],
      "authorship_tag": "ABX9TyPVBXRPXHcEwZSDG86SgCC+",
      "include_colab_link": true
    },
    "kernelspec": {
      "name": "python3",
      "display_name": "Python 3"
    },
    "language_info": {
      "name": "python"
    }
  },
  "cells": [
    {
      "cell_type": "markdown",
      "metadata": {
        "id": "view-in-github",
        "colab_type": "text"
      },
      "source": [
        "<a href=\"https://colab.research.google.com/github/ailunguo/Test/blob/main/Tensorflow_Test/%E6%95%B0%E6%8D%AE%E9%A2%84%E5%A4%84%E7%90%86%E5%B1%82.ipynb\" target=\"_parent\"><img src=\"https://colab.research.google.com/assets/colab-badge.svg\" alt=\"Open In Colab\"/></a>"
      ]
    },
    {
      "cell_type": "markdown",
      "source": [
        "文本向量化"
      ],
      "metadata": {
        "id": "FHwNUAcoRKo7"
      }
    },
    {
      "cell_type": "code",
      "source": [
        "import tensorflow as tf"
      ],
      "metadata": {
        "id": "da_6jUUCRRBq"
      },
      "execution_count": 1,
      "outputs": []
    },
    {
      "cell_type": "code",
      "execution_count": 2,
      "metadata": {
        "colab": {
          "base_uri": "https://localhost:8080/"
        },
        "id": "wY7UdfUiQ-2f",
        "outputId": "156f8f21-b7bd-4e9a-e255-d7292c3223fa"
      },
      "outputs": [
        {
          "output_type": "stream",
          "name": "stdout",
          "text": [
            "1/1 [==============================] - 0s 254ms/step\n"
          ]
        },
        {
          "output_type": "execute_result",
          "data": {
            "text/plain": [
              "array([[2, 1, 4, 0],\n",
              "       [1, 3, 0, 0]])"
            ]
          },
          "metadata": {},
          "execution_count": 2
        }
      ],
      "source": [
        "# 实例\n",
        "# 将文本转换为整数向量\n",
        "text_dataset = tf.data.Dataset.from_tensor_slices(['foo', 'bar', 'baz'])\n",
        "max_features = 5000 # Maximum vocab size\n",
        "max_len = 4 # Sequence length to pad the outputs to\n",
        "\n",
        "vectorize_layer = tf.keras.layers.TextVectorization(\n",
        "    max_tokens=max_features,\n",
        "    output_mode='int',\n",
        "    output_sequence_length=max_len)\n",
        "\n",
        "vectorize_layer.adapt(text_dataset.batch(64))\n",
        "\n",
        "model = tf.keras.models.Sequential()\n",
        "model.add(tf.keras.Input(shape=(1,), dtype=tf.string))\n",
        "model.add(vectorize_layer)\n",
        "\n",
        "input_data = [['foo qux bar'], ['qux baz']]\n",
        "model.predict(input_data)"
      ]
    },
    {
      "cell_type": "code",
      "source": [
        "vocab_data = ['earth', 'wind', 'and', 'fire']\n",
        "max_len = 4\n",
        "\n",
        "vectorize_layer = tf.keras.layers.TextVectorization(\n",
        "    max_tokens=max_features,\n",
        "    output_mode='int',\n",
        "    output_sequence_length=max_len,\n",
        "    vocabulary=vocab_data)\n",
        "\n",
        "vectorize_layer.get_vocabulary()"
      ],
      "metadata": {
        "colab": {
          "base_uri": "https://localhost:8080/"
        },
        "id": "RsdAH8S9TBzK",
        "outputId": "147921fd-6091-4325-fa78-858d1b4e2544"
      },
      "execution_count": 4,
      "outputs": [
        {
          "output_type": "execute_result",
          "data": {
            "text/plain": [
              "['', '[UNK]', 'earth', 'wind', 'and', 'fire']"
            ]
          },
          "metadata": {},
          "execution_count": 4
        }
      ]
    },
    {
      "cell_type": "markdown",
      "source": [
        "数值特征预处理层\n"
      ],
      "metadata": {
        "id": "XSAJiT-bUd67"
      }
    },
    {
      "cell_type": "markdown",
      "source": [
        "归一化层"
      ],
      "metadata": {
        "id": "sjjpXWkOUjWi"
      }
    },
    {
      "cell_type": "code",
      "source": [
        "import numpy as np"
      ],
      "metadata": {
        "id": "xoexewXTVFhS"
      },
      "execution_count": 5,
      "outputs": []
    },
    {
      "cell_type": "code",
      "source": [
        "# Normalization类\n",
        "# 标准化层将数值缩放到以0为中心，标准差为1的分布\n",
        "adapt_data = np.array([1., 2., 3., 4., 5.], dtype='float32')\n",
        "input_data = np.array([1., 2., 3.], dtype='float32')\n",
        "layer = tf.keras.layers.Normalization(axis=None)\n",
        "layer.adapt(adapt_data) # 根据adapt_data中的统计信息初始化layer的权重和偏置\n",
        "layer(input_data)"
      ],
      "metadata": {
        "colab": {
          "base_uri": "https://localhost:8080/"
        },
        "id": "VeIwmbfVUKMs",
        "outputId": "1d705b1e-a58e-40f7-c9ee-1830b22a11ca"
      },
      "execution_count": 6,
      "outputs": [
        {
          "output_type": "execute_result",
          "data": {
            "text/plain": [
              "<tf.Tensor: shape=(3,), dtype=float32, numpy=array([-1.4142135 , -0.70710677,  0.        ], dtype=float32)>"
            ]
          },
          "metadata": {},
          "execution_count": 6
        }
      ]
    },
    {
      "cell_type": "code",
      "source": [
        "# 计算最后一个轴上每个指数的均值和方差\n",
        "adapt_data = np.array([[0., 7., 4.],\n",
        "             [2., 9., 6.],\n",
        "             [0., 7., 4.],\n",
        "             [2., 9., 6.]], dtype='float32')\n",
        "input_data = np.array([[0., 7., 4.]], dtype='float32')\n",
        "layer = tf.keras.layers.Normalization(axis=-1)\n",
        "layer.adapt(adapt_data)\n",
        "layer(input_data)"
      ],
      "metadata": {
        "colab": {
          "base_uri": "https://localhost:8080/"
        },
        "id": "ubntcGHBVdJ0",
        "outputId": "0f03dee3-3370-4b58-e011-48d9887898b5"
      },
      "execution_count": 8,
      "outputs": [
        {
          "output_type": "execute_result",
          "data": {
            "text/plain": [
              "<tf.Tensor: shape=(1, 3), dtype=float32, numpy=array([[-1., -1., -1.]], dtype=float32)>"
            ]
          },
          "metadata": {},
          "execution_count": 8
        }
      ]
    },
    {
      "cell_type": "code",
      "source": [
        "# 直接传递均值和方差\n",
        "input_data = np.array([[1.], [2.], [3.]], dtype='float32')\n",
        "layer = tf.keras.layers.Normalization(mean=3., variance=2.)\n",
        "layer(input_data)"
      ],
      "metadata": {
        "colab": {
          "base_uri": "https://localhost:8080/"
        },
        "id": "qBuCFo4zW_jK",
        "outputId": "f5029e88-aac3-4ac6-830c-ad8907f3abb6"
      },
      "execution_count": 9,
      "outputs": [
        {
          "output_type": "execute_result",
          "data": {
            "text/plain": [
              "<tf.Tensor: shape=(3, 1), dtype=float32, numpy=\n",
              "array([[-1.4142135 ],\n",
              "       [-0.70710677],\n",
              "       [ 0.        ]], dtype=float32)>"
            ]
          },
          "metadata": {},
          "execution_count": 9
        }
      ]
    },
    {
      "cell_type": "code",
      "source": [
        "# 使用该层对输入进行反规范化\n",
        "adapt_data = np.array([[0., 7., 4.],\n",
        "             [2., 9., 6.],\n",
        "             [0., 7., 4.],\n",
        "             [2., 9., 6.]], dtype='float32')\n",
        "input_data = np.array([[1., 2., 3.]], dtype='float32')\n",
        "layer = tf.keras.layers.Normalization(axis=-1, invert=True)\n",
        "layer.adapt(adapt_data)\n",
        "layer(input_data)"
      ],
      "metadata": {
        "colab": {
          "base_uri": "https://localhost:8080/"
        },
        "id": "CkBFNzIoXviD",
        "outputId": "e7d2f04a-ea38-4332-c604-7bcad7c411fa"
      },
      "execution_count": 10,
      "outputs": [
        {
          "output_type": "execute_result",
          "data": {
            "text/plain": [
              "<tf.Tensor: shape=(1, 3), dtype=float32, numpy=array([[ 2., 10.,  8.]], dtype=float32)>"
            ]
          },
          "metadata": {},
          "execution_count": 10
        }
      ]
    },
    {
      "cell_type": "markdown",
      "source": [
        "离散化层"
      ],
      "metadata": {
        "id": "ZbzdkR-tYrBi"
      }
    },
    {
      "cell_type": "code",
      "source": [
        "# Discretization类\n",
        "# 根据提供的存储桶对浮点值进行存储\n",
        "input = np.array([[-1.5, 1.0, 3.4, .5], [0.0, 3.0, 1.3, 0.0]])\n",
        "layer = tf.keras.layers.Discretization(bin_boundaries=[0., 1., 2.])\n",
        "layer(input)"
      ],
      "metadata": {
        "colab": {
          "base_uri": "https://localhost:8080/"
        },
        "id": "b32j292uYnkS",
        "outputId": "05fdb890-5d39-4254-f39c-97fd3830758c"
      },
      "execution_count": 12,
      "outputs": [
        {
          "output_type": "execute_result",
          "data": {
            "text/plain": [
              "<tf.Tensor: shape=(2, 4), dtype=int64, numpy=\n",
              "array([[0, 2, 3, 1],\n",
              "       [1, 3, 2, 1]])>"
            ]
          },
          "metadata": {},
          "execution_count": 12
        }
      ]
    },
    {
      "cell_type": "code",
      "source": [
        "# 根据要计算的桶数对浮点数进行分桶\n",
        "input = np.array([[-1.5, 1.0, 3.4, .5], [0.0, 3.0, 1.3, 0.0]])\n",
        "layer = tf.keras.layers.Discretization(num_bins=4, epsilon=0.01)\n",
        "layer.adapt(input)\n",
        "layer(input)"
      ],
      "metadata": {
        "colab": {
          "base_uri": "https://localhost:8080/"
        },
        "id": "uGwdCQObYw96",
        "outputId": "4a37accf-2ccf-4670-8601-d94027b9c71d"
      },
      "execution_count": 13,
      "outputs": [
        {
          "output_type": "stream",
          "name": "stderr",
          "text": [
            "WARNING:tensorflow:5 out of the last 5 calls to <function PreprocessingLayer.make_adapt_function.<locals>.adapt_step at 0x78c9d3e54b80> triggered tf.function retracing. Tracing is expensive and the excessive number of tracings could be due to (1) creating @tf.function repeatedly in a loop, (2) passing tensors with different shapes, (3) passing Python objects instead of tensors. For (1), please define your @tf.function outside of the loop. For (2), @tf.function has reduce_retracing=True option that can avoid unnecessary retracing. For (3), please refer to https://www.tensorflow.org/guide/function#controlling_retracing and https://www.tensorflow.org/api_docs/python/tf/function for  more details.\n"
          ]
        },
        {
          "output_type": "execute_result",
          "data": {
            "text/plain": [
              "<tf.Tensor: shape=(2, 4), dtype=int64, numpy=\n",
              "array([[0, 2, 3, 2],\n",
              "       [1, 3, 3, 1]])>"
            ]
          },
          "metadata": {},
          "execution_count": 13
        }
      ]
    },
    {
      "cell_type": "markdown",
      "source": [
        "分类特征预处理层"
      ],
      "metadata": {
        "id": "f4FU9HCkcM6o"
      }
    },
    {
      "cell_type": "markdown",
      "source": [
        "类别编码层"
      ],
      "metadata": {
        "id": "457agDoOcQ_g"
      }
    },
    {
      "cell_type": "code",
      "source": [
        "# CategoryEncoding类\n",
        "# 例子\n",
        "# One-hot编码\n",
        "layer = tf.keras.layers.CategoryEncoding(\n",
        "    num_tokens=4, output_mode='one_hot')\n",
        "layer([3, 2, 0, 1])"
      ],
      "metadata": {
        "colab": {
          "base_uri": "https://localhost:8080/"
        },
        "id": "Ev-Kz_oLaTsJ",
        "outputId": "45d795e0-7eca-4d9d-904a-2c1e3ac7e611"
      },
      "execution_count": 14,
      "outputs": [
        {
          "output_type": "execute_result",
          "data": {
            "text/plain": [
              "<tf.Tensor: shape=(4, 4), dtype=float32, numpy=\n",
              "array([[0., 0., 0., 1.],\n",
              "       [0., 0., 1., 0.],\n",
              "       [1., 0., 0., 0.],\n",
              "       [0., 1., 0., 0.]], dtype=float32)>"
            ]
          },
          "metadata": {},
          "execution_count": 14
        }
      ]
    },
    {
      "cell_type": "code",
      "source": [
        "# Multi-hot编码\n",
        "layer = tf.keras.layers.CategoryEncoding(\n",
        "    num_tokens=4, output_mode='multi_hot')\n",
        "layer([[0, 1], [0, 0], [1, 2], [3, 1]])"
      ],
      "metadata": {
        "colab": {
          "base_uri": "https://localhost:8080/"
        },
        "id": "98bRlX0qcw9J",
        "outputId": "d9f0794c-2c05-4992-d84a-a2e472596b9f"
      },
      "execution_count": 15,
      "outputs": [
        {
          "output_type": "execute_result",
          "data": {
            "text/plain": [
              "<tf.Tensor: shape=(4, 4), dtype=float32, numpy=\n",
              "array([[1., 1., 0., 0.],\n",
              "       [1., 0., 0., 0.],\n",
              "       [0., 1., 1., 0.],\n",
              "       [0., 1., 0., 1.]], dtype=float32)>"
            ]
          },
          "metadata": {},
          "execution_count": 15
        }
      ]
    },
    {
      "cell_type": "code",
      "source": [
        "# 'count'在模式中使用加权输入\n",
        "layer = tf.keras.layers.CategoryEncoding(\n",
        "    num_tokens=4, output_mode='count')\n",
        "count_weights = np.array([[.1, .2], [.1, .1], [.2, .3], [.4, .2]])\n",
        "layer([[0, 1], [0, 0], [1, 2], [3, 1]], count_weights=count_weights)"
      ],
      "metadata": {
        "colab": {
          "base_uri": "https://localhost:8080/"
        },
        "id": "hXQ6RMG3dQUQ",
        "outputId": "6d55b956-fe68-47d8-f3d5-e175f28f6f09"
      },
      "execution_count": 17,
      "outputs": [
        {
          "output_type": "execute_result",
          "data": {
            "text/plain": [
              "<tf.Tensor: shape=(4, 4), dtype=float32, numpy=\n",
              "array([[0.1, 0.2, 0. , 0. ],\n",
              "       [0.2, 0. , 0. , 0. ],\n",
              "       [0. , 0.2, 0.3, 0. ],\n",
              "       [0. , 0.2, 0. , 0.4]], dtype=float32)>"
            ]
          },
          "metadata": {},
          "execution_count": 17
        }
      ]
    },
    {
      "cell_type": "markdown",
      "source": [
        "哈希层"
      ],
      "metadata": {
        "id": "H_0S1OlteFu3"
      }
    },
    {
      "cell_type": "code",
      "source": [
        "# Hashing类\n",
        "# FarmHash64\n",
        "layer = tf.keras.layers.Hashing(num_bins=3)\n",
        "inp = [['A'], ['B'], ['C'], ['D'], ['E']]\n",
        "layer(inp)"
      ],
      "metadata": {
        "colab": {
          "base_uri": "https://localhost:8080/"
        },
        "id": "fUZUmnqpdzZR",
        "outputId": "0a42b17d-0974-4d78-c5d7-02ca2a7c129f"
      },
      "execution_count": 18,
      "outputs": [
        {
          "output_type": "execute_result",
          "data": {
            "text/plain": [
              "<tf.Tensor: shape=(5, 1), dtype=int64, numpy=\n",
              "array([[1],\n",
              "       [0],\n",
              "       [1],\n",
              "       [1],\n",
              "       [2]])>"
            ]
          },
          "metadata": {},
          "execution_count": 18
        }
      ]
    },
    {
      "cell_type": "code",
      "source": [
        "# 具有掩码值的实例\n",
        "layer = tf.keras.layers.Hashing(num_bins=3, mask_value='')\n",
        "inp = [['A'], ['B'], [''], ['C'], ['D']]\n",
        "layer(inp)"
      ],
      "metadata": {
        "colab": {
          "base_uri": "https://localhost:8080/"
        },
        "id": "Nz8yOp09egfA",
        "outputId": "7bff5e3d-e7c6-419b-8c1c-604ea4eb8d26"
      },
      "execution_count": 20,
      "outputs": [
        {
          "output_type": "execute_result",
          "data": {
            "text/plain": [
              "<tf.Tensor: shape=(5, 1), dtype=int64, numpy=\n",
              "array([[1],\n",
              "       [1],\n",
              "       [0],\n",
              "       [2],\n",
              "       [2]])>"
            ]
          },
          "metadata": {},
          "execution_count": 20
        }
      ]
    },
    {
      "cell_type": "code",
      "source": [
        "# SipHash64实例\n",
        "layer = tf.keras.layers.Hashing(num_bins=3, salt=[133, 137])\n",
        "# salt附加参数\n",
        "inp = [['A'], ['B'], ['C'], ['D'], ['E']]\n",
        "layer(inp)"
      ],
      "metadata": {
        "colab": {
          "base_uri": "https://localhost:8080/"
        },
        "id": "VGGPyBfRe2U3",
        "outputId": "95941902-44e2-476f-9b42-c889f1e46fce"
      },
      "execution_count": 21,
      "outputs": [
        {
          "output_type": "execute_result",
          "data": {
            "text/plain": [
              "<tf.Tensor: shape=(5, 1), dtype=int64, numpy=\n",
              "array([[1],\n",
              "       [2],\n",
              "       [1],\n",
              "       [0],\n",
              "       [2]])>"
            ]
          },
          "metadata": {},
          "execution_count": 21
        }
      ]
    },
    {
      "cell_type": "code",
      "source": [
        "layer = tf.keras.layers.Hashing(num_bins=3, salt=133)\n",
        "# salt附加参数\n",
        "inp = [['A'], ['B'], ['C'], ['D'], ['E']]\n",
        "layer(inp)"
      ],
      "metadata": {
        "colab": {
          "base_uri": "https://localhost:8080/"
        },
        "id": "oNrLGJRkfJyo",
        "outputId": "a375c2a6-05c1-40ac-8a1b-2b4fafdbebf3"
      },
      "execution_count": 22,
      "outputs": [
        {
          "output_type": "execute_result",
          "data": {
            "text/plain": [
              "<tf.Tensor: shape=(5, 1), dtype=int64, numpy=\n",
              "array([[0],\n",
              "       [0],\n",
              "       [2],\n",
              "       [1],\n",
              "       [0]])>"
            ]
          },
          "metadata": {},
          "execution_count": 22
        }
      ]
    },
    {
      "cell_type": "markdown",
      "source": [
        "散列交叉层"
      ],
      "metadata": {
        "id": "8SWoflY3fkaq"
      }
    },
    {
      "cell_type": "code",
      "source": [
        "# HashedCrossing类\n",
        "# 交叉两个标量特征\n",
        "layer = tf.keras.layers.HashedCrossing(\n",
        "    num_bins=5)\n",
        "feat1 = tf.constant(['A', 'B', 'A', 'B', 'A'])\n",
        "feat2 = tf.constant([101, 101, 101, 102, 102])\n",
        "layer((feat1, feat2))"
      ],
      "metadata": {
        "colab": {
          "base_uri": "https://localhost:8080/"
        },
        "id": "oZi98Rl8fgZS",
        "outputId": "9fac3ce4-e094-4271-a017-a0ec1d244b1c"
      },
      "execution_count": 23,
      "outputs": [
        {
          "output_type": "execute_result",
          "data": {
            "text/plain": [
              "<tf.Tensor: shape=(5,), dtype=int64, numpy=array([1, 4, 1, 1, 3])>"
            ]
          },
          "metadata": {},
          "execution_count": 23
        }
      ]
    },
    {
      "cell_type": "code",
      "source": [
        "# 交叉和单热两个标量特征\n",
        "layer = tf.keras.layers.HashedCrossing(\n",
        "    num_bins=5, output_mode='one_hot')\n",
        "feat1 = tf.constant(['A', 'B', 'A', 'B', 'A'])\n",
        "feat2 = tf.constant([101, 101, 101, 102, 102])\n",
        "layer((feat1, feat2))"
      ],
      "metadata": {
        "colab": {
          "base_uri": "https://localhost:8080/"
        },
        "id": "BZqqo77ngQHP",
        "outputId": "85fd06a3-d939-431f-9cf3-2ccd40a2575e"
      },
      "execution_count": 24,
      "outputs": [
        {
          "output_type": "execute_result",
          "data": {
            "text/plain": [
              "<tf.Tensor: shape=(5, 5), dtype=float32, numpy=\n",
              "array([[0., 1., 0., 0., 0.],\n",
              "       [0., 0., 0., 0., 1.],\n",
              "       [0., 1., 0., 0., 0.],\n",
              "       [0., 1., 0., 0., 0.],\n",
              "       [0., 0., 0., 1., 0.]], dtype=float32)>"
            ]
          },
          "metadata": {},
          "execution_count": 24
        }
      ]
    },
    {
      "cell_type": "markdown",
      "source": [
        "StringLookup层"
      ],
      "metadata": {
        "id": "oViBqDPlgxLm"
      }
    },
    {
      "cell_type": "code",
      "source": [
        "# StringLookup类\n",
        "# 使用已知词汇创建查找层\n",
        "# 此示例使用预先存在的词汇表创建一个查找层。\n",
        "vocab = [\"a\", \"b\", \"c\", \"d\"]\n",
        "data = tf.constant([[\"a\", \"c\", \"d\"], [\"d\", \"z\", \"b\"]])\n",
        "layer = tf.keras.layers.StringLookup(vocabulary=vocab)\n",
        "layer(data)"
      ],
      "metadata": {
        "colab": {
          "base_uri": "https://localhost:8080/"
        },
        "id": "qHt06UpJgtId",
        "outputId": "d68453e7-9a79-43f5-8d03-3491536da1c2"
      },
      "execution_count": 25,
      "outputs": [
        {
          "output_type": "execute_result",
          "data": {
            "text/plain": [
              "<tf.Tensor: shape=(2, 3), dtype=int64, numpy=\n",
              "array([[1, 3, 4],\n",
              "       [4, 0, 2]])>"
            ]
          },
          "metadata": {},
          "execution_count": 25
        }
      ]
    },
    {
      "cell_type": "code",
      "source": [
        "# 使用调整后的词汇表创建查找层\n",
        "# 此示例创建一个查找图层并通过分析数据集生成词汇表。\n",
        "data = tf.constant([[\"a\", \"c\", \"d\"], [\"d\", \"z\", \"b\"]])\n",
        "layer = tf.keras.layers.StringLookup()\n",
        "layer.adapt(data)\n",
        "layer.get_vocabulary()\n",
        "# 请注意，OOV 标记\"[UNK]\"已添加到词汇表中。\n",
        "# 其余标记按频率排序（\"d\"出现 2 次的为第一个），然后按逆排序顺序排序。"
      ],
      "metadata": {
        "colab": {
          "base_uri": "https://localhost:8080/"
        },
        "id": "8dpGUF6RhQVn",
        "outputId": "01a5869c-f3fb-4099-cc44-265bfaa1f870"
      },
      "execution_count": 26,
      "outputs": [
        {
          "output_type": "stream",
          "name": "stderr",
          "text": [
            "WARNING:tensorflow:6 out of the last 6 calls to <function PreprocessingLayer.make_adapt_function.<locals>.adapt_step at 0x78c9d3ee57e0> triggered tf.function retracing. Tracing is expensive and the excessive number of tracings could be due to (1) creating @tf.function repeatedly in a loop, (2) passing tensors with different shapes, (3) passing Python objects instead of tensors. For (1), please define your @tf.function outside of the loop. For (2), @tf.function has reduce_retracing=True option that can avoid unnecessary retracing. For (3), please refer to https://www.tensorflow.org/guide/function#controlling_retracing and https://www.tensorflow.org/api_docs/python/tf/function for  more details.\n"
          ]
        },
        {
          "output_type": "execute_result",
          "data": {
            "text/plain": [
              "['[UNK]', 'd', 'z', 'c', 'b', 'a']"
            ]
          },
          "metadata": {},
          "execution_count": 26
        }
      ]
    },
    {
      "cell_type": "code",
      "source": [
        "data = tf.constant([[\"a\", \"c\", \"d\"], [\"d\", \"z\", \"b\"]])\n",
        "layer = tf.keras.layers.StringLookup()\n",
        "layer.adapt(data)\n",
        "layer(data)"
      ],
      "metadata": {
        "colab": {
          "base_uri": "https://localhost:8080/"
        },
        "id": "KPquRO2Chq3u",
        "outputId": "fb8dd348-2421-4742-e21a-f4dc18b63635"
      },
      "execution_count": 27,
      "outputs": [
        {
          "output_type": "execute_result",
          "data": {
            "text/plain": [
              "<tf.Tensor: shape=(2, 3), dtype=int64, numpy=\n",
              "array([[5, 3, 1],\n",
              "       [1, 2, 4]])>"
            ]
          },
          "metadata": {},
          "execution_count": 27
        }
      ]
    },
    {
      "cell_type": "code",
      "source": [
        "# 具有多个OOV索引的查找\n",
        "vocab = [\"a\", \"b\", \"c\", \"d\"]\n",
        "data = tf.constant([[\"a\", \"c\", \"d\"], [\"m\", \"z\", \"b\"]])\n",
        "layer = tf.keras.layers.StringLookup(vocabulary=vocab,\n",
        "                    num_oov_indices=2)\n",
        "layer(data)"
      ],
      "metadata": {
        "colab": {
          "base_uri": "https://localhost:8080/"
        },
        "id": "qfqu7S_miBIO",
        "outputId": "8c64d35e-6504-479f-ff33-439de4e84a4e"
      },
      "execution_count": 28,
      "outputs": [
        {
          "output_type": "execute_result",
          "data": {
            "text/plain": [
              "<tf.Tensor: shape=(2, 3), dtype=int64, numpy=\n",
              "array([[2, 4, 5],\n",
              "       [0, 1, 3]])>"
            ]
          },
          "metadata": {},
          "execution_count": 28
        }
      ]
    },
    {
      "cell_type": "code",
      "source": [
        "# One-hot输出\n",
        "vocab = [\"a\", \"b\", \"c\", \"d\"]\n",
        "data = tf.constant([\"a\", \"b\", \"c\", \"d\", \"z\"])\n",
        "layer = tf.keras.layers.StringLookup(\n",
        "    vocabulary=vocab, output_mode='one_hot')\n",
        "layer(data)"
      ],
      "metadata": {
        "colab": {
          "base_uri": "https://localhost:8080/"
        },
        "id": "E4hV_rX-j_OF",
        "outputId": "780a0b6f-95d2-470a-d00a-08e5230e3f3d"
      },
      "execution_count": 29,
      "outputs": [
        {
          "output_type": "execute_result",
          "data": {
            "text/plain": [
              "<tf.Tensor: shape=(5, 5), dtype=float32, numpy=\n",
              "array([[0., 1., 0., 0., 0.],\n",
              "       [0., 0., 1., 0., 0.],\n",
              "       [0., 0., 0., 1., 0.],\n",
              "       [0., 0., 0., 0., 1.],\n",
              "       [1., 0., 0., 0., 0.]], dtype=float32)>"
            ]
          },
          "metadata": {},
          "execution_count": 29
        }
      ]
    },
    {
      "cell_type": "code",
      "source": [
        "# multi-hot输出\n",
        "vocab = [\"a\", \"b\", \"c\", \"d\"]\n",
        "data = tf.constant([[\"a\", \"c\", \"d\", \"d\"], [\"d\", \"z\", \"b\", \"z\"]])\n",
        "layer = tf.keras.layers.StringLookup(\n",
        "    vocabulary=vocab, output_mode='multi_hot')\n",
        "layer(data)"
      ],
      "metadata": {
        "colab": {
          "base_uri": "https://localhost:8080/"
        },
        "id": "6GfHxvPekcb1",
        "outputId": "638c1dfc-10cb-4ece-eed2-f4a9f83061d2"
      },
      "execution_count": 31,
      "outputs": [
        {
          "output_type": "execute_result",
          "data": {
            "text/plain": [
              "<tf.Tensor: shape=(2, 5), dtype=float32, numpy=\n",
              "array([[0., 1., 0., 1., 1.],\n",
              "       [1., 0., 1., 0., 1.]], dtype=float32)>"
            ]
          },
          "metadata": {},
          "execution_count": 31
        }
      ]
    },
    {
      "cell_type": "code",
      "source": [
        "# token count输出\n",
        "vocab = [\"a\", \"b\", \"c\", \"d\"]\n",
        "data = tf.constant([[\"a\", \"c\", \"d\", \"d\"], [\"d\", \"z\", \"b\", \"z\"]])\n",
        "layer = tf.keras.layers.StringLookup(\n",
        "    vocabulary=vocab, output_mode='count')\n",
        "layer(data)"
      ],
      "metadata": {
        "colab": {
          "base_uri": "https://localhost:8080/"
        },
        "id": "rtUn_tB_kmpu",
        "outputId": "f37e1977-6261-481e-bb3c-f2aa1b0c134a"
      },
      "execution_count": 32,
      "outputs": [
        {
          "output_type": "execute_result",
          "data": {
            "text/plain": [
              "<tf.Tensor: shape=(2, 5), dtype=float32, numpy=\n",
              "array([[0., 1., 0., 1., 2.],\n",
              "       [2., 0., 1., 0., 1.]], dtype=float32)>"
            ]
          },
          "metadata": {},
          "execution_count": 32
        }
      ]
    },
    {
      "cell_type": "code",
      "source": [
        "# TF-IDF输出\n",
        "vocab = [\"a\", \"b\", \"c\", \"d\"]\n",
        "idf_weights = [0.25, 0.75, 0.6, 0.4]\n",
        "data = tf.constant([[\"a\", \"c\", \"d\", \"d\"], [\"d\", \"z\", \"b\", \"z\"]])\n",
        "layer = tf.keras.layers.StringLookup(output_mode=\"tf_idf\")\n",
        "layer.set_vocabulary(vocab, idf_weights=idf_weights)\n",
        "layer(data)"
      ],
      "metadata": {
        "colab": {
          "base_uri": "https://localhost:8080/"
        },
        "id": "g0lt8Skdk6G1",
        "outputId": "90ecd10f-32f0-4754-fb1b-eecfdf6ee77e"
      },
      "execution_count": 33,
      "outputs": [
        {
          "output_type": "execute_result",
          "data": {
            "text/plain": [
              "<tf.Tensor: shape=(2, 5), dtype=float32, numpy=\n",
              "array([[0.  , 0.25, 0.  , 0.6 , 0.8 ],\n",
              "       [1.  , 0.  , 0.75, 0.  , 0.4 ]], dtype=float32)>"
            ]
          },
          "metadata": {},
          "execution_count": 33
        }
      ]
    },
    {
      "cell_type": "code",
      "source": [
        "# 要指定oov值的idf权重，您需要传递整个词汇表，包括前导oov标记。\n",
        "vocab = [\"[UNK]\", \"a\", \"b\", \"c\", \"d\"]\n",
        "idf_weights = [0.9, 0.25, 0.75, 0.6, 0.4]\n",
        "data = tf.constant([[\"a\", \"c\", \"d\", \"d\"], [\"d\", \"z\", \"b\", \"z\"]])\n",
        "layer = tf.keras.layers.StringLookup(output_mode=\"tf_idf\")\n",
        "layer.set_vocabulary(vocab, idf_weights=idf_weights)\n",
        "layer(data)"
      ],
      "metadata": {
        "colab": {
          "base_uri": "https://localhost:8080/"
        },
        "id": "DdFQDWC5lIhD",
        "outputId": "18e09bce-8297-402f-e205-9bbcd9ab69c5"
      },
      "execution_count": 34,
      "outputs": [
        {
          "output_type": "execute_result",
          "data": {
            "text/plain": [
              "<tf.Tensor: shape=(2, 5), dtype=float32, numpy=\n",
              "array([[0.  , 0.25, 0.  , 0.6 , 0.8 ],\n",
              "       [1.8 , 0.  , 0.75, 0.  , 0.4 ]], dtype=float32)>"
            ]
          },
          "metadata": {},
          "execution_count": 34
        }
      ]
    },
    {
      "cell_type": "code",
      "source": [
        "# 逆向查找\n",
        "vocab = [\"a\", \"b\", \"c\", \"d\"]\n",
        "data = tf.constant([[1, 3, 4], [4, 0, 2]])\n",
        "layer = tf.keras.layers.StringLookup(vocabulary=vocab, invert=True)\n",
        "layer(data)"
      ],
      "metadata": {
        "colab": {
          "base_uri": "https://localhost:8080/"
        },
        "id": "91XXx-f4lfPc",
        "outputId": "6c6f655b-4169-4b6e-b6f3-bf37f4ffe2cb"
      },
      "execution_count": 35,
      "outputs": [
        {
          "output_type": "execute_result",
          "data": {
            "text/plain": [
              "<tf.Tensor: shape=(2, 3), dtype=string, numpy=\n",
              "array([[b'a', b'c', b'd'],\n",
              "       [b'd', b'[UNK]', b'b']], dtype=object)>"
            ]
          },
          "metadata": {},
          "execution_count": 35
        }
      ]
    },
    {
      "cell_type": "markdown",
      "source": [
        "整数查找层"
      ],
      "metadata": {
        "id": "9NSKBZY8l_-V"
      }
    },
    {
      "cell_type": "code",
      "source": [
        "# IntegerLookup班级\n",
        "# 例子\n",
        "# 使用已知词汇创建查找层\n",
        "# 此示例使用预先存在的词汇表创建一个查找层。\n",
        "vocab = [12, 36, 1138, 42]\n",
        "data = tf.constant([[12, 1138, 42], [42, 1000, 36]])  # Note OOV tokens\n",
        "layer = tf.keras.layers.IntegerLookup(vocabulary=vocab)\n",
        "layer(data)"
      ],
      "metadata": {
        "colab": {
          "base_uri": "https://localhost:8080/"
        },
        "id": "jp47mf5Gl2EF",
        "outputId": "743290fa-7abc-4795-9365-0bf81d5f4501"
      },
      "execution_count": 36,
      "outputs": [
        {
          "output_type": "execute_result",
          "data": {
            "text/plain": [
              "<tf.Tensor: shape=(2, 3), dtype=int64, numpy=\n",
              "array([[1, 3, 4],\n",
              "       [4, 0, 2]])>"
            ]
          },
          "metadata": {},
          "execution_count": 36
        }
      ]
    },
    {
      "cell_type": "code",
      "source": [
        "# 使用调整后的词汇表创建查找层\n",
        "# 此示例创建一个查找图层并通过分析数据集生成词汇表。\n",
        "data = tf.constant([[12, 1138, 42], [42, 1000, 36]])\n",
        "layer = tf.keras.layers.IntegerLookup()\n",
        "layer.adapt(data)\n",
        "layer.get_vocabulary()\n",
        "# 请注意，OOV 标记 -1 已添加到词汇表中。\n",
        "# 其余标记按频率排序（42，出现 2 次，排在第一位），然后按逆排序顺序。"
      ],
      "metadata": {
        "colab": {
          "base_uri": "https://localhost:8080/"
        },
        "id": "sy71F4k5nSMr",
        "outputId": "8fafe789-c952-40cb-8dec-531d13ef7897"
      },
      "execution_count": 37,
      "outputs": [
        {
          "output_type": "execute_result",
          "data": {
            "text/plain": [
              "[-1, 42, 1138, 1000, 36, 12]"
            ]
          },
          "metadata": {},
          "execution_count": 37
        }
      ]
    },
    {
      "cell_type": "code",
      "source": [
        "data = tf.constant([[12, 1138, 42], [42, 1000, 36]])\n",
        "layer = tf.keras.layers.IntegerLookup()\n",
        "layer.adapt(data)\n",
        "layer(data)"
      ],
      "metadata": {
        "colab": {
          "base_uri": "https://localhost:8080/"
        },
        "id": "VrTXKYpZngMD",
        "outputId": "783f3add-a2ee-4ca7-ff08-7a48562e7646"
      },
      "execution_count": 38,
      "outputs": [
        {
          "output_type": "execute_result",
          "data": {
            "text/plain": [
              "<tf.Tensor: shape=(2, 3), dtype=int64, numpy=\n",
              "array([[5, 2, 1],\n",
              "       [1, 3, 4]])>"
            ]
          },
          "metadata": {},
          "execution_count": 38
        }
      ]
    },
    {
      "cell_type": "code",
      "source": [
        "# 具有多个 OOV 索引的查找\n",
        "vocab = [12, 36, 1138, 42]\n",
        "data = tf.constant([[12, 1138, 42], [37, 1000, 36]])\n",
        "layer = tf.keras.layers.IntegerLookup(\n",
        "     vocabulary=vocab, num_oov_indices=2)\n",
        "layer(data)"
      ],
      "metadata": {
        "colab": {
          "base_uri": "https://localhost:8080/"
        },
        "id": "BcHHl_TfntGL",
        "outputId": "f895e6ac-3d5c-43b4-9088-4033cbd5f51e"
      },
      "execution_count": 39,
      "outputs": [
        {
          "output_type": "execute_result",
          "data": {
            "text/plain": [
              "<tf.Tensor: shape=(2, 3), dtype=int64, numpy=\n",
              "array([[2, 4, 5],\n",
              "       [1, 0, 3]])>"
            ]
          },
          "metadata": {},
          "execution_count": 39
        }
      ]
    },
    {
      "cell_type": "code",
      "source": [
        "# One-hot输出\n",
        "vocab = [12, 36, 1138, 42]\n",
        "data = tf.constant([12, 36, 1138, 42, 7]) # Note OOV tokens\n",
        "layer = tf.keras.layers.IntegerLookup(\n",
        "     vocabulary=vocab, output_mode='one_hot')\n",
        "layer(data)"
      ],
      "metadata": {
        "colab": {
          "base_uri": "https://localhost:8080/"
        },
        "id": "tFO4P4iUn1p8",
        "outputId": "9a953d55-2074-4396-ffa2-55734eb4154e"
      },
      "execution_count": 40,
      "outputs": [
        {
          "output_type": "execute_result",
          "data": {
            "text/plain": [
              "<tf.Tensor: shape=(5, 5), dtype=float32, numpy=\n",
              "array([[0., 1., 0., 0., 0.],\n",
              "       [0., 0., 1., 0., 0.],\n",
              "       [0., 0., 0., 1., 0.],\n",
              "       [0., 0., 0., 0., 1.],\n",
              "       [1., 0., 0., 0., 0.]], dtype=float32)>"
            ]
          },
          "metadata": {},
          "execution_count": 40
        }
      ]
    },
    {
      "cell_type": "code",
      "source": [
        "# multi-hot输出\n",
        "vocab = [12, 36, 1138, 42]\n",
        "data = tf.constant([[12, 1138, 42, 42],\n",
        "           [42, 7, 36, 7]]) # Note OOV tokens\n",
        "layer = tf.keras.layers.IntegerLookup(\n",
        "     vocabulary=vocab, output_mode='multi_hot')\n",
        "layer(data)"
      ],
      "metadata": {
        "colab": {
          "base_uri": "https://localhost:8080/"
        },
        "id": "XutnCApJoYcE",
        "outputId": "be2e1ee1-1ffe-4de2-e152-4dc3726d9842"
      },
      "execution_count": 41,
      "outputs": [
        {
          "output_type": "execute_result",
          "data": {
            "text/plain": [
              "<tf.Tensor: shape=(2, 5), dtype=float32, numpy=\n",
              "array([[0., 1., 0., 1., 1.],\n",
              "       [1., 0., 1., 0., 1.]], dtype=float32)>"
            ]
          },
          "metadata": {},
          "execution_count": 41
        }
      ]
    },
    {
      "cell_type": "code",
      "source": [
        "# Token count输出\n",
        "vocab = [12, 36, 1138, 42]\n",
        "data = tf.constant([[12, 1138, 42, 42],\n",
        "           [42, 7, 36, 7]]) # Note OOV tokens\n",
        "layer = tf.keras.layers.IntegerLookup(\n",
        "     vocabulary=vocab, output_mode='count')\n",
        "layer(data)"
      ],
      "metadata": {
        "colab": {
          "base_uri": "https://localhost:8080/"
        },
        "id": "LWc35xamolMc",
        "outputId": "cf3c3f52-3813-4e4f-d7a5-4ac78899e03b"
      },
      "execution_count": 42,
      "outputs": [
        {
          "output_type": "execute_result",
          "data": {
            "text/plain": [
              "<tf.Tensor: shape=(2, 5), dtype=float32, numpy=\n",
              "array([[0., 1., 0., 1., 2.],\n",
              "       [2., 0., 1., 0., 1.]], dtype=float32)>"
            ]
          },
          "metadata": {},
          "execution_count": 42
        }
      ]
    },
    {
      "cell_type": "code",
      "source": [
        "# TF-IDF输出\n",
        "vocab = [12, 36, 1138, 42]\n",
        "idf_weights = [0.25, 0.75, 0.6, 0.4]\n",
        "data = tf.constant([[12, 1138, 42, 42],\n",
        "           [42, 7, 36, 7]]) # Note OOV tokens\n",
        "layer = tf.keras.layers.IntegerLookup(\n",
        "  output_mode='tf_idf', vocabulary=vocab, idf_weights=idf_weights)\n",
        "layer(data)"
      ],
      "metadata": {
        "colab": {
          "base_uri": "https://localhost:8080/"
        },
        "id": "RwY11POHqPhj",
        "outputId": "579ac8ce-c9a0-402f-c661-4306e24c1200"
      },
      "execution_count": 43,
      "outputs": [
        {
          "output_type": "execute_result",
          "data": {
            "text/plain": [
              "<tf.Tensor: shape=(2, 5), dtype=float32, numpy=\n",
              "array([[0.  , 0.25, 0.  , 0.6 , 0.8 ],\n",
              "       [1.  , 0.  , 0.75, 0.  , 0.4 ]], dtype=float32)>"
            ]
          },
          "metadata": {},
          "execution_count": 43
        }
      ]
    },
    {
      "cell_type": "code",
      "source": [
        "# 要指定 oov 标记的 idf 权重，您需要传递整个词汇表，包括前导 oov 标记。\n",
        "vocab = [-1, 12, 36, 1138, 42]\n",
        "idf_weights = [0.9, 0.25, 0.75, 0.6, 0.4]\n",
        "data = tf.constant([[12, 1138, 42, 42],\n",
        "           [42, 7, 36, 7]]) # Note OOV tokens\n",
        "layer = tf.keras.layers.IntegerLookup(\n",
        "    output_mode='tf_idf', vocabulary=vocab, idf_weights=idf_weights)\n",
        "layer(data)"
      ],
      "metadata": {
        "colab": {
          "base_uri": "https://localhost:8080/"
        },
        "id": "N_tRpo0zqg1C",
        "outputId": "19e05ce6-a856-49ce-8a0b-863d6fa33c44"
      },
      "execution_count": 44,
      "outputs": [
        {
          "output_type": "execute_result",
          "data": {
            "text/plain": [
              "<tf.Tensor: shape=(2, 5), dtype=float32, numpy=\n",
              "array([[0.  , 0.25, 0.  , 0.6 , 0.8 ],\n",
              "       [1.8 , 0.  , 0.75, 0.  , 0.4 ]], dtype=float32)>"
            ]
          },
          "metadata": {},
          "execution_count": 44
        }
      ]
    },
    {
      "cell_type": "code",
      "source": [
        "# 逆向查找\n",
        "vocab = [12, 36, 1138, 42]\n",
        "data = tf.constant([[1, 3, 4], [4, 0, 2]])\n",
        "layer = tf.keras.layers.IntegerLookup(vocabulary=vocab, invert=True)\n",
        "layer(data)"
      ],
      "metadata": {
        "colab": {
          "base_uri": "https://localhost:8080/"
        },
        "id": "yowoONVOr4sx",
        "outputId": "a7936a86-103a-4f95-ca9d-717374e15755"
      },
      "execution_count": 45,
      "outputs": [
        {
          "output_type": "execute_result",
          "data": {
            "text/plain": [
              "<tf.Tensor: shape=(2, 3), dtype=int64, numpy=\n",
              "array([[  12, 1138,   42],\n",
              "       [  42,   -1,   36]])>"
            ]
          },
          "metadata": {},
          "execution_count": 45
        }
      ]
    },
    {
      "cell_type": "code",
      "source": [],
      "metadata": {
        "id": "VIct47SAsQdc"
      },
      "execution_count": null,
      "outputs": []
    }
  ]
}