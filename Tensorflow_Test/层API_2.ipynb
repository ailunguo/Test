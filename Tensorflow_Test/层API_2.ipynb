{
  "nbformat": 4,
  "nbformat_minor": 0,
  "metadata": {
    "colab": {
      "provenance": [],
      "authorship_tag": "ABX9TyMp8PXci8gz1+iJdJuOmnwj",
      "include_colab_link": true
    },
    "kernelspec": {
      "name": "python3",
      "display_name": "Python 3"
    },
    "language_info": {
      "name": "python"
    }
  },
  "cells": [
    {
      "cell_type": "markdown",
      "metadata": {
        "id": "view-in-github",
        "colab_type": "text"
      },
      "source": [
        "<a href=\"https://colab.research.google.com/github/ailunguo/Test/blob/main/Tensorflow_Test/%E5%B1%82API_2.ipynb\" target=\"_parent\"><img src=\"https://colab.research.google.com/assets/colab-badge.svg\" alt=\"Open In Colab\"/></a>"
      ]
    },
    {
      "cell_type": "markdown",
      "source": [
        "# 注意力层"
      ],
      "metadata": {
        "id": "5wCrwTy-eHf-"
      }
    },
    {
      "cell_type": "markdown",
      "source": [
        "多头注意力层"
      ],
      "metadata": {
        "id": "fbJtM7qWeOJF"
      }
    },
    {
      "cell_type": "code",
      "execution_count": null,
      "metadata": {
        "id": "eZcSyV-6dcuK"
      },
      "outputs": [],
      "source": [
        "# tf.keras.layers.MultiHeadAttention(\n",
        "#     num_heads,\n",
        "#     key_dim,\n",
        "#     value_dim=None,\n",
        "#     dropout=0.0,\n",
        "#     use_bias=True,\n",
        "#     output_shape=None,\n",
        "#     attention_axes=None,\n",
        "#     kernel_initializer=\"glorot_uniform\",\n",
        "#     bias_initializer=\"zeros\",\n",
        "#     kernel_regularizer=None,\n",
        "#     bias_regularizer=None,\n",
        "#     activity_regularizer=None,\n",
        "#     kernel_constraint=None,\n",
        "#     bias_constraint=None,\n",
        "#     **kwargs\n",
        "# )"
      ]
    },
    {
      "cell_type": "code",
      "source": [
        "import tensorflow as tf"
      ],
      "metadata": {
        "id": "Az3th6TPeThm"
      },
      "execution_count": 1,
      "outputs": []
    },
    {
      "cell_type": "code",
      "source": [
        "layer = tf.keras.layers.MultiHeadAttention(num_heads = 2, key_dim=2)\n",
        "target = tf.keras.Input(shape=[8, 16])\n",
        "source = tf.keras.Input(shape=[4, 16])\n",
        "output_tensor, weights = layer(target, source, return_attention_scores=True)\n",
        "print(output_tensor.shape)\n",
        "print(weights.shape)"
      ],
      "metadata": {
        "colab": {
          "base_uri": "https://localhost:8080/"
        },
        "id": "KW8SE0EPfjfe",
        "outputId": "3d2845b1-d820-4ce5-81bf-0522cba54b74"
      },
      "execution_count": 2,
      "outputs": [
        {
          "output_type": "stream",
          "name": "stdout",
          "text": [
            "(None, 8, 16)\n",
            "(None, 2, 8, 4)\n"
          ]
        }
      ]
    },
    {
      "cell_type": "code",
      "source": [
        "layer = tf.keras.layers.MultiHeadAttention(\n",
        "    num_heads=2, key_dim=2, attention_axes=(2,3))\n",
        "input_tensor = tf.keras.Input(shape=[5, 3, 4, 16])\n",
        "output_tensor = layer(input_tensor, input_tensor)\n",
        "print(output_tensor.shape)"
      ],
      "metadata": {
        "colab": {
          "base_uri": "https://localhost:8080/"
        },
        "id": "lvvSFRAvgJNK",
        "outputId": "3c282385-eb9b-429c-87d2-572a1b1a3252"
      },
      "execution_count": 3,
      "outputs": [
        {
          "output_type": "stream",
          "name": "stdout",
          "text": [
            "(None, 5, 3, 4, 16)\n"
          ]
        }
      ]
    },
    {
      "cell_type": "markdown",
      "source": [
        "注意力层"
      ],
      "metadata": {
        "id": "gzxctF3VhaQm"
      }
    },
    {
      "cell_type": "code",
      "source": [
        "tf.keras.layers.Attention(use_scale=False, score_mode=\"dot\", **kwargs)"
      ],
      "metadata": {
        "id": "rwKvtsKrgr6V"
      },
      "execution_count": null,
      "outputs": []
    },
    {
      "cell_type": "code",
      "source": [
        "# CNN+Attention实例\n",
        "query_input = tf.keras.Input(shape=(None,), dtype='int32')\n",
        "value_input = tf.keras.Input(shape=(None,), dtype='int32')\n",
        "\n",
        "token_embedding = tf.keras.layers.Embedding(input_dim=1000, output_dim=64)\n",
        "query_embeddings = token_embedding(query_input)\n",
        "value_embeddings = token_embedding(value_input)\n",
        "\n",
        "# CNNlayer\n",
        "cnn_layer = tf.keras.layers.Conv1D(\n",
        "    filters=100,\n",
        "    kernel_size=4,\n",
        "    padding='same')\n",
        "query_seq_encoding = cnn_layer(query_embeddings)\n",
        "value_seq_encoding = cnn_layer(value_embeddings)\n",
        "\n",
        "query_value_attention_seq = tf.keras.layers.Attention()(\n",
        "    [query_seq_encoding, value_seq_encoding])\n",
        "\n",
        "query_encoding = tf.keras.layers.GlobalAveragePooling1D()(\n",
        "    query_seq_encoding)\n",
        "query_value_attention = tf.keras.layers.GlobalAveragePooling1D()(\n",
        "    query_value_attention_seq)\n",
        "\n",
        "input_layer = tf.keras.layers.Concatenate()(\n",
        "    [query_encoding, query_value_attention])"
      ],
      "metadata": {
        "id": "NpXhedAehfD8"
      },
      "execution_count": null,
      "outputs": []
    },
    {
      "cell_type": "markdown",
      "source": [
        "附加注意力层"
      ],
      "metadata": {
        "id": "xvv5qWY1kE7a"
      }
    },
    {
      "cell_type": "code",
      "source": [
        "tf.keras.layers.AdditiveAttention(use_scale=True, **kwargs)"
      ],
      "metadata": {
        "id": "J0BxiRCTkER7"
      },
      "execution_count": null,
      "outputs": []
    },
    {
      "cell_type": "code",
      "source": [],
      "metadata": {
        "id": "YQ_GUW4okJps"
      },
      "execution_count": null,
      "outputs": []
    }
  ]
}