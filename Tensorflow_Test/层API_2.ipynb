{
  "nbformat": 4,
  "nbformat_minor": 0,
  "metadata": {
    "colab": {
      "provenance": [],
      "authorship_tag": "ABX9TyNr3cx9DCHafU5tiVEm6SUD",
      "include_colab_link": true
    },
    "kernelspec": {
      "name": "python3",
      "display_name": "Python 3"
    },
    "language_info": {
      "name": "python"
    }
  },
  "cells": [
    {
      "cell_type": "markdown",
      "metadata": {
        "id": "view-in-github",
        "colab_type": "text"
      },
      "source": [
        "<a href=\"https://colab.research.google.com/github/ailunguo/Test/blob/main/Tensorflow_Test/%E5%B1%82API_2.ipynb\" target=\"_parent\"><img src=\"https://colab.research.google.com/assets/colab-badge.svg\" alt=\"Open In Colab\"/></a>"
      ]
    },
    {
      "cell_type": "markdown",
      "source": [
        "# 注意力层"
      ],
      "metadata": {
        "id": "5wCrwTy-eHf-"
      }
    },
    {
      "cell_type": "markdown",
      "source": [
        "多头注意力层"
      ],
      "metadata": {
        "id": "fbJtM7qWeOJF"
      }
    },
    {
      "cell_type": "code",
      "execution_count": null,
      "metadata": {
        "id": "eZcSyV-6dcuK"
      },
      "outputs": [],
      "source": [
        "# tf.keras.layers.MultiHeadAttention(\n",
        "#     num_heads,\n",
        "#     key_dim,\n",
        "#     value_dim=None,\n",
        "#     dropout=0.0,\n",
        "#     use_bias=True,\n",
        "#     output_shape=None,\n",
        "#     attention_axes=None,\n",
        "#     kernel_initializer=\"glorot_uniform\",\n",
        "#     bias_initializer=\"zeros\",\n",
        "#     kernel_regularizer=None,\n",
        "#     bias_regularizer=None,\n",
        "#     activity_regularizer=None,\n",
        "#     kernel_constraint=None,\n",
        "#     bias_constraint=None,\n",
        "#     **kwargs\n",
        "# )"
      ]
    },
    {
      "cell_type": "code",
      "source": [
        "import tensorflow as tf"
      ],
      "metadata": {
        "id": "Az3th6TPeThm"
      },
      "execution_count": null,
      "outputs": []
    },
    {
      "cell_type": "code",
      "source": [
        "layer = tf.keras.layers.MultiHeadAttention(num_heads = 2, key_dim=2)\n",
        "target = tf.keras.Input(shape=[8, 16])\n",
        "source = tf.keras.Input(shape=[4, 16])\n",
        "output_tensor, weights = layer(target, source, return_attention_scores=True)\n",
        "print(output_tensor.shape)\n",
        "print(weights.shape)"
      ],
      "metadata": {
        "colab": {
          "base_uri": "https://localhost:8080/"
        },
        "id": "KW8SE0EPfjfe",
        "outputId": "3d2845b1-d820-4ce5-81bf-0522cba54b74"
      },
      "execution_count": null,
      "outputs": [
        {
          "output_type": "stream",
          "name": "stdout",
          "text": [
            "(None, 8, 16)\n",
            "(None, 2, 8, 4)\n"
          ]
        }
      ]
    },
    {
      "cell_type": "code",
      "source": [
        "layer = tf.keras.layers.MultiHeadAttention(\n",
        "    num_heads=2, key_dim=2, attention_axes=(2,3))\n",
        "input_tensor = tf.keras.Input(shape=[5, 3, 4, 16])\n",
        "output_tensor = layer(input_tensor, input_tensor)\n",
        "print(output_tensor.shape)"
      ],
      "metadata": {
        "colab": {
          "base_uri": "https://localhost:8080/"
        },
        "id": "lvvSFRAvgJNK",
        "outputId": "3c282385-eb9b-429c-87d2-572a1b1a3252"
      },
      "execution_count": null,
      "outputs": [
        {
          "output_type": "stream",
          "name": "stdout",
          "text": [
            "(None, 5, 3, 4, 16)\n"
          ]
        }
      ]
    },
    {
      "cell_type": "markdown",
      "source": [
        "注意力层"
      ],
      "metadata": {
        "id": "gzxctF3VhaQm"
      }
    },
    {
      "cell_type": "code",
      "source": [
        "tf.keras.layers.Attention(use_scale=False, score_mode=\"dot\", **kwargs)"
      ],
      "metadata": {
        "id": "rwKvtsKrgr6V"
      },
      "execution_count": null,
      "outputs": []
    },
    {
      "cell_type": "code",
      "source": [
        "# CNN+Attention实例\n",
        "query_input = tf.keras.Input(shape=(None,), dtype='int32')\n",
        "value_input = tf.keras.Input(shape=(None,), dtype='int32')\n",
        "\n",
        "token_embedding = tf.keras.layers.Embedding(input_dim=1000, output_dim=64)\n",
        "query_embeddings = token_embedding(query_input)\n",
        "value_embeddings = token_embedding(value_input)\n",
        "\n",
        "# CNNlayer\n",
        "cnn_layer = tf.keras.layers.Conv1D(\n",
        "    filters=100,\n",
        "    kernel_size=4,\n",
        "    padding='same')\n",
        "query_seq_encoding = cnn_layer(query_embeddings)\n",
        "value_seq_encoding = cnn_layer(value_embeddings)\n",
        "\n",
        "query_value_attention_seq = tf.keras.layers.Attention()(\n",
        "    [query_seq_encoding, value_seq_encoding])\n",
        "\n",
        "query_encoding = tf.keras.layers.GlobalAveragePooling1D()(\n",
        "    query_seq_encoding)\n",
        "query_value_attention = tf.keras.layers.GlobalAveragePooling1D()(\n",
        "    query_value_attention_seq)\n",
        "\n",
        "input_layer = tf.keras.layers.Concatenate()(\n",
        "    [query_encoding, query_value_attention])"
      ],
      "metadata": {
        "id": "NpXhedAehfD8"
      },
      "execution_count": null,
      "outputs": []
    },
    {
      "cell_type": "markdown",
      "source": [
        "附加注意力层"
      ],
      "metadata": {
        "id": "xvv5qWY1kE7a"
      }
    },
    {
      "cell_type": "code",
      "source": [
        "tf.keras.layers.AdditiveAttention(use_scale=True, **kwargs)"
      ],
      "metadata": {
        "id": "J0BxiRCTkER7"
      },
      "execution_count": null,
      "outputs": []
    },
    {
      "cell_type": "markdown",
      "source": [
        "# 重塑图层"
      ],
      "metadata": {
        "id": "-LITT6kCr1eZ"
      }
    },
    {
      "cell_type": "markdown",
      "source": [
        "reshape类"
      ],
      "metadata": {
        "id": "jZVU4wCpsAUy"
      }
    },
    {
      "cell_type": "code",
      "source": [
        "import tensorflow as tf"
      ],
      "metadata": {
        "id": "aaQWd7uysHRF"
      },
      "execution_count": 1,
      "outputs": []
    },
    {
      "cell_type": "code",
      "source": [
        "tf.keras.layers.Reshape(target_shape, **kwargs)"
      ],
      "metadata": {
        "id": "YQ_GUW4okJps"
      },
      "execution_count": null,
      "outputs": []
    },
    {
      "cell_type": "code",
      "source": [
        "model = tf.keras.Sequential()\n",
        "model.add(tf.keras.layers.Reshape((3, 4), input_shape=(12,)))\n",
        "model.output_shape"
      ],
      "metadata": {
        "colab": {
          "base_uri": "https://localhost:8080/"
        },
        "id": "dJFvtABcsE9n",
        "outputId": "abd76677-0053-4f17-95f4-ecfe7ca94fb8"
      },
      "execution_count": 2,
      "outputs": [
        {
          "output_type": "execute_result",
          "data": {
            "text/plain": [
              "(None, 3, 4)"
            ]
          },
          "metadata": {},
          "execution_count": 2
        }
      ]
    },
    {
      "cell_type": "code",
      "source": [
        "model.add(tf.keras.layers.Reshape((6, 2)))\n",
        "model.output_shape"
      ],
      "metadata": {
        "colab": {
          "base_uri": "https://localhost:8080/"
        },
        "id": "mHwjTHwAsZoS",
        "outputId": "e003907d-3386-4f84-bdc6-c1b76747df19"
      },
      "execution_count": 3,
      "outputs": [
        {
          "output_type": "execute_result",
          "data": {
            "text/plain": [
              "(None, 6, 2)"
            ]
          },
          "metadata": {},
          "execution_count": 3
        }
      ]
    },
    {
      "cell_type": "code",
      "source": [
        "model.add(tf.keras.layers.Reshape((-1, 2, 2)))"
      ],
      "metadata": {
        "id": "XUVwWwPnsgU6"
      },
      "execution_count": 4,
      "outputs": []
    },
    {
      "cell_type": "code",
      "source": [
        "model.output_shape"
      ],
      "metadata": {
        "colab": {
          "base_uri": "https://localhost:8080/"
        },
        "id": "r7pJR1CAskkL",
        "outputId": "b60c2dc9-6ee8-404e-97a8-03fc10070283"
      },
      "execution_count": 5,
      "outputs": [
        {
          "output_type": "execute_result",
          "data": {
            "text/plain": [
              "(None, 3, 2, 2)"
            ]
          },
          "metadata": {},
          "execution_count": 5
        }
      ]
    },
    {
      "cell_type": "markdown",
      "source": [
        "Flatttn类"
      ],
      "metadata": {
        "id": "POJnOciisr5y"
      }
    },
    {
      "cell_type": "code",
      "source": [
        "tf.keras.layers.Flatten(data_format=None, **kwargs)"
      ],
      "metadata": {
        "id": "llf76Cc6soDp"
      },
      "execution_count": null,
      "outputs": []
    },
    {
      "cell_type": "code",
      "source": [
        "model = tf.keras.Sequential()\n",
        "model.add(tf.keras.layers.Conv2D(64, 3, 3, input_shape=(3, 32, 32)))\n",
        "model.output_shape"
      ],
      "metadata": {
        "colab": {
          "base_uri": "https://localhost:8080/"
        },
        "id": "a-m0i11Rsv0y",
        "outputId": "967ac3bf-5727-4252-d60b-ffe509330b5d"
      },
      "execution_count": 7,
      "outputs": [
        {
          "output_type": "execute_result",
          "data": {
            "text/plain": [
              "(None, 1, 10, 64)"
            ]
          },
          "metadata": {},
          "execution_count": 7
        }
      ]
    },
    {
      "cell_type": "code",
      "source": [
        "model.add(tf.keras.layers.Flatten())\n",
        "model.output_shape"
      ],
      "metadata": {
        "colab": {
          "base_uri": "https://localhost:8080/"
        },
        "id": "8_ncr-r1tAuj",
        "outputId": "a2b678cf-cbca-4df9-f301-bd7e23c0fdcb"
      },
      "execution_count": 8,
      "outputs": [
        {
          "output_type": "execute_result",
          "data": {
            "text/plain": [
              "(None, 640)"
            ]
          },
          "metadata": {},
          "execution_count": 8
        }
      ]
    },
    {
      "cell_type": "markdown",
      "source": [
        "RepeatVector layer"
      ],
      "metadata": {
        "id": "STsWfEcguGcF"
      }
    },
    {
      "cell_type": "code",
      "source": [
        "tf.keras.layers.RepeatVector(n, **kwargs)"
      ],
      "metadata": {
        "id": "LjB71Htvt_BK"
      },
      "execution_count": null,
      "outputs": []
    },
    {
      "cell_type": "code",
      "source": [
        "model = tf.keras.Sequential()\n",
        "model.add(tf.keras.layers.Dense(32, input_dim = 32))\n",
        "model.add(tf.keras.layers.RepeatVector(3))\n",
        "model.output_shape"
      ],
      "metadata": {
        "colab": {
          "base_uri": "https://localhost:8080/"
        },
        "id": "bIkVxExJuLg9",
        "outputId": "d8310096-0e60-4d8d-8190-3ba6189d6331"
      },
      "execution_count": 10,
      "outputs": [
        {
          "output_type": "execute_result",
          "data": {
            "text/plain": [
              "(None, 3, 32)"
            ]
          },
          "metadata": {},
          "execution_count": 10
        }
      ]
    },
    {
      "cell_type": "markdown",
      "source": [
        "Permute layer"
      ],
      "metadata": {
        "id": "AOUd29EFuk-Q"
      }
    },
    {
      "cell_type": "code",
      "source": [
        "tf.keras.layers.Permute(dims, **kwargs)"
      ],
      "metadata": {
        "id": "KbgriInSub5k"
      },
      "execution_count": null,
      "outputs": []
    },
    {
      "cell_type": "code",
      "source": [
        "model = tf.keras.Sequential()\n",
        "model.add(tf.keras.layers.Permute((2, 1), input_shape=(10, 64)))\n",
        "model.output_shape"
      ],
      "metadata": {
        "colab": {
          "base_uri": "https://localhost:8080/"
        },
        "id": "jph80rTFurb0",
        "outputId": "0cb460e2-ad6d-4ee8-f604-3020b42c05e8"
      },
      "execution_count": 12,
      "outputs": [
        {
          "output_type": "execute_result",
          "data": {
            "text/plain": [
              "(None, 64, 10)"
            ]
          },
          "metadata": {},
          "execution_count": 12
        }
      ]
    },
    {
      "cell_type": "markdown",
      "source": [
        "裁剪一维图形"
      ],
      "metadata": {
        "id": "PACu8E2rvKLr"
      }
    },
    {
      "cell_type": "markdown",
      "source": [
        "裁剪图像时，分别在轴的首尾进行参数个的裁剪"
      ],
      "metadata": {
        "id": "wX60h8Bs0uSJ"
      }
    },
    {
      "cell_type": "code",
      "source": [
        "tf.keras.layers.Cropping1D(cropping=(1, 1), **kwargs)"
      ],
      "metadata": {
        "id": "tSqixQ5Eu5Uq"
      },
      "execution_count": null,
      "outputs": []
    },
    {
      "cell_type": "code",
      "source": [
        "import numpy as np"
      ],
      "metadata": {
        "id": "jDHKnTe6vUK4"
      },
      "execution_count": 13,
      "outputs": []
    },
    {
      "cell_type": "code",
      "source": [
        "input_shape = (2, 3, 2)\n",
        "x = np.arange(np.prod(input_shape)).reshape(input_shape)\n",
        "x"
      ],
      "metadata": {
        "colab": {
          "base_uri": "https://localhost:8080/"
        },
        "id": "o6no5dTSvOEF",
        "outputId": "5032dad0-2685-4e28-bf0d-9bf03ee14ab6"
      },
      "execution_count": 14,
      "outputs": [
        {
          "output_type": "execute_result",
          "data": {
            "text/plain": [
              "array([[[ 0,  1],\n",
              "        [ 2,  3],\n",
              "        [ 4,  5]],\n",
              "\n",
              "       [[ 6,  7],\n",
              "        [ 8,  9],\n",
              "        [10, 11]]])"
            ]
          },
          "metadata": {},
          "execution_count": 14
        }
      ]
    },
    {
      "cell_type": "code",
      "source": [
        "y = tf.keras.layers.Cropping1D(cropping=1)(x)\n",
        "y"
      ],
      "metadata": {
        "colab": {
          "base_uri": "https://localhost:8080/"
        },
        "id": "vxA37ZkNvcFk",
        "outputId": "5f7dfdd5-5317-4739-a48a-49853e439b2c"
      },
      "execution_count": 18,
      "outputs": [
        {
          "output_type": "execute_result",
          "data": {
            "text/plain": [
              "<tf.Tensor: shape=(2, 1, 2), dtype=int64, numpy=\n",
              "array([[[2, 3]],\n",
              "\n",
              "       [[8, 9]]])>"
            ]
          },
          "metadata": {},
          "execution_count": 18
        }
      ]
    },
    {
      "cell_type": "markdown",
      "source": [
        "裁剪二维图像"
      ],
      "metadata": {
        "id": "4T9VEcSlw3KZ"
      }
    },
    {
      "cell_type": "code",
      "source": [
        "tf.keras.layers.Cropping2D(\n",
        "    cropping=((0, 0), (0, 0)), data_format=None, **kwargs\n",
        ")"
      ],
      "metadata": {
        "id": "ZQpnrSbfw01p"
      },
      "execution_count": null,
      "outputs": []
    },
    {
      "cell_type": "code",
      "source": [
        "input_shape = (2, 28, 28, 3)\n",
        "x = np.arange(np.prod(input_shape)).reshape(input_shape)\n",
        "y = tf.keras.layers.Cropping2D(cropping=((2, 2), (4, 4)))(x)\n",
        "y.shape"
      ],
      "metadata": {
        "colab": {
          "base_uri": "https://localhost:8080/"
        },
        "id": "Xi9UiaqTxPVz",
        "outputId": "0158171a-3f27-454c-a20b-b6b71d8dcccf"
      },
      "execution_count": 19,
      "outputs": [
        {
          "output_type": "execute_result",
          "data": {
            "text/plain": [
              "TensorShape([2, 24, 20, 3])"
            ]
          },
          "metadata": {},
          "execution_count": 19
        }
      ]
    },
    {
      "cell_type": "markdown",
      "source": [
        "裁剪三维图像"
      ],
      "metadata": {
        "id": "1DTaEUiEyttT"
      }
    },
    {
      "cell_type": "code",
      "source": [
        "tf.keras.layers.Cropping3D(\n",
        "    cropping=((1, 1), (1, 1), (1, 1)), data_format=None, **kwargs\n",
        ")"
      ],
      "metadata": {
        "id": "2pmfjgUUvmf7"
      },
      "execution_count": null,
      "outputs": []
    },
    {
      "cell_type": "code",
      "source": [
        "input_shape = (2, 28, 28, 10, 3)\n",
        "x = np.arange(np.prod(input_shape)).reshape(input_shape)\n",
        "y = tf.keras.layers.Cropping3D(cropping=(2, 4, 2))(x)\n",
        "y.shape"
      ],
      "metadata": {
        "colab": {
          "base_uri": "https://localhost:8080/"
        },
        "id": "Xr8pcrQbyzg2",
        "outputId": "95a810ee-0b9d-41c3-f2c4-adec7987a813"
      },
      "execution_count": 20,
      "outputs": [
        {
          "output_type": "execute_result",
          "data": {
            "text/plain": [
              "TensorShape([2, 24, 20, 6, 3])"
            ]
          },
          "metadata": {},
          "execution_count": 20
        }
      ]
    },
    {
      "cell_type": "markdown",
      "source": [
        "上采样一维层"
      ],
      "metadata": {
        "id": "w7QfWV5q06cs"
      }
    },
    {
      "cell_type": "code",
      "source": [
        "tf.keras.layers.UpSampling1D(size=2, **kwargs)\n"
      ],
      "metadata": {
        "id": "J-gN-5yUzICj"
      },
      "execution_count": null,
      "outputs": []
    },
    {
      "cell_type": "code",
      "source": [
        "input_shape = (2, 2, 3)\n",
        "x = np.arange(np.prod(input_shape)).reshape(input_shape)\n",
        "x"
      ],
      "metadata": {
        "colab": {
          "base_uri": "https://localhost:8080/"
        },
        "id": "vwzrRhGu0-SX",
        "outputId": "ff384cf4-08ec-49b4-ba50-7496e53ec58c"
      },
      "execution_count": 21,
      "outputs": [
        {
          "output_type": "execute_result",
          "data": {
            "text/plain": [
              "array([[[ 0,  1,  2],\n",
              "        [ 3,  4,  5]],\n",
              "\n",
              "       [[ 6,  7,  8],\n",
              "        [ 9, 10, 11]]])"
            ]
          },
          "metadata": {},
          "execution_count": 21
        }
      ]
    },
    {
      "cell_type": "code",
      "source": [
        "y = tf.keras.layers.UpSampling1D(size=3)(x)\n",
        "y"
      ],
      "metadata": {
        "colab": {
          "base_uri": "https://localhost:8080/"
        },
        "id": "B2D6plnQ1Go-",
        "outputId": "96b02099-55a4-4191-a86b-ee5bf6594ae1"
      },
      "execution_count": 24,
      "outputs": [
        {
          "output_type": "execute_result",
          "data": {
            "text/plain": [
              "<tf.Tensor: shape=(2, 6, 3), dtype=int64, numpy=\n",
              "array([[[ 0,  1,  2],\n",
              "        [ 0,  1,  2],\n",
              "        [ 0,  1,  2],\n",
              "        [ 3,  4,  5],\n",
              "        [ 3,  4,  5],\n",
              "        [ 3,  4,  5]],\n",
              "\n",
              "       [[ 6,  7,  8],\n",
              "        [ 6,  7,  8],\n",
              "        [ 6,  7,  8],\n",
              "        [ 9, 10, 11],\n",
              "        [ 9, 10, 11],\n",
              "        [ 9, 10, 11]]])>"
            ]
          },
          "metadata": {},
          "execution_count": 24
        }
      ]
    },
    {
      "cell_type": "markdown",
      "source": [
        "上采样二维"
      ],
      "metadata": {
        "id": "1rzAS8E91dKj"
      }
    },
    {
      "cell_type": "code",
      "source": [
        "tf.keras.layers.UpSampling2D(\n",
        "    size=(2, 2), data_format=None, interpolation=\"nearest\", **kwargs\n",
        ")"
      ],
      "metadata": {
        "id": "EYdwezaA1Ot-"
      },
      "execution_count": null,
      "outputs": []
    },
    {
      "cell_type": "code",
      "source": [
        "input_shape = (2, 2, 1, 3)\n",
        "x = np.arange(np.prod(input_shape)).reshape(input_shape)\n",
        "x"
      ],
      "metadata": {
        "colab": {
          "base_uri": "https://localhost:8080/"
        },
        "id": "_OW3SbCn1sAQ",
        "outputId": "848cf8f2-e1ef-46db-96e8-2b80af88baa1"
      },
      "execution_count": 25,
      "outputs": [
        {
          "output_type": "execute_result",
          "data": {
            "text/plain": [
              "array([[[[ 0,  1,  2]],\n",
              "\n",
              "        [[ 3,  4,  5]]],\n",
              "\n",
              "\n",
              "       [[[ 6,  7,  8]],\n",
              "\n",
              "        [[ 9, 10, 11]]]])"
            ]
          },
          "metadata": {},
          "execution_count": 25
        }
      ]
    },
    {
      "cell_type": "code",
      "source": [
        "y = tf.keras.layers.UpSampling2D(size=(1, 2))(x)\n",
        "y"
      ],
      "metadata": {
        "colab": {
          "base_uri": "https://localhost:8080/"
        },
        "id": "Y9jkFzz512Ad",
        "outputId": "fb695a35-6a95-4fa9-e8f9-5559fcc69e23"
      },
      "execution_count": 31,
      "outputs": [
        {
          "output_type": "execute_result",
          "data": {
            "text/plain": [
              "<tf.Tensor: shape=(2, 2, 2, 3), dtype=int64, numpy=\n",
              "array([[[[ 0,  1,  2],\n",
              "         [ 0,  1,  2]],\n",
              "\n",
              "        [[ 3,  4,  5],\n",
              "         [ 3,  4,  5]]],\n",
              "\n",
              "\n",
              "       [[[ 6,  7,  8],\n",
              "         [ 6,  7,  8]],\n",
              "\n",
              "        [[ 9, 10, 11],\n",
              "         [ 9, 10, 11]]]])>"
            ]
          },
          "metadata": {},
          "execution_count": 31
        }
      ]
    },
    {
      "cell_type": "markdown",
      "source": [
        "上采样三维图像"
      ],
      "metadata": {
        "id": "ZyxYp2AS2sfP"
      }
    },
    {
      "cell_type": "code",
      "source": [
        "tf.keras.layers.UpSampling3D(size=(2, 2, 2), data_format=None, **kwargs)\n"
      ],
      "metadata": {
        "id": "NHECeR_J1-Hy"
      },
      "execution_count": null,
      "outputs": []
    },
    {
      "cell_type": "code",
      "source": [
        "input_shape = (2, 1, 2, 1, 3)\n",
        "x = tf.constant(1, shape=input_shape)\n",
        "y = tf.keras.layers.UpSampling3D(size=2)(x)\n",
        "y.shape"
      ],
      "metadata": {
        "colab": {
          "base_uri": "https://localhost:8080/"
        },
        "id": "iUvnMNBJ2v5x",
        "outputId": "c9ea3258-5de4-48a5-ab93-799e0cadf9c0"
      },
      "execution_count": 32,
      "outputs": [
        {
          "output_type": "execute_result",
          "data": {
            "text/plain": [
              "TensorShape([2, 2, 4, 2, 3])"
            ]
          },
          "metadata": {},
          "execution_count": 32
        }
      ]
    },
    {
      "cell_type": "markdown",
      "source": [
        "ZeroPadding1D layer"
      ],
      "metadata": {
        "id": "KCTNi_8Q3PuC"
      }
    },
    {
      "cell_type": "code",
      "source": [
        "tf.keras.layers.ZeroPadding1D(padding=1, **kwargs)"
      ],
      "metadata": {
        "id": "By4C-8My27mY"
      },
      "execution_count": null,
      "outputs": []
    },
    {
      "cell_type": "code",
      "source": [
        "input_shape = (2, 2, 3)\n",
        "x = np.arange(np.prod(input_shape)).reshape(input_shape)\n",
        "x"
      ],
      "metadata": {
        "colab": {
          "base_uri": "https://localhost:8080/"
        },
        "id": "zYyEypS53Ubb",
        "outputId": "4d8744d0-f562-49e9-c258-7f289588368e"
      },
      "execution_count": 33,
      "outputs": [
        {
          "output_type": "execute_result",
          "data": {
            "text/plain": [
              "array([[[ 0,  1,  2],\n",
              "        [ 3,  4,  5]],\n",
              "\n",
              "       [[ 6,  7,  8],\n",
              "        [ 9, 10, 11]]])"
            ]
          },
          "metadata": {},
          "execution_count": 33
        }
      ]
    },
    {
      "cell_type": "code",
      "source": [
        "y = tf.keras.layers.ZeroPadding1D(padding=2)(x)\n",
        "y"
      ],
      "metadata": {
        "colab": {
          "base_uri": "https://localhost:8080/"
        },
        "id": "3K-XoP1D3axq",
        "outputId": "52f089d4-acb7-4290-b90d-21feeb82bfa0"
      },
      "execution_count": 34,
      "outputs": [
        {
          "output_type": "execute_result",
          "data": {
            "text/plain": [
              "<tf.Tensor: shape=(2, 6, 3), dtype=int64, numpy=\n",
              "array([[[ 0,  0,  0],\n",
              "        [ 0,  0,  0],\n",
              "        [ 0,  1,  2],\n",
              "        [ 3,  4,  5],\n",
              "        [ 0,  0,  0],\n",
              "        [ 0,  0,  0]],\n",
              "\n",
              "       [[ 0,  0,  0],\n",
              "        [ 0,  0,  0],\n",
              "        [ 6,  7,  8],\n",
              "        [ 9, 10, 11],\n",
              "        [ 0,  0,  0],\n",
              "        [ 0,  0,  0]]])>"
            ]
          },
          "metadata": {},
          "execution_count": 34
        }
      ]
    },
    {
      "cell_type": "markdown",
      "source": [
        "ZeroPadding2D layer"
      ],
      "metadata": {
        "id": "chq4LsLq3noh"
      }
    },
    {
      "cell_type": "code",
      "source": [
        "tf.keras.layers.ZeroPadding2D(padding=(1, 1), data_format=None, **kwargs)"
      ],
      "metadata": {
        "id": "wPB97mqx3iLQ"
      },
      "execution_count": null,
      "outputs": []
    },
    {
      "cell_type": "code",
      "source": [
        "input_shape = (1, 1, 2, 2)\n",
        "x = np.arange(np.prod(input_shape)).reshape(input_shape)\n",
        "x"
      ],
      "metadata": {
        "colab": {
          "base_uri": "https://localhost:8080/"
        },
        "id": "kAJ-D9eq3r4H",
        "outputId": "24c0c6d5-bd4e-43d9-d143-07b1b5837190"
      },
      "execution_count": 35,
      "outputs": [
        {
          "output_type": "execute_result",
          "data": {
            "text/plain": [
              "array([[[[0, 1],\n",
              "         [2, 3]]]])"
            ]
          },
          "metadata": {},
          "execution_count": 35
        }
      ]
    },
    {
      "cell_type": "code",
      "source": [
        "y = tf.keras.layers.ZeroPadding2D(padding=1)(x)\n",
        "y"
      ],
      "metadata": {
        "colab": {
          "base_uri": "https://localhost:8080/"
        },
        "id": "ltSpHVFl3ywn",
        "outputId": "127456a3-e489-4679-9a6a-7c6c5c61c006"
      },
      "execution_count": 36,
      "outputs": [
        {
          "output_type": "execute_result",
          "data": {
            "text/plain": [
              "<tf.Tensor: shape=(1, 3, 4, 2), dtype=int64, numpy=\n",
              "array([[[[0, 0],\n",
              "         [0, 0],\n",
              "         [0, 0],\n",
              "         [0, 0]],\n",
              "\n",
              "        [[0, 0],\n",
              "         [0, 1],\n",
              "         [2, 3],\n",
              "         [0, 0]],\n",
              "\n",
              "        [[0, 0],\n",
              "         [0, 0],\n",
              "         [0, 0],\n",
              "         [0, 0]]]])>"
            ]
          },
          "metadata": {},
          "execution_count": 36
        }
      ]
    },
    {
      "cell_type": "markdown",
      "source": [
        "ZeroPadding3D layer"
      ],
      "metadata": {
        "id": "b91QuZFK4rUd"
      }
    },
    {
      "cell_type": "code",
      "source": [
        "tf.keras.layers.ZeroPadding3D(padding=(1, 1, 1), data_format=None, **kwargs)"
      ],
      "metadata": {
        "id": "qF1fzdCg368v"
      },
      "execution_count": null,
      "outputs": []
    },
    {
      "cell_type": "code",
      "source": [
        "input_shape = (1, 1, 2, 2, 3)\n",
        "x = np.arange(np.prod(input_shape)).reshape(input_shape)\n",
        "y = tf.keras.layers.ZeroPadding3D(padding=2)(x)\n",
        "y.shape"
      ],
      "metadata": {
        "colab": {
          "base_uri": "https://localhost:8080/"
        },
        "id": "wisUBaqS4ve4",
        "outputId": "71951b44-6ecd-42f3-de18-94ac5b023465"
      },
      "execution_count": 38,
      "outputs": [
        {
          "output_type": "execute_result",
          "data": {
            "text/plain": [
              "TensorShape([1, 5, 6, 6, 3])"
            ]
          },
          "metadata": {},
          "execution_count": 38
        }
      ]
    },
    {
      "cell_type": "markdown",
      "source": [
        "# 聚合图层"
      ],
      "metadata": {
        "id": "UCVbNveq5LtZ"
      }
    },
    {
      "cell_type": "markdown",
      "source": [
        "Concatenate class"
      ],
      "metadata": {
        "id": "X47wlZFC5OuF"
      }
    },
    {
      "cell_type": "code",
      "source": [
        "tf.keras.layers.Concatenate(axis=-1, **kwargs)"
      ],
      "metadata": {
        "id": "9jRqtOxi4-Nx"
      },
      "execution_count": null,
      "outputs": []
    },
    {
      "cell_type": "code",
      "source": [
        "x = np.arange(20).reshape(2, 2, 5)\n",
        "x"
      ],
      "metadata": {
        "colab": {
          "base_uri": "https://localhost:8080/"
        },
        "id": "r122a_sk5WC1",
        "outputId": "1cc5d998-6ff0-487c-cbb4-fe7602178622"
      },
      "execution_count": 39,
      "outputs": [
        {
          "output_type": "execute_result",
          "data": {
            "text/plain": [
              "array([[[ 0,  1,  2,  3,  4],\n",
              "        [ 5,  6,  7,  8,  9]],\n",
              "\n",
              "       [[10, 11, 12, 13, 14],\n",
              "        [15, 16, 17, 18, 19]]])"
            ]
          },
          "metadata": {},
          "execution_count": 39
        }
      ]
    },
    {
      "cell_type": "code",
      "source": [
        "y = np.arange(20, 30).reshape(2, 1, 5)\n",
        "y"
      ],
      "metadata": {
        "colab": {
          "base_uri": "https://localhost:8080/"
        },
        "id": "WymS7UZc5ZRx",
        "outputId": "747b47de-c5fe-49e8-ec66-c57d861d5599"
      },
      "execution_count": 40,
      "outputs": [
        {
          "output_type": "execute_result",
          "data": {
            "text/plain": [
              "array([[[20, 21, 22, 23, 24]],\n",
              "\n",
              "       [[25, 26, 27, 28, 29]]])"
            ]
          },
          "metadata": {},
          "execution_count": 40
        }
      ]
    },
    {
      "cell_type": "code",
      "source": [
        "tf.keras.layers.Concatenate(axis=1)([x, y])"
      ],
      "metadata": {
        "colab": {
          "base_uri": "https://localhost:8080/"
        },
        "id": "TGyPnIOS5eTq",
        "outputId": "16ac9c62-5e46-4c1f-ef0f-30aba942a2c5"
      },
      "execution_count": 41,
      "outputs": [
        {
          "output_type": "execute_result",
          "data": {
            "text/plain": [
              "<tf.Tensor: shape=(2, 3, 5), dtype=int64, numpy=\n",
              "array([[[ 0,  1,  2,  3,  4],\n",
              "        [ 5,  6,  7,  8,  9],\n",
              "        [20, 21, 22, 23, 24]],\n",
              "\n",
              "       [[10, 11, 12, 13, 14],\n",
              "        [15, 16, 17, 18, 19],\n",
              "        [25, 26, 27, 28, 29]]])>"
            ]
          },
          "metadata": {},
          "execution_count": 41
        }
      ]
    },
    {
      "cell_type": "code",
      "source": [
        "x1 = tf.keras.layers.Dense(8)(np.arange(10).reshape(5, 2)) # (5, 8)\n",
        "x2 = tf.keras.layers.Dense(8)(np.arange(10, 20).reshape(5, 2)) # (5, 8)\n",
        "concatted = tf.keras.layers.Concatenate()([x1, x2])\n",
        "concatted.shape"
      ],
      "metadata": {
        "colab": {
          "base_uri": "https://localhost:8080/"
        },
        "id": "kw3XWIlp5lQp",
        "outputId": "60babdb5-8212-4982-cc5e-8949cf40afac"
      },
      "execution_count": 42,
      "outputs": [
        {
          "output_type": "execute_result",
          "data": {
            "text/plain": [
              "TensorShape([5, 16])"
            ]
          },
          "metadata": {},
          "execution_count": 42
        }
      ]
    },
    {
      "cell_type": "code",
      "source": [],
      "metadata": {
        "id": "rB2tgmeP6DNA"
      },
      "execution_count": null,
      "outputs": []
    }
  ]
}