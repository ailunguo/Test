{
  "nbformat": 4,
  "nbformat_minor": 0,
  "metadata": {
    "colab": {
      "provenance": [],
      "authorship_tag": "ABX9TyMsmtdjxROGq4OZz0IG0oHF",
      "include_colab_link": true
    },
    "kernelspec": {
      "name": "python3",
      "display_name": "Python 3"
    },
    "language_info": {
      "name": "python"
    }
  },
  "cells": [
    {
      "cell_type": "markdown",
      "metadata": {
        "id": "view-in-github",
        "colab_type": "text"
      },
      "source": [
        "<a href=\"https://colab.research.google.com/github/ailunguo/Test/blob/main/Tensorflow_Test/%E5%B1%82API.ipynb\" target=\"_parent\"><img src=\"https://colab.research.google.com/assets/colab-badge.svg\" alt=\"Open In Colab\"/></a>"
      ]
    },
    {
      "cell_type": "markdown",
      "source": [
        "# 层API"
      ],
      "metadata": {
        "id": "kusKEBXg40mc"
      }
    },
    {
      "cell_type": "markdown",
      "source": [
        "# 基础层类"
      ],
      "metadata": {
        "id": "iCt-VM-WGqwM"
      }
    },
    {
      "cell_type": "code",
      "source": [
        "import tensorflow as tf\n",
        "from tensorflow.keras import layers"
      ],
      "metadata": {
        "id": "Io06Qap54z37"
      },
      "execution_count": null,
      "outputs": []
    },
    {
      "cell_type": "code",
      "execution_count": null,
      "metadata": {
        "id": "-kp6wFxw3Zuw"
      },
      "outputs": [],
      "source": [
        "layer = layers.Dense(32, activation='relu')\n",
        "inputs = tf.random.uniform(shape=(10, 20))\n",
        "outputs = layer(inputs)"
      ]
    },
    {
      "cell_type": "code",
      "source": [
        "# 层维护一个状态，当层在训练期间接受数据时更新，并存储在layer.weights\n",
        "layer.weights"
      ],
      "metadata": {
        "colab": {
          "base_uri": "https://localhost:8080/"
        },
        "id": "GPd9i6905Mwc",
        "outputId": "77212a89-3f48-4662-8f70-5d7b7333f5b5"
      },
      "execution_count": null,
      "outputs": [
        {
          "output_type": "execute_result",
          "data": {
            "text/plain": [
              "[<tf.Variable 'dense/kernel:0' shape=(20, 32) dtype=float32, numpy=\n",
              " array([[-0.05567047,  0.31292653, -0.13742629, -0.2273688 ,  0.26214993,\n",
              "         -0.23777099, -0.04089954, -0.20524241,  0.30012488,  0.32383823,\n",
              "          0.30036312, -0.02244112,  0.08285853,  0.18708074,  0.1158919 ,\n",
              "         -0.2807782 , -0.2572527 , -0.19771299,  0.14625481,  0.30086982,\n",
              "          0.08598122,  0.03751105, -0.13985816,  0.0642311 , -0.1418638 ,\n",
              "         -0.33267656, -0.03955612,  0.3238871 , -0.03714079,  0.17921627,\n",
              "         -0.04312432, -0.27468476],\n",
              "        [ 0.32543623,  0.239528  , -0.00789338,  0.01627186,  0.26870483,\n",
              "         -0.0443435 ,  0.29473317, -0.08163288, -0.32503843, -0.25181764,\n",
              "          0.10047501,  0.19757944, -0.24360624,  0.10487357, -0.3163072 ,\n",
              "          0.20873171,  0.28273028, -0.04418761,  0.0934256 , -0.26690453,\n",
              "          0.19274998,  0.24786443,  0.3316276 ,  0.19501501,  0.08874011,\n",
              "          0.16809136, -0.28583744, -0.25757354, -0.14694855, -0.0962991 ,\n",
              "         -0.03703144,  0.21639383],\n",
              "        [-0.06588152, -0.3200648 ,  0.13504738, -0.07124189, -0.1596071 ,\n",
              "          0.03180197,  0.00862947,  0.32781994,  0.2336343 ,  0.3006189 ,\n",
              "         -0.14018388,  0.19301665,  0.14187884, -0.18232809, -0.13407075,\n",
              "          0.15867049, -0.20480047, -0.2868612 , -0.0733344 , -0.04304212,\n",
              "         -0.25512564, -0.27906144,  0.09036067, -0.03189656,  0.20635587,\n",
              "          0.2299487 , -0.00265142, -0.26447913,  0.08572125, -0.19109476,\n",
              "          0.07386819, -0.12273723],\n",
              "        [-0.32879454, -0.31108433, -0.1309211 , -0.29843688,  0.30739808,\n",
              "         -0.13507013,  0.33662587, -0.08540556,  0.1957975 , -0.01715332,\n",
              "          0.11404523, -0.1321206 ,  0.24553686,  0.1407575 ,  0.28764677,\n",
              "          0.30613667, -0.2653289 , -0.1011792 ,  0.07812274,  0.21905702,\n",
              "         -0.05844977,  0.31304657,  0.31537342, -0.07899958, -0.2507258 ,\n",
              "          0.11003876, -0.26517594,  0.12380567,  0.15046191,  0.08128592,\n",
              "          0.06733289,  0.10171428],\n",
              "        [-0.30994332,  0.03302374,  0.21017629,  0.18131125,  0.0574176 ,\n",
              "          0.07380074, -0.01889244,  0.28243512,  0.08812323, -0.3064233 ,\n",
              "          0.23778725, -0.11164366, -0.32249957,  0.10368735,  0.3125201 ,\n",
              "          0.09704271,  0.16878152, -0.19141942, -0.08318928,  0.07430762,\n",
              "          0.1387513 , -0.315934  ,  0.29187638, -0.23795386, -0.28705555,\n",
              "          0.01208842,  0.10905054, -0.07539722,  0.10781735,  0.06647247,\n",
              "          0.2163207 , -0.01673186],\n",
              "        [-0.07364362,  0.11751285,  0.22447175, -0.28898135, -0.25356364,\n",
              "          0.03319031,  0.12181607, -0.03544369, -0.3394834 , -0.11670882,\n",
              "          0.06256145,  0.10087582, -0.07499576, -0.2720546 ,  0.25981593,\n",
              "         -0.08413115, -0.2638948 ,  0.20756578, -0.12350798, -0.29205433,\n",
              "          0.16254199,  0.02171782, -0.03337181,  0.12873363,  0.14101544,\n",
              "         -0.32096708,  0.21538651,  0.31060565, -0.03504971,  0.06226683,\n",
              "          0.0539861 ,  0.24306273],\n",
              "        [-0.14814739,  0.31524622, -0.27038518,  0.16801792, -0.22447425,\n",
              "         -0.03291845, -0.18898319,  0.02541414,  0.18141198, -0.24730921,\n",
              "          0.19345057, -0.10515824,  0.01848978, -0.16740417,  0.26320738,\n",
              "         -0.10740303, -0.10717084,  0.23473907, -0.09476277, -0.16906749,\n",
              "         -0.2897278 ,  0.01171222, -0.1961416 ,  0.29445457,  0.18461329,\n",
              "         -0.22416392, -0.04281041,  0.23846722,  0.2364257 , -0.16788921,\n",
              "          0.1157096 , -0.08456078],\n",
              "        [-0.16692919, -0.04757002,  0.00075853, -0.3246404 ,  0.24259126,\n",
              "         -0.27548313,  0.23335946,  0.15317303,  0.21762836, -0.17098735,\n",
              "          0.17359191, -0.14565453,  0.14592463,  0.20191425, -0.22877142,\n",
              "         -0.24356568,  0.12059966,  0.02534369, -0.0793373 ,  0.2524569 ,\n",
              "          0.03601894, -0.32450473,  0.14254269,  0.3324288 , -0.07570261,\n",
              "          0.23660553, -0.19596627, -0.13810787,  0.15033591,  0.19361115,\n",
              "          0.2146678 ,  0.06345978],\n",
              "        [ 0.04324806, -0.14002417,  0.2382986 ,  0.11008239,  0.18187463,\n",
              "          0.06609207, -0.04571655, -0.23403864, -0.2598075 , -0.27801389,\n",
              "          0.18407995,  0.3211525 ,  0.26408958,  0.17116058, -0.08879307,\n",
              "          0.3213895 ,  0.18734848, -0.12707333, -0.04128948,  0.14719135,\n",
              "         -0.03396416,  0.02119082, -0.17105287, -0.05583739, -0.26327503,\n",
              "         -0.1209155 , -0.17639728,  0.0507535 , -0.22464101,  0.06293693,\n",
              "          0.2575202 ,  0.18964398],\n",
              "        [-0.13209379,  0.08708686,  0.24808401, -0.2878269 , -0.06468663,\n",
              "         -0.29730088,  0.26889026, -0.24820451,  0.14598861,  0.16663677,\n",
              "          0.21135062,  0.04750124, -0.27240783, -0.29002535,  0.2806514 ,\n",
              "          0.06173533, -0.3165635 , -0.28031886,  0.12879115, -0.01871443,\n",
              "         -0.03289869,  0.20443487, -0.2997716 ,  0.01975617,  0.25809568,\n",
              "         -0.31609255,  0.2646364 ,  0.25907868, -0.1595313 , -0.16816707,\n",
              "          0.26603252,  0.3119799 ],\n",
              "        [ 0.08064201, -0.19220653, -0.2765774 , -0.31006205,  0.09882775,\n",
              "         -0.0956452 , -0.03861958, -0.14090134, -0.12131648, -0.20284463,\n",
              "          0.26153183, -0.07898647,  0.2857262 ,  0.2930643 ,  0.10032529,\n",
              "          0.18610758,  0.28261483,  0.10023302,  0.1992209 ,  0.04191253,\n",
              "         -0.18311788,  0.2821868 ,  0.02991286,  0.21131504, -0.23477416,\n",
              "         -0.22265205, -0.09510285,  0.2414257 ,  0.13891983, -0.00164646,\n",
              "         -0.30785945,  0.2652951 ],\n",
              "        [ 0.15511939, -0.16563947, -0.18676892,  0.09903061,  0.26180804,\n",
              "         -0.0532991 , -0.26648378, -0.06224245, -0.19262248,  0.03467563,\n",
              "          0.18788975, -0.25234982, -0.06222174,  0.19523412,  0.25645733,\n",
              "         -0.33484286, -0.04572001,  0.19892704, -0.33817264,  0.23172498,\n",
              "         -0.16226484,  0.15257794,  0.17609745, -0.28745627, -0.15057789,\n",
              "          0.22853714,  0.04384574,  0.16387933, -0.23593956, -0.29690284,\n",
              "         -0.20723437, -0.20326853],\n",
              "        [ 0.01275605,  0.2224986 , -0.06207448, -0.31129012,  0.3029884 ,\n",
              "         -0.11689006,  0.10587797, -0.28595245,  0.01170444,  0.05563524,\n",
              "          0.22215539, -0.09604293,  0.14422917, -0.09384714, -0.09375344,\n",
              "          0.11626637, -0.11254738,  0.22706163,  0.3067569 ,  0.28477663,\n",
              "          0.10947832,  0.2811967 , -0.33637822, -0.14902188,  0.10635328,\n",
              "         -0.29224187,  0.30012167, -0.00666052, -0.3233599 ,  0.02867126,\n",
              "          0.04804435, -0.07842517],\n",
              "        [ 0.29721367,  0.02887809, -0.3115526 , -0.08069488, -0.22565576,\n",
              "         -0.14896479,  0.18467146,  0.09910351,  0.32950115,  0.18794817,\n",
              "         -0.26668787, -0.04076597, -0.17095764, -0.09600228,  0.10627708,\n",
              "         -0.00685349,  0.08069748,  0.17484063, -0.15590146,  0.3191148 ,\n",
              "         -0.17936592, -0.29835752, -0.20177108,  0.07578263,  0.31242526,\n",
              "          0.286587  , -0.18892908,  0.24737519, -0.1132625 ,  0.03906268,\n",
              "         -0.19297057,  0.18187791],\n",
              "        [-0.08939546,  0.1024996 , -0.28592807,  0.29552126, -0.17890729,\n",
              "          0.03068742,  0.23915929, -0.12980397, -0.02006075,  0.17593324,\n",
              "          0.21946687, -0.21696678, -0.31660813,  0.25079536,  0.31616187,\n",
              "          0.18904674, -0.2578613 ,  0.03666124,  0.22125036, -0.13957421,\n",
              "         -0.03811416,  0.06374866, -0.22736701, -0.33420986, -0.01800853,\n",
              "         -0.2581826 , -0.26222026, -0.33317396,  0.10776576, -0.12432303,\n",
              "          0.08496687, -0.28211787],\n",
              "        [-0.0253692 ,  0.04758483,  0.03193018, -0.27406123,  0.02483824,\n",
              "          0.07919484,  0.3133073 ,  0.25138324,  0.1663968 ,  0.03958869,\n",
              "         -0.04511133,  0.2744519 , -0.27671057,  0.02564624, -0.31387594,\n",
              "          0.15044305, -0.08637732,  0.04336736,  0.09324703,  0.06131524,\n",
              "          0.18984091,  0.27084434, -0.33362627, -0.18458755,  0.28544182,\n",
              "         -0.2862124 , -0.05886805,  0.08335984, -0.035088  , -0.10612515,\n",
              "          0.19495052, -0.0154548 ],\n",
              "        [-0.3191239 , -0.2498688 ,  0.129121  ,  0.33143234,  0.16239792,\n",
              "         -0.00784883,  0.2362274 , -0.30218917, -0.33811253, -0.14719677,\n",
              "          0.14320794, -0.03477564,  0.26508105, -0.1676648 , -0.12927245,\n",
              "         -0.21631104, -0.05058458,  0.24131602,  0.2817294 ,  0.24704885,\n",
              "          0.23591548, -0.2073296 ,  0.04595771,  0.02230376, -0.21686676,\n",
              "          0.14268985,  0.2523179 , -0.20328164,  0.3319791 ,  0.3396333 ,\n",
              "         -0.26235905, -0.03783911],\n",
              "        [ 0.14352158, -0.20335226, -0.26471084, -0.3029927 , -0.0665414 ,\n",
              "          0.09278977,  0.05303612, -0.07336009,  0.33760148,  0.29470062,\n",
              "          0.03035456, -0.17826386,  0.01321703, -0.21665555,  0.14744976,\n",
              "         -0.26602063,  0.24504244, -0.31905594, -0.19826694, -0.03283381,\n",
              "         -0.19585742, -0.23479342,  0.13817614,  0.20594984, -0.24814904,\n",
              "          0.27921128, -0.10701737, -0.23885508, -0.33080268, -0.13476725,\n",
              "          0.03893131,  0.07594568],\n",
              "        [-0.2553732 ,  0.25076944, -0.18695982,  0.03562105,  0.11451018,\n",
              "         -0.26805347,  0.11713836, -0.15374641, -0.29267848, -0.18575019,\n",
              "         -0.22338799,  0.23642677, -0.00372994, -0.09438409, -0.17556757,\n",
              "         -0.28000924, -0.00348285,  0.08181664, -0.33617282, -0.19384417,\n",
              "         -0.2873088 , -0.14534743,  0.25584108,  0.2425378 ,  0.04270101,\n",
              "          0.17912322,  0.23082048, -0.28490204,  0.23411119,  0.0220817 ,\n",
              "         -0.12520975, -0.30760765],\n",
              "        [-0.1955027 ,  0.21433115,  0.32150435, -0.14244762,  0.31126702,\n",
              "         -0.08687928, -0.10097009,  0.32478315, -0.00820452, -0.15919098,\n",
              "          0.08216512,  0.26107633,  0.14758155,  0.05786431,  0.06830117,\n",
              "         -0.19961399, -0.3237893 ,  0.3136055 , -0.04181492,  0.24823707,\n",
              "         -0.23141393, -0.12588218,  0.00222161,  0.06676799, -0.00860217,\n",
              "          0.26070005, -0.33391872,  0.32821393, -0.13829276,  0.14507806,\n",
              "         -0.03916025,  0.22885108]], dtype=float32)>,\n",
              " <tf.Variable 'dense/bias:0' shape=(32,) dtype=float32, numpy=\n",
              " array([0., 0., 0., 0., 0., 0., 0., 0., 0., 0., 0., 0., 0., 0., 0., 0., 0.,\n",
              "        0., 0., 0., 0., 0., 0., 0., 0., 0., 0., 0., 0., 0., 0., 0.],\n",
              "       dtype=float32)>]"
            ]
          },
          "metadata": {},
          "execution_count": 6
        }
      ]
    },
    {
      "cell_type": "markdown",
      "source": [
        "## 基础层类"
      ],
      "metadata": {
        "id": "CCPofTmF6DuT"
      }
    },
    {
      "cell_type": "code",
      "source": [
        "# Layer类\n",
        "tf.keras.layers.Layer(\n",
        "    trainable==True, name=None, dtype=None, dynamic=False, **kwargs\n",
        ")\n",
        "# dynamic：布尔值，False则生成静态计算图，True就是要急切的运行"
      ],
      "metadata": {
        "id": "kQYLE9y05cbU"
      },
      "execution_count": null,
      "outputs": []
    },
    {
      "cell_type": "code",
      "source": [
        "# 实例\n",
        "class SimpleDense(layers.Layer):\n",
        "\n",
        "  def __init__(self, units=32):\n",
        "    super(SimpleDense, self).__init__()\n",
        "    self.units = units\n",
        "\n",
        "  def build(self, input_shape):\n",
        "    w_init = tf.random_normal_initializer()\n",
        "    self.w = tf.Variable(\n",
        "        initial_value=w_init(shape=(input_shape[-1], self.units),\n",
        "                     dtype='float32'),\n",
        "        trainable=True)\n",
        "    b_init = tf.zeros_initializer()\n",
        "    self.b = tf.Variable(\n",
        "        initial_value=b_init(shape=(self.units,), dtype='float32'),\n",
        "        trainable=False)\n",
        "\n",
        "  def call(self, inputs):\n",
        "    return tf.matmul(inputs, self.w) + self.b\n",
        "\n",
        "linear_layer = SimpleDense(4)\n",
        "\n",
        "y = linear_layer(tf.ones((2, 2)))\n",
        "assert len(linear_layer.weights) == 2\n",
        "\n",
        "assert len(linear_layer.trainable_weights) == 1"
      ],
      "metadata": {
        "id": "PcjbRHDL8CHj"
      },
      "execution_count": null,
      "outputs": []
    },
    {
      "cell_type": "code",
      "source": [
        "tf.random_normal_initializer()(shape=(2, 2), dtype='float32')"
      ],
      "metadata": {
        "colab": {
          "base_uri": "https://localhost:8080/"
        },
        "id": "fKMCZmHn-bwV",
        "outputId": "2a685f83-5896-416b-fe05-a4800d729fe3"
      },
      "execution_count": null,
      "outputs": [
        {
          "output_type": "execute_result",
          "data": {
            "text/plain": [
              "<tf.Tensor: shape=(2, 2), dtype=float32, numpy=\n",
              "array([[-0.00342907, -0.00129643],\n",
              "       [ 0.0324378 ,  0.05942843]], dtype=float32)>"
            ]
          },
          "metadata": {},
          "execution_count": 9
        }
      ]
    },
    {
      "cell_type": "code",
      "source": [
        "# add_weight()方法提供了创建权重的方法\n",
        "# 改进上述SimpleDense\n",
        "class SimpleDense(layers.Layer):\n",
        "\n",
        "  def __init__(self, units=32):\n",
        "    super(SimpleDense, self).__init__()\n",
        "    self.units = units\n",
        "\n",
        "  def build(self, input_shape):\n",
        "    self.w = self.add_weight(shape=(input_shape[-1], self.units),\n",
        "                  initializer='random_normal',\n",
        "                  trainable=True)\n",
        "    self.b = self.add_weight(shape=(self.units,),\n",
        "                  initializer='ramdom_normal',\n",
        "                  trainable=True)\n",
        "\n",
        "  def call(self, inputs):\n",
        "    return tf.matmul(inputs, self.w) + self.b\n"
      ],
      "metadata": {
        "id": "BSBLwMyk-jCN"
      },
      "execution_count": null,
      "outputs": []
    },
    {
      "cell_type": "code",
      "source": [
        "# 计算输入的运行总和的实例层\n",
        "class ComputeSum(layers.Layer):\n",
        "\n",
        "  def __init__(self, input_dim):\n",
        "    super(ComputeSum, self).__init__()\n",
        "    self.total = tf.Variable(initial_value=tf.zeros((input_dim,)),\n",
        "                  trainable=False)\n",
        "\n",
        "  def call(self, inputs):\n",
        "    self.total.assign_add(tf.reduce_sum(inputs, axis=0))\n",
        "    return self.total"
      ],
      "metadata": {
        "id": "9DogPZzkAAp0"
      },
      "execution_count": null,
      "outputs": []
    },
    {
      "cell_type": "code",
      "source": [
        "tf.reduce_sum(tf.ones((2,2)), axis=0)"
      ],
      "metadata": {
        "colab": {
          "base_uri": "https://localhost:8080/"
        },
        "id": "Nbrj8FpSCT77",
        "outputId": "97098cca-f9e3-4098-e002-048cb364a359"
      },
      "execution_count": null,
      "outputs": [
        {
          "output_type": "execute_result",
          "data": {
            "text/plain": [
              "<tf.Tensor: shape=(2,), dtype=float32, numpy=array([2., 2.], dtype=float32)>"
            ]
          },
          "metadata": {},
          "execution_count": 17
        }
      ]
    },
    {
      "cell_type": "code",
      "source": [
        "my_sum = ComputeSum(2)\n",
        "x = tf.ones((2, 2))\n",
        "\n",
        "y = my_sum(x)\n",
        "print(y.numpy())\n",
        "\n",
        "y = my_sum(x) # 继续累加，在权重上的累加\n",
        "print(y.numpy())\n",
        "print(my_sum.weights)\n",
        "print(my_sum.total)\n",
        "assert my_sum.weights == [my_sum.total]\n",
        "assert my_sum.non_trainable_weights == [my_sum.total]\n",
        "assert my_sum.trainable_weights == []"
      ],
      "metadata": {
        "colab": {
          "base_uri": "https://localhost:8080/"
        },
        "id": "z7oJjd7wCqOL",
        "outputId": "605afe13-af37-4a85-ae44-d5ef12d2ca1d"
      },
      "execution_count": null,
      "outputs": [
        {
          "output_type": "stream",
          "name": "stdout",
          "text": [
            "[2. 2.]\n",
            "[4. 4.]\n",
            "[<tf.Variable 'Variable:0' shape=(2,) dtype=float32, numpy=array([4., 4.], dtype=float32)>]\n",
            "<tf.Variable 'Variable:0' shape=(2,) dtype=float32, numpy=array([4., 4.], dtype=float32)>\n"
          ]
        }
      ]
    },
    {
      "cell_type": "markdown",
      "source": [
        "add_weight方法"
      ],
      "metadata": {
        "id": "Sdw8aBbYHFDc"
      }
    },
    {
      "cell_type": "code",
      "source": [
        "from keras.src.layers.rnn.base_conv_lstm import constraints\n",
        "from keras.api._v2.keras import regularizers\n",
        "layers.Layer.add_weight(\n",
        "    name=None,\n",
        "    shape=None,\n",
        "    dtype=None,\n",
        "    initializer=None,\n",
        "    regularizer=None, # 正则化器实例\n",
        "    trainable=None,\n",
        "    constraint=None,\n",
        "    use_resource=None,\n",
        "    synchronization=tf.VariableSynchronization.AUTO,\n",
        "    aggregation=tf.VariableSynchronization.NONE,\n",
        "    **kwargs\n",
        ")\n"
      ],
      "metadata": {
        "id": "Ek4lzsngDhe9"
      },
      "execution_count": null,
      "outputs": []
    },
    {
      "cell_type": "code",
      "source": [
        "# 层的权重代表该层的状态，其也可以加载到类似的参数化层中\n",
        "layer_a = tf.keras.layers.Dense(1,\n",
        "      kernel_initializer=tf.constant_initializer(1.))\n",
        "a_out = layer_a(tf.convert_to_tensor([[1., 2., 3.]]))\n",
        "layer_a.get_weights() # shape=3,1 因为输入为3，输出为1"
      ],
      "metadata": {
        "colab": {
          "base_uri": "https://localhost:8080/"
        },
        "id": "2gQYho2fIJez",
        "outputId": "522d2a67-04e0-449f-a7ce-9e9cf3a95156"
      },
      "execution_count": null,
      "outputs": [
        {
          "output_type": "execute_result",
          "data": {
            "text/plain": [
              "[array([[1.],\n",
              "        [1.],\n",
              "        [1.]], dtype=float32),\n",
              " array([0.], dtype=float32)]"
            ]
          },
          "metadata": {},
          "execution_count": 2
        }
      ]
    },
    {
      "cell_type": "code",
      "source": [
        "layer_b = tf.keras.layers.Dense(1,\n",
        "      kernel_initializer=tf.constant_initializer(2,))\n",
        "b_out = layer_b(tf.convert_to_tensor([[10., 20., 30.]]))\n",
        "layer_b.get_weights()"
      ],
      "metadata": {
        "colab": {
          "base_uri": "https://localhost:8080/"
        },
        "id": "Y9EBWwlbI6W0",
        "outputId": "b2dd5634-1032-4d49-bdb2-2cfbe6ffd461"
      },
      "execution_count": null,
      "outputs": [
        {
          "output_type": "execute_result",
          "data": {
            "text/plain": [
              "[array([[2.],\n",
              "        [2.],\n",
              "        [2.]], dtype=float32),\n",
              " array([0.], dtype=float32)]"
            ]
          },
          "metadata": {},
          "execution_count": 3
        }
      ]
    },
    {
      "cell_type": "code",
      "source": [
        "layer_b.set_weights(layer_a.get_weights())\n",
        "layer_b.get_weights()"
      ],
      "metadata": {
        "colab": {
          "base_uri": "https://localhost:8080/"
        },
        "id": "XNQlzcqRJfnc",
        "outputId": "a355c518-8c69-49ef-fad1-dc192cba8fdf"
      },
      "execution_count": null,
      "outputs": [
        {
          "output_type": "execute_result",
          "data": {
            "text/plain": [
              "[array([[1.],\n",
              "        [1.],\n",
              "        [1.]], dtype=float32),\n",
              " array([0.], dtype=float32)]"
            ]
          },
          "metadata": {},
          "execution_count": 4
        }
      ]
    },
    {
      "cell_type": "code",
      "source": [
        "# get_config()方法,返回模型的配置\n",
        "layer_b.get_config()"
      ],
      "metadata": {
        "colab": {
          "base_uri": "https://localhost:8080/"
        },
        "id": "C_EfA2gtJnS0",
        "outputId": "b3ac5b91-ee16-47fd-aecd-781fb80dc52a"
      },
      "execution_count": null,
      "outputs": [
        {
          "output_type": "execute_result",
          "data": {
            "text/plain": [
              "{'name': 'dense_1',\n",
              " 'trainable': True,\n",
              " 'dtype': 'float32',\n",
              " 'units': 1,\n",
              " 'activation': 'linear',\n",
              " 'use_bias': True,\n",
              " 'kernel_initializer': {'module': 'tensorflow.python.ops.init_ops_v2',\n",
              "  'class_name': 'Constant',\n",
              "  'config': {'value': 2},\n",
              "  'registered_name': 'Constant'},\n",
              " 'bias_initializer': {'module': 'keras.initializers',\n",
              "  'class_name': 'Zeros',\n",
              "  'config': {},\n",
              "  'registered_name': None},\n",
              " 'kernel_regularizer': None,\n",
              " 'bias_regularizer': None,\n",
              " 'activity_regularizer': None,\n",
              " 'kernel_constraint': None,\n",
              " 'bias_constraint': None}"
            ]
          },
          "metadata": {},
          "execution_count": 5
        }
      ]
    },
    {
      "cell_type": "code",
      "source": [
        "# add_loss方法，添加损失张量\n",
        "# Layer.add_loss(losses, **kwargs)\n",
        "# 例子\n",
        "class MyLayer(tf.keras.layers.Layer):\n",
        "  def call(self, inputs):\n",
        "    self.add_loss(tf.abs(tf.reduce_mean(inputs)))\n",
        "    return inputs"
      ],
      "metadata": {
        "id": "j5YhF15wJxQ8"
      },
      "execution_count": null,
      "outputs": []
    },
    {
      "cell_type": "code",
      "source": [
        "# add_loss也可以在构建模型的时候直接加到功能模型上调用\n",
        "# 并且这将在模型的拓扑中被追踪\n",
        "# 例子\n",
        "inputs = tf.keras.Input(shape=(10,))\n",
        "x = tf.keras.layers.Dense(10)(inputs)\n",
        "outputs = tf.keras.layers.Dense(1)(x)\n",
        "model = tf.keras.Model(inputs, outputs)\n",
        "\n",
        "model.add_loss(tf.abs(tf.reduce_mean(x)))"
      ],
      "metadata": {
        "id": "zj6HpDVKLZyJ"
      },
      "execution_count": null,
      "outputs": []
    },
    {
      "cell_type": "code",
      "source": [
        "# 将损失包装在零参数lambda中，不直接参与训练\n",
        "inputs = tf.keras.Input(shape=(10,))\n",
        "d = tf.keras.layers.Dense(10)\n",
        "x = d(inputs)\n",
        "outputs = tf.keras.layers.Dense(1)(x)\n",
        "model = tf.keras.Model(inputs, outputs)\n",
        "\n",
        "model.add_loss(lambda: tf.reduce_mean(d.kernel))"
      ],
      "metadata": {
        "id": "8wA6Hh9BMxTR"
      },
      "execution_count": null,
      "outputs": []
    },
    {
      "cell_type": "code",
      "source": [
        "# losses 返回add_loss中的函数的值\n",
        "# tf.keras.layers.Layer.losses\n",
        "import numpy as np\n",
        "class MyLayer(tf.keras.layers.Layer):\n",
        "  def call(self, inputs):\n",
        "    self.add_loss(tf.abs(tf.reduce_mean(inputs)))\n",
        "    return inputs\n",
        "l = MyLayer()\n",
        "l(np.ones((10, 1)))\n",
        "l.losses"
      ],
      "metadata": {
        "colab": {
          "base_uri": "https://localhost:8080/"
        },
        "id": "5crprws7ObVa",
        "outputId": "e52f6588-a760-412c-a907-dda845642340"
      },
      "execution_count": null,
      "outputs": [
        {
          "output_type": "execute_result",
          "data": {
            "text/plain": [
              "[<tf.Tensor: shape=(), dtype=float32, numpy=1.0>]"
            ]
          },
          "metadata": {},
          "execution_count": 6
        }
      ]
    },
    {
      "cell_type": "code",
      "source": [
        "inputs = tf.keras.Input(shape=(10,))\n",
        "x = tf.keras.layers.Dense(10)(inputs)\n",
        "outputs = tf.keras.layers.Dense(1)(x)\n",
        "model = tf.keras.Model(inputs, outputs)\n",
        "print(len(model.losses))\n",
        "model.add_loss(tf.abs(tf.reduce_mean(x)))\n",
        "model.add_loss(tf.reduce_sum(x))\n",
        "print(len(model.losses))"
      ],
      "metadata": {
        "colab": {
          "base_uri": "https://localhost:8080/"
        },
        "id": "ipavdMy8PE8r",
        "outputId": "7bb2a3ac-8a64-41a5-d8a4-2d1670215d04"
      },
      "execution_count": null,
      "outputs": [
        {
          "output_type": "stream",
          "name": "stdout",
          "text": [
            "0\n",
            "2\n"
          ]
        }
      ]
    },
    {
      "cell_type": "code",
      "source": [
        "inputs = tf.keras.Input(shape=(10,))\n",
        "d = tf.keras.layers.Dense(10, kernel_initializer='ones')\n",
        "x = d(inputs)\n",
        "outputs = tf.keras.layers.Dense(1)(x)\n",
        "model = tf.keras.Model(inputs, outputs)\n",
        "model.add_loss(lambda: tf.reduce_mean(d.kernel))\n",
        "model.losses"
      ],
      "metadata": {
        "colab": {
          "base_uri": "https://localhost:8080/"
        },
        "id": "QK5oJqEoPoUS",
        "outputId": "7ab2bf7f-1ed7-40a1-ef93-62736a63fa4c"
      },
      "execution_count": null,
      "outputs": [
        {
          "output_type": "execute_result",
          "data": {
            "text/plain": [
              "[<tf.Tensor: shape=(), dtype=float32, numpy=1.0>]"
            ]
          },
          "metadata": {},
          "execution_count": 11
        }
      ]
    },
    {
      "cell_type": "markdown",
      "source": [
        "# 层激活函数"
      ],
      "metadata": {
        "id": "h3Db49GLpQxF"
      }
    },
    {
      "cell_type": "code",
      "source": [
        "# model.add(layers.Dense(64, activation=activations.relu))"
      ],
      "metadata": {
        "id": "eiCt74maQWhK"
      },
      "execution_count": 1,
      "outputs": []
    },
    {
      "cell_type": "code",
      "source": [
        "from tensorflow.keras import layers\n",
        "from tensorflow.keras import activations\n",
        "\n",
        "model.add(layers.Dense(64))\n",
        "model.add(layers.Activation(activations.relu))\n",
        "# 相当于model.add(layers.Dense(64, activation=activations.relu))"
      ],
      "metadata": {
        "id": "awRrOZ7YpcL8"
      },
      "execution_count": null,
      "outputs": []
    },
    {
      "cell_type": "code",
      "source": [
        "# 所有内置激活也可以通过字符串标识符传递\n",
        "model.add(layers.Dense(64, activation='relu'))"
      ],
      "metadata": {
        "id": "DjWUErspp0Yd"
      },
      "execution_count": null,
      "outputs": []
    },
    {
      "cell_type": "code",
      "source": [
        "# 激活函数\n",
        "# relu的功能\n",
        "# tf.keras.activations.relu(x, alpha=0.0, max_value=None, threshold=0.0)\n",
        "# 上述relu函数就是这个max(x, 0)，0是阙值,可以改变\n"
      ],
      "metadata": {
        "id": "w4XZQK6Hp_iD"
      },
      "execution_count": 3,
      "outputs": []
    },
    {
      "cell_type": "code",
      "source": [
        "import tensorflow as tf"
      ],
      "metadata": {
        "id": "f-Bjnjdlqx18"
      },
      "execution_count": 4,
      "outputs": []
    },
    {
      "cell_type": "code",
      "source": [
        "# 例子\n",
        "foo = tf.constant([-10, -5, 0.0, 5, 10], dtype=tf.float32)\n",
        "print(\"default:\", tf.keras.activations.relu(foo).numpy())\n",
        "print(\"alpha=0.5:\",tf.keras.activations.relu(foo, alpha=0.5).numpy)\n",
        "print(\"max_value=5.:\", tf.keras.activations.relu(foo, max_value=5.).numpy())\n",
        "print(\"threshold=5.:\", tf.keras.activations.relu(foo, threshold=5.))\n",
        "# alpha:控制低于阙值的值的斜率\n",
        "# max_value: 设置饱和阙值\n",
        "# threshold: 阙值"
      ],
      "metadata": {
        "colab": {
          "base_uri": "https://localhost:8080/"
        },
        "id": "xcScdjuQqn_t",
        "outputId": "2f49f46c-336c-472e-edac-e8413c21d5f6"
      },
      "execution_count": 5,
      "outputs": [
        {
          "output_type": "stream",
          "name": "stdout",
          "text": [
            "default: [ 0.  0.  0.  5. 10.]\n",
            "alpha=0.5: <bound method _EagerTensorBase.numpy of <tf.Tensor: shape=(5,), dtype=float32, numpy=array([-5. , -2.5,  0. ,  5. , 10. ], dtype=float32)>>\n",
            "max_value=5.: [0. 0. 0. 5. 5.]\n",
            "threshold=5.: tf.Tensor([-0. -0.  0.  0. 10.], shape=(5,), dtype=float32)\n"
          ]
        }
      ]
    },
    {
      "cell_type": "code",
      "source": [
        "# sigmoid函数\n",
        "# tf.keras.activations.sigmoid(x)\n",
        "# sigmoid(x) = 1 / (1 + exp(-x))"
      ],
      "metadata": {
        "id": "wVmaYBOVrl5f"
      },
      "execution_count": 7,
      "outputs": []
    },
    {
      "cell_type": "code",
      "source": [
        "# 例子\n",
        "a = tf.constant([-20, -1.0, 0.0, 1.0, 20], dtype=tf.float32)\n",
        "b = tf.keras.activations.sigmoid(a)\n",
        "b.numpy()"
      ],
      "metadata": {
        "colab": {
          "base_uri": "https://localhost:8080/"
        },
        "id": "5kyksfxBsGq9",
        "outputId": "a6ff9d2c-4ef2-4e64-87ae-aab3e6c379ef"
      },
      "execution_count": 8,
      "outputs": [
        {
          "output_type": "execute_result",
          "data": {
            "text/plain": [
              "array([2.0611537e-09, 2.6894143e-01, 5.0000000e-01, 7.3105860e-01,\n",
              "       1.0000000e+00], dtype=float32)"
            ]
          },
          "metadata": {},
          "execution_count": 8
        }
      ]
    },
    {
      "cell_type": "code",
      "source": [
        "# softmax函数\n",
        "# softmax(x) = exp(x) / tf.reduce_sum(exp(x))\n",
        "\n",
        "# 单独使用\n",
        "inputs = tf.random.normal(shape=(32, 10))\n",
        "outputs = tf.keras.activations.softmax(inputs)\n",
        "tf.reduce_sum(outputs[0, :])"
      ],
      "metadata": {
        "colab": {
          "base_uri": "https://localhost:8080/"
        },
        "id": "AyA5k65psZLk",
        "outputId": "5d7d6b9d-178e-4a78-ac3f-2963263bf686"
      },
      "execution_count": 9,
      "outputs": [
        {
          "output_type": "execute_result",
          "data": {
            "text/plain": [
              "<tf.Tensor: shape=(), dtype=float32, numpy=0.99999994>"
            ]
          },
          "metadata": {},
          "execution_count": 9
        }
      ]
    },
    {
      "cell_type": "markdown",
      "source": [
        "# 层权重初始化器"
      ],
      "metadata": {
        "id": "cfMP2Vw_tZzD"
      }
    },
    {
      "cell_type": "code",
      "source": [
        "from tensorflow.keras import layers\n",
        "from tensorflow.keras import initializers\n",
        "\n",
        "layer = layers.Dense(\n",
        "    units=64,\n",
        "    kernel_initializer = initializers.RandomNormal(stddev=0.01),\n",
        "    bias_initializer = initializers.Zeros()\n",
        ")\n",
        "\n",
        "layer = layers.Dense(\n",
        "    units = 64,\n",
        "    kernal_initializer='random_normal',\n",
        "    bias_initializer = 'zeros'\n",
        ")"
      ],
      "metadata": {
        "id": "Fth3qHWCs54M"
      },
      "execution_count": null,
      "outputs": []
    },
    {
      "cell_type": "markdown",
      "source": [
        "RandomNormal初始化类"
      ],
      "metadata": {
        "id": "fvRIYjVRvqbE"
      }
    },
    {
      "cell_type": "code",
      "source": [
        "# RandomNormal初始化类\n",
        "tf.keras.initializers.RandomNormal(mean=0.0, stddev=0.05, seed=None)"
      ],
      "metadata": {
        "id": "zSlagcoauyXW"
      },
      "execution_count": null,
      "outputs": []
    },
    {
      "cell_type": "code",
      "source": [
        "# 例子\n",
        "initializer = tf.keras.initializers.RandomNormal(mean=0., stddev=1.)\n",
        "values = initializer(shape=(2, 2))\n",
        "print(values)\n",
        "\n",
        "layer = tf.keras.layers.Dense(3, kernel_initializer=initializer)"
      ],
      "metadata": {
        "id": "xuAZQbiUvs6d"
      },
      "execution_count": null,
      "outputs": []
    },
    {
      "cell_type": "markdown",
      "source": [
        "RandomUniform类"
      ],
      "metadata": {
        "id": "nVaBu7bawLoF"
      }
    },
    {
      "cell_type": "code",
      "source": [
        "tf.keras.initializers.RandomUniform(minval=-0.05, maxval=0.05, seed=None)"
      ],
      "metadata": {
        "id": "bRnoU1KdwKnl"
      },
      "execution_count": null,
      "outputs": []
    },
    {
      "cell_type": "code",
      "source": [
        "# 例子\n",
        "initializer = tf.keras.initializers.RandomUniform(minval=0., maxval=1.)\n",
        "values = initializer(shape=(2, 2))\n",
        "print(values)\n",
        "layer = tf.keras.layers.Dense(3, kernel_initializer=initializer)"
      ],
      "metadata": {
        "colab": {
          "base_uri": "https://localhost:8080/"
        },
        "id": "HkzxpnVMwhC9",
        "outputId": "2964ad82-7eb3-41e3-8987-1c10d6deadd5"
      },
      "execution_count": 10,
      "outputs": [
        {
          "output_type": "stream",
          "name": "stdout",
          "text": [
            "tf.Tensor(\n",
            "[[0.28100932 0.05351639]\n",
            " [0.48277593 0.05010784]], shape=(2, 2), dtype=float32)\n"
          ]
        }
      ]
    },
    {
      "cell_type": "markdown",
      "source": [
        "Zeros类"
      ],
      "metadata": {
        "id": "no90VtTcw_o1"
      }
    },
    {
      "cell_type": "code",
      "source": [
        "tf.keras.initializers.Zeros()"
      ],
      "metadata": {
        "id": "BosI-sNxwvLv"
      },
      "execution_count": null,
      "outputs": []
    },
    {
      "cell_type": "code",
      "source": [
        "initializer = tf.keras.initializers.Zeros()\n",
        "values = initializer(shape=(2, 2))\n",
        "print(values)\n",
        "layer = tf.keras.layers.Dense(3, kernel_initializer=initializer)"
      ],
      "metadata": {
        "colab": {
          "base_uri": "https://localhost:8080/"
        },
        "id": "dBV8OeTVxF3O",
        "outputId": "ba4e8a7f-dbca-45ea-da9b-fcdca42588de"
      },
      "execution_count": 12,
      "outputs": [
        {
          "output_type": "stream",
          "name": "stdout",
          "text": [
            "tf.Tensor(\n",
            "[[0. 0.]\n",
            " [0. 0.]], shape=(2, 2), dtype=float32)\n"
          ]
        }
      ]
    },
    {
      "cell_type": "markdown",
      "source": [
        "Ones类"
      ],
      "metadata": {
        "id": "RUlVvzIPxakF"
      }
    },
    {
      "cell_type": "code",
      "source": [
        "tf.keras.initializers.Ones()"
      ],
      "metadata": {
        "id": "lUayVJh6xO2X"
      },
      "execution_count": null,
      "outputs": []
    },
    {
      "cell_type": "code",
      "source": [
        "initializer = tf.keras.initializers.Ones()\n",
        "print(initializer(shape=(2, 2)))\n",
        "layer = tf.keras.layers.Dense(3, kernel_initializer=initializer)"
      ],
      "metadata": {
        "colab": {
          "base_uri": "https://localhost:8080/"
        },
        "id": "jP0AmCRPxgXt",
        "outputId": "e2911192-54a2-4cd8-e18a-6cbfd10bf6aa"
      },
      "execution_count": 13,
      "outputs": [
        {
          "output_type": "stream",
          "name": "stdout",
          "text": [
            "tf.Tensor(\n",
            "[[1. 1.]\n",
            " [1. 1.]], shape=(2, 2), dtype=float32)\n"
          ]
        }
      ]
    },
    {
      "cell_type": "markdown",
      "source": [
        "Constant类"
      ],
      "metadata": {
        "id": "tOg6SimPysbH"
      }
    },
    {
      "cell_type": "code",
      "source": [
        "tf.keras.initializers.Constant(value=0)"
      ],
      "metadata": {
        "id": "E6wZxARQxnn3"
      },
      "execution_count": null,
      "outputs": []
    },
    {
      "cell_type": "code",
      "source": [
        "# 例子\n",
        "initializer = tf.keras.initializers.Constant(3.)\n",
        "print(initializer(shape=(2, 2)))\n",
        "layer = tf.keras.layers.Dense(3, kernel_initializer=initializer)"
      ],
      "metadata": {
        "colab": {
          "base_uri": "https://localhost:8080/"
        },
        "id": "OAIBnlLPyy1n",
        "outputId": "c579bd1b-0126-453a-a8b2-bdc3c8fc23e7"
      },
      "execution_count": 14,
      "outputs": [
        {
          "output_type": "stream",
          "name": "stdout",
          "text": [
            "tf.Tensor(\n",
            "[[3. 3.]\n",
            " [3. 3.]], shape=(2, 2), dtype=float32)\n"
          ]
        }
      ]
    },
    {
      "cell_type": "markdown",
      "source": [
        "创建自定义初始值设定项"
      ],
      "metadata": {
        "id": "vRAdtrf5zGUm"
      }
    },
    {
      "cell_type": "code",
      "source": [
        "def my_init(shape, dtype=None):\n",
        "  return tf.random.normal(shape, dtype=dtype)\n",
        "\n",
        "layer = Dense(3, kernel_initializer=my_init)"
      ],
      "metadata": {
        "id": "mq2gUzrAy7G9"
      },
      "execution_count": null,
      "outputs": []
    },
    {
      "cell_type": "code",
      "source": [
        "# Initializer子类\n",
        "class ExampleRandomNoraml(tf.keras.initializers.Initializer):\n",
        "\n",
        "  def __init__(self, mean, stddev):\n",
        "    self.mean = mean\n",
        "    self.stddev = stddev\n",
        "\n",
        "  def __call__(self, shape, dtype=None):\n",
        "    return tf.random.normal(\n",
        "        shape,\n",
        "        mean = self.mean,\n",
        "        stddev=self.stddev,\n",
        "        dtype=dtype\n",
        "    )\n",
        "\n",
        "  def get_config(self):\n",
        "    return {'mean': self.mean, 'stddev': self.stddev}"
      ],
      "metadata": {
        "id": "cHiE8gTVzWmF"
      },
      "execution_count": null,
      "outputs": []
    },
    {
      "cell_type": "markdown",
      "source": [
        "# 层权重正则化器"
      ],
      "metadata": {
        "id": "kC87pvFe0Rp_"
      }
    },
    {
      "cell_type": "code",
      "source": [
        "# 正则化惩罚是按层应用的\n",
        "# kernel_regularizer: 正则化器对层的内核应用惩罚\n",
        "# bias_regularizer: 正则化器对层的偏差施加惩罚\n",
        "# activity_regularizer: 正则化器对层的输出应用惩罚"
      ],
      "metadata": {
        "id": "8VZidemw0USH"
      },
      "execution_count": null,
      "outputs": []
    },
    {
      "cell_type": "code",
      "source": [
        "from tensorflow.keras import layers\n",
        "from tensorflow.keras import regularizers\n",
        "\n",
        "layer = layers.Dense(\n",
        "    units=64,\n",
        "    kernel_regularizer=regularizers.L1L2(l1=1e-5, l2=1e-4),\n",
        "    bias_regularizer=regularizers.L2(1e-4),\n",
        "    activity_regularizer=regularizers.L2(1e-5)\n",
        ")"
      ],
      "metadata": {
        "id": "GdxbmQMK57sx"
      },
      "execution_count": 16,
      "outputs": []
    },
    {
      "cell_type": "code",
      "source": [
        "layer = layers.Dense(\n",
        "    units=5,\n",
        "    kernel_initializer='ones',\n",
        "    kernel_regularizer=regularizers.L1(0.01),\n",
        "    activity_regularizer=regularizers.L2(0.01)\n",
        ")\n",
        "tensor = tf.ones(shape=(5, 5)) * 2.0\n",
        "out = layer(tensor)\n",
        "\n",
        "print(tf.math.reduce_sum(layer.losses))"
      ],
      "metadata": {
        "colab": {
          "base_uri": "https://localhost:8080/"
        },
        "id": "QTptou9g6w6X",
        "outputId": "766bf3a7-dd47-4a68-8ed1-ea0c99a34bc1"
      },
      "execution_count": 18,
      "outputs": [
        {
          "output_type": "stream",
          "name": "stdout",
          "text": [
            "tf.Tensor(5.25, shape=(), dtype=float32)\n"
          ]
        }
      ]
    },
    {
      "cell_type": "code",
      "source": [
        "tf.square(tf.ones(shape=(5, 5)) * 2.0)"
      ],
      "metadata": {
        "colab": {
          "base_uri": "https://localhost:8080/"
        },
        "id": "ao28AcbV8Joy",
        "outputId": "d3d09ef3-4717-4a10-e3ac-cfd7416d22fe"
      },
      "execution_count": 20,
      "outputs": [
        {
          "output_type": "execute_result",
          "data": {
            "text/plain": [
              "<tf.Tensor: shape=(5, 5), dtype=float32, numpy=\n",
              "array([[4., 4., 4., 4., 4.],\n",
              "       [4., 4., 4., 4., 4.],\n",
              "       [4., 4., 4., 4., 4.],\n",
              "       [4., 4., 4., 4., 4.],\n",
              "       [4., 4., 4., 4., 4.]], dtype=float32)>"
            ]
          },
          "metadata": {},
          "execution_count": 20
        }
      ]
    },
    {
      "cell_type": "code",
      "source": [
        "dense = tf.keras.layers.Dense(3, kernel_regularizer='l1')\n",
        "dense = tf.keras.layers.Dense(3, kernel_regularizer='l2')\n",
        "dense = tf.keras.layers.Dense(3, kernel_regularizer='l1_l2')"
      ],
      "metadata": {
        "id": "BUdXBkU48iBB"
      },
      "execution_count": null,
      "outputs": []
    },
    {
      "cell_type": "code",
      "source": [
        "# 创建自定义正则化器\n",
        "def my_regularizer(x):\n",
        "  return 1e-3 * tf.reduce_sum(tf.square(x))"
      ],
      "metadata": {
        "id": "50gA1OqM9ebQ"
      },
      "execution_count": 21,
      "outputs": []
    },
    {
      "cell_type": "code",
      "source": [
        "# Regularizer子类\n",
        "class MyRegularizer(regularizers.Regularizer):\n",
        "\n",
        "  def __init__(self, strength):\n",
        "    self.strength = strength\n",
        "\n",
        "  def __call__(self, x):\n",
        "    return self.strength * tf.reduce_sum(tf.square(x))"
      ],
      "metadata": {
        "id": "gBPg2x4b-CYZ"
      },
      "execution_count": 22,
      "outputs": []
    },
    {
      "cell_type": "code",
      "source": [
        "class my_class:\n",
        "  def __init__(self, init_value):\n",
        "    self.init_value = init_value\n",
        "\n",
        "  def __call__(self, call_value):\n",
        "    return self.init_value + call_value\n",
        "my_cl = my_class(10)\n",
        "print(my_cl(20))"
      ],
      "metadata": {
        "colab": {
          "base_uri": "https://localhost:8080/"
        },
        "id": "IqKItG7C-ZiQ",
        "outputId": "ab7e9b03-a3e2-441b-bff4-79f98c9572eb"
      },
      "execution_count": 24,
      "outputs": [
        {
          "output_type": "stream",
          "name": "stdout",
          "text": [
            "30\n"
          ]
        }
      ]
    },
    {
      "cell_type": "code",
      "source": [],
      "metadata": {
        "id": "Ct_b_cGm-xbb"
      },
      "execution_count": null,
      "outputs": []
    }
  ]
}