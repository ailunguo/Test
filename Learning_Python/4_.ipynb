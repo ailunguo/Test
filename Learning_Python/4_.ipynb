{
  "nbformat": 4,
  "nbformat_minor": 0,
  "metadata": {
    "colab": {
      "provenance": [],
      "authorship_tag": "ABX9TyMOLNDEuuhAuY7g0VMNXrng",
      "include_colab_link": true
    },
    "kernelspec": {
      "name": "python3",
      "display_name": "Python 3"
    },
    "language_info": {
      "name": "python"
    }
  },
  "cells": [
    {
      "cell_type": "markdown",
      "metadata": {
        "id": "view-in-github",
        "colab_type": "text"
      },
      "source": [
        "<a href=\"https://colab.research.google.com/github/ailunguo/Test/blob/main/Learning_Python/4_.ipynb\" target=\"_parent\"><img src=\"https://colab.research.google.com/assets/colab-badge.svg\" alt=\"Open In Colab\"/></a>"
      ]
    },
    {
      "cell_type": "markdown",
      "source": [
        "# 4 Comprehensions and Generators\n",
        "\n",
        "# 推导式和生成器"
      ],
      "metadata": {
        "id": "muiaaLrc2M2C"
      }
    },
    {
      "cell_type": "code",
      "execution_count": null,
      "metadata": {
        "colab": {
          "base_uri": "https://localhost:8080/"
        },
        "id": "SHZ_CZZ41CZ3",
        "outputId": "a8882baa-6764-4a71-afff-543bf944e442"
      },
      "outputs": [
        {
          "output_type": "execute_result",
          "data": {
            "text/plain": [
              "[1, 4, 9, 16]"
            ]
          },
          "metadata": {},
          "execution_count": 1
        }
      ],
      "source": [
        "# low\n",
        "a = [1, 2, 3, 4]\n",
        "squares = []\n",
        "for i in a:\n",
        "  squares.append(i**2)\n",
        "squares"
      ]
    },
    {
      "cell_type": "code",
      "source": [
        "# list推导式\n",
        "[i ** 2 for i in a]"
      ],
      "metadata": {
        "colab": {
          "base_uri": "https://localhost:8080/"
        },
        "id": "FbudCh4G3CCd",
        "outputId": "4631e16d-b2bf-4a7f-9ad7-b5e57b0bd643"
      },
      "execution_count": null,
      "outputs": [
        {
          "output_type": "execute_result",
          "data": {
            "text/plain": [
              "[1, 4, 9, 16]"
            ]
          },
          "metadata": {},
          "execution_count": 2
        }
      ]
    },
    {
      "cell_type": "code",
      "source": [
        "# map看起来感觉复杂\n",
        "map(lambda x: x**2, a)"
      ],
      "metadata": {
        "colab": {
          "base_uri": "https://localhost:8080/"
        },
        "id": "01gOUq0p3Q41",
        "outputId": "fac0830d-5205-4c82-a50b-9144eb30c657"
      },
      "execution_count": null,
      "outputs": [
        {
          "output_type": "execute_result",
          "data": {
            "text/plain": [
              "<map at 0x79d8edb9e140>"
            ]
          },
          "metadata": {},
          "execution_count": 4
        }
      ]
    },
    {
      "cell_type": "code",
      "source": [
        "[x**2 for x in a if x%2 == 0]"
      ],
      "metadata": {
        "colab": {
          "base_uri": "https://localhost:8080/"
        },
        "id": "327NwQmU3lvm",
        "outputId": "c24f625a-d98c-42e4-c770-b54d5130bc2f"
      },
      "execution_count": null,
      "outputs": [
        {
          "output_type": "execute_result",
          "data": {
            "text/plain": [
              "[4, 16]"
            ]
          },
          "metadata": {},
          "execution_count": 5
        }
      ]
    },
    {
      "cell_type": "code",
      "source": [
        "# dict推导式\n",
        "{x: x**2 for x in a}"
      ],
      "metadata": {
        "colab": {
          "base_uri": "https://localhost:8080/"
        },
        "id": "qt8Ifz3G3zIW",
        "outputId": "515b2659-95c7-4852-d7d6-709992cc112d"
      },
      "execution_count": null,
      "outputs": [
        {
          "output_type": "execute_result",
          "data": {
            "text/plain": [
              "{1: 1, 2: 4, 3: 9, 4: 16}"
            ]
          },
          "metadata": {},
          "execution_count": 6
        }
      ]
    },
    {
      "cell_type": "code",
      "source": [
        "# set推导式\n",
        "{x**2 for x in a}"
      ],
      "metadata": {
        "colab": {
          "base_uri": "https://localhost:8080/"
        },
        "id": "J70_mh914Eo-",
        "outputId": "59f495cb-84a2-4254-ed2c-b0a51856f011"
      },
      "execution_count": null,
      "outputs": [
        {
          "output_type": "execute_result",
          "data": {
            "text/plain": [
              "{1, 4, 9, 16}"
            ]
          },
          "metadata": {},
          "execution_count": 7
        }
      ]
    },
    {
      "cell_type": "code",
      "source": [
        "# 尽量避免在推导式中使用过多的子表达式，最好不超过两个\n",
        "# 将二维列表展开\n",
        "matrix = [[1, 2, 3], [4, 5, 6], [7, 8, 9]]\n",
        "[x for row in matrix for x in row]"
      ],
      "metadata": {
        "colab": {
          "base_uri": "https://localhost:8080/"
        },
        "id": "bhS-3aZe4Imm",
        "outputId": "b9954891-804d-4339-e952-f60082525404"
      },
      "execution_count": null,
      "outputs": [
        {
          "output_type": "execute_result",
          "data": {
            "text/plain": [
              "[1, 2, 3, 4, 5, 6, 7, 8, 9]"
            ]
          },
          "metadata": {},
          "execution_count": 8
        }
      ]
    },
    {
      "cell_type": "code",
      "source": [
        "[[x**2 for x in row] for row in matrix]"
      ],
      "metadata": {
        "colab": {
          "base_uri": "https://localhost:8080/"
        },
        "id": "Q3PvkPLb5GuO",
        "outputId": "4e806e60-b4d9-43ea-cdcf-352e15a70010"
      },
      "execution_count": null,
      "outputs": [
        {
          "output_type": "execute_result",
          "data": {
            "text/plain": [
              "[[1, 4, 9], [16, 25, 36], [49, 64, 81]]"
            ]
          },
          "metadata": {},
          "execution_count": 10
        }
      ]
    },
    {
      "cell_type": "code",
      "source": [
        "[[x for x in row if x%3 == 0] for row in matrix if sum(row) >= 10]"
      ],
      "metadata": {
        "colab": {
          "base_uri": "https://localhost:8080/"
        },
        "id": "F44azqUI5M9u",
        "outputId": "93caa9c8-b270-4682-c2c0-468615b570e2"
      },
      "execution_count": null,
      "outputs": [
        {
          "output_type": "execute_result",
          "data": {
            "text/plain": [
              "[[6], [9]]"
            ]
          },
          "metadata": {},
          "execution_count": 11
        }
      ]
    },
    {
      "cell_type": "code",
      "source": [
        "# ':=' 赋值表达式可以减少重复的代码\n",
        "a = 9\n",
        "if (a := 0):\n",
        "  print('right', a)\n",
        "else:\n",
        "  print(a)"
      ],
      "metadata": {
        "colab": {
          "base_uri": "https://localhost:8080/"
        },
        "id": "Qsx_H1tb6Tqv",
        "outputId": "c9b2d922-9fc7-4315-a227-83224e1dffc7"
      },
      "execution_count": null,
      "outputs": [
        {
          "output_type": "stream",
          "name": "stdout",
          "text": [
            "0\n"
          ]
        }
      ]
    },
    {
      "cell_type": "code",
      "source": [
        "[(last := count - 1) for count in [1, 2, 3]]\n",
        "print(last)"
      ],
      "metadata": {
        "colab": {
          "base_uri": "https://localhost:8080/"
        },
        "id": "m7bWAT7-8kAz",
        "outputId": "5eba9fd0-b8e0-4358-f583-56cfbf774cbd"
      },
      "execution_count": null,
      "outputs": [
        {
          "output_type": "stream",
          "name": "stdout",
          "text": [
            "2\n"
          ]
        }
      ]
    },
    {
      "cell_type": "code",
      "source": [
        "# 生成器\n",
        "def index_words(text):\n",
        "  result = []\n",
        "  if text:\n",
        "    result.append(0)\n",
        "  for index, letter in enumerate(text):\n",
        "    if letter == ' ':\n",
        "      result.append(index+1)\n",
        "  return result\n",
        "\n",
        "address = 'Four score and seven years age...'\n",
        "index_words(address)[:10]"
      ],
      "metadata": {
        "id": "Dbvja3Ww-Md7",
        "colab": {
          "base_uri": "https://localhost:8080/"
        },
        "outputId": "041f3cb3-205c-43d0-e128-ab336e980e8e"
      },
      "execution_count": 3,
      "outputs": [
        {
          "output_type": "execute_result",
          "data": {
            "text/plain": [
              "[0, 5, 11, 15, 21, 27]"
            ]
          },
          "metadata": {},
          "execution_count": 3
        }
      ]
    },
    {
      "cell_type": "code",
      "source": [
        "# 利用生成器改进代码\n",
        "def index_words_iter(text):\n",
        "  if text:\n",
        "    yield 0\n",
        "  for index, letter in enumerate(text):\n",
        "    if letter == ' ':\n",
        "      yield index + 1\n",
        "\n",
        "it = index_words_iter(address)\n",
        "next(it)"
      ],
      "metadata": {
        "colab": {
          "base_uri": "https://localhost:8080/"
        },
        "id": "MS1jrx2G48R6",
        "outputId": "007adb17-5242-4be8-e928-d070b29b6dc3"
      },
      "execution_count": 6,
      "outputs": [
        {
          "output_type": "execute_result",
          "data": {
            "text/plain": [
              "0"
            ]
          },
          "metadata": {},
          "execution_count": 6
        }
      ]
    },
    {
      "cell_type": "code",
      "source": [
        "# 把生成器得到的结果转换为列表\n",
        "list(index_words_iter(address))"
      ],
      "metadata": {
        "colab": {
          "base_uri": "https://localhost:8080/"
        },
        "id": "iG7vr0Y36APo",
        "outputId": "37a77316-8123-4b20-8235-d0d34ee92e0e"
      },
      "execution_count": 7,
      "outputs": [
        {
          "output_type": "execute_result",
          "data": {
            "text/plain": [
              "[0, 5, 11, 15, 21, 27]"
            ]
          },
          "metadata": {},
          "execution_count": 7
        }
      ]
    },
    {
      "cell_type": "code",
      "source": [],
      "metadata": {
        "id": "XdXM0FaV7A-t"
      },
      "execution_count": null,
      "outputs": []
    }
  ]
}