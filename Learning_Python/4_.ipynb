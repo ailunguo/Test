{
  "nbformat": 4,
  "nbformat_minor": 0,
  "metadata": {
    "colab": {
      "provenance": [],
      "authorship_tag": "ABX9TyONx/24BL0kE9eZ/4KRSFe6",
      "include_colab_link": true
    },
    "kernelspec": {
      "name": "python3",
      "display_name": "Python 3"
    },
    "language_info": {
      "name": "python"
    }
  },
  "cells": [
    {
      "cell_type": "markdown",
      "metadata": {
        "id": "view-in-github",
        "colab_type": "text"
      },
      "source": [
        "<a href=\"https://colab.research.google.com/github/ailunguo/Test/blob/main/Learning_Python/4_.ipynb\" target=\"_parent\"><img src=\"https://colab.research.google.com/assets/colab-badge.svg\" alt=\"Open In Colab\"/></a>"
      ]
    },
    {
      "cell_type": "markdown",
      "source": [
        "# 4 Comprehensions and Generators\n",
        "\n",
        "# 推导式和生成器"
      ],
      "metadata": {
        "id": "muiaaLrc2M2C"
      }
    },
    {
      "cell_type": "code",
      "execution_count": null,
      "metadata": {
        "colab": {
          "base_uri": "https://localhost:8080/"
        },
        "id": "SHZ_CZZ41CZ3",
        "outputId": "a8882baa-6764-4a71-afff-543bf944e442"
      },
      "outputs": [
        {
          "output_type": "execute_result",
          "data": {
            "text/plain": [
              "[1, 4, 9, 16]"
            ]
          },
          "metadata": {},
          "execution_count": 1
        }
      ],
      "source": [
        "# low\n",
        "a = [1, 2, 3, 4]\n",
        "squares = []\n",
        "for i in a:\n",
        "  squares.append(i**2)\n",
        "squares"
      ]
    },
    {
      "cell_type": "code",
      "source": [
        "# list推导式\n",
        "[i ** 2 for i in a]"
      ],
      "metadata": {
        "colab": {
          "base_uri": "https://localhost:8080/"
        },
        "id": "FbudCh4G3CCd",
        "outputId": "4631e16d-b2bf-4a7f-9ad7-b5e57b0bd643"
      },
      "execution_count": null,
      "outputs": [
        {
          "output_type": "execute_result",
          "data": {
            "text/plain": [
              "[1, 4, 9, 16]"
            ]
          },
          "metadata": {},
          "execution_count": 2
        }
      ]
    },
    {
      "cell_type": "code",
      "source": [
        "# map看起来感觉复杂\n",
        "map(lambda x: x**2, a)"
      ],
      "metadata": {
        "colab": {
          "base_uri": "https://localhost:8080/"
        },
        "id": "01gOUq0p3Q41",
        "outputId": "fac0830d-5205-4c82-a50b-9144eb30c657"
      },
      "execution_count": null,
      "outputs": [
        {
          "output_type": "execute_result",
          "data": {
            "text/plain": [
              "<map at 0x79d8edb9e140>"
            ]
          },
          "metadata": {},
          "execution_count": 4
        }
      ]
    },
    {
      "cell_type": "code",
      "source": [
        "[x**2 for x in a if x%2 == 0]"
      ],
      "metadata": {
        "colab": {
          "base_uri": "https://localhost:8080/"
        },
        "id": "327NwQmU3lvm",
        "outputId": "c24f625a-d98c-42e4-c770-b54d5130bc2f"
      },
      "execution_count": null,
      "outputs": [
        {
          "output_type": "execute_result",
          "data": {
            "text/plain": [
              "[4, 16]"
            ]
          },
          "metadata": {},
          "execution_count": 5
        }
      ]
    },
    {
      "cell_type": "code",
      "source": [
        "# dict推导式\n",
        "{x: x**2 for x in a}"
      ],
      "metadata": {
        "colab": {
          "base_uri": "https://localhost:8080/"
        },
        "id": "qt8Ifz3G3zIW",
        "outputId": "515b2659-95c7-4852-d7d6-709992cc112d"
      },
      "execution_count": null,
      "outputs": [
        {
          "output_type": "execute_result",
          "data": {
            "text/plain": [
              "{1: 1, 2: 4, 3: 9, 4: 16}"
            ]
          },
          "metadata": {},
          "execution_count": 6
        }
      ]
    },
    {
      "cell_type": "code",
      "source": [
        "# set推导式\n",
        "{x**2 for x in a}"
      ],
      "metadata": {
        "colab": {
          "base_uri": "https://localhost:8080/"
        },
        "id": "J70_mh914Eo-",
        "outputId": "59f495cb-84a2-4254-ed2c-b0a51856f011"
      },
      "execution_count": null,
      "outputs": [
        {
          "output_type": "execute_result",
          "data": {
            "text/plain": [
              "{1, 4, 9, 16}"
            ]
          },
          "metadata": {},
          "execution_count": 7
        }
      ]
    },
    {
      "cell_type": "code",
      "source": [
        "# 尽量避免在推导式中使用过多的子表达式，最好不超过两个\n",
        "# 将二维列表展开\n",
        "matrix = [[1, 2, 3], [4, 5, 6], [7, 8, 9]]\n",
        "[x for row in matrix for x in row]"
      ],
      "metadata": {
        "colab": {
          "base_uri": "https://localhost:8080/"
        },
        "id": "bhS-3aZe4Imm",
        "outputId": "b9954891-804d-4339-e952-f60082525404"
      },
      "execution_count": null,
      "outputs": [
        {
          "output_type": "execute_result",
          "data": {
            "text/plain": [
              "[1, 2, 3, 4, 5, 6, 7, 8, 9]"
            ]
          },
          "metadata": {},
          "execution_count": 8
        }
      ]
    },
    {
      "cell_type": "code",
      "source": [
        "[[x**2 for x in row] for row in matrix]"
      ],
      "metadata": {
        "colab": {
          "base_uri": "https://localhost:8080/"
        },
        "id": "Q3PvkPLb5GuO",
        "outputId": "4e806e60-b4d9-43ea-cdcf-352e15a70010"
      },
      "execution_count": null,
      "outputs": [
        {
          "output_type": "execute_result",
          "data": {
            "text/plain": [
              "[[1, 4, 9], [16, 25, 36], [49, 64, 81]]"
            ]
          },
          "metadata": {},
          "execution_count": 10
        }
      ]
    },
    {
      "cell_type": "code",
      "source": [
        "[[x for x in row if x%3 == 0] for row in matrix if sum(row) >= 10]"
      ],
      "metadata": {
        "colab": {
          "base_uri": "https://localhost:8080/"
        },
        "id": "F44azqUI5M9u",
        "outputId": "93caa9c8-b270-4682-c2c0-468615b570e2"
      },
      "execution_count": null,
      "outputs": [
        {
          "output_type": "execute_result",
          "data": {
            "text/plain": [
              "[[6], [9]]"
            ]
          },
          "metadata": {},
          "execution_count": 11
        }
      ]
    },
    {
      "cell_type": "code",
      "source": [
        "# ':=' 赋值表达式可以减少重复的代码\n",
        "a = 9\n",
        "if (a := 0):\n",
        "  print('right', a)\n",
        "else:\n",
        "  print(a)"
      ],
      "metadata": {
        "colab": {
          "base_uri": "https://localhost:8080/"
        },
        "id": "Qsx_H1tb6Tqv",
        "outputId": "c9b2d922-9fc7-4315-a227-83224e1dffc7"
      },
      "execution_count": null,
      "outputs": [
        {
          "output_type": "stream",
          "name": "stdout",
          "text": [
            "0\n"
          ]
        }
      ]
    },
    {
      "cell_type": "code",
      "source": [
        "[(last := count - 1) for count in [1, 2, 3]]\n",
        "print(last)"
      ],
      "metadata": {
        "colab": {
          "base_uri": "https://localhost:8080/"
        },
        "id": "m7bWAT7-8kAz",
        "outputId": "5eba9fd0-b8e0-4358-f583-56cfbf774cbd"
      },
      "execution_count": null,
      "outputs": [
        {
          "output_type": "stream",
          "name": "stdout",
          "text": [
            "2\n"
          ]
        }
      ]
    },
    {
      "cell_type": "code",
      "source": [
        "# 生成器\n",
        "def index_words(text):\n",
        "  result = []\n",
        "  if text:\n",
        "    result.append(0)\n",
        "  for index, letter in enumerate(text):\n",
        "    if letter == ' ':\n",
        "      result.append(index+1)\n",
        "  return result\n",
        "\n",
        "address = 'Four score and seven years age...'\n",
        "index_words(address)[:10]"
      ],
      "metadata": {
        "id": "Dbvja3Ww-Md7",
        "colab": {
          "base_uri": "https://localhost:8080/"
        },
        "outputId": "041f3cb3-205c-43d0-e128-ab336e980e8e"
      },
      "execution_count": null,
      "outputs": [
        {
          "output_type": "execute_result",
          "data": {
            "text/plain": [
              "[0, 5, 11, 15, 21, 27]"
            ]
          },
          "metadata": {},
          "execution_count": 3
        }
      ]
    },
    {
      "cell_type": "code",
      "source": [
        "# 利用生成器改进代码\n",
        "def index_words_iter(text):\n",
        "  if text:\n",
        "    yield 0\n",
        "  for index, letter in enumerate(text):\n",
        "    if letter == ' ':\n",
        "      yield index + 1\n",
        "\n",
        "it = index_words_iter(address)\n",
        "next(it)"
      ],
      "metadata": {
        "colab": {
          "base_uri": "https://localhost:8080/"
        },
        "id": "MS1jrx2G48R6",
        "outputId": "007adb17-5242-4be8-e928-d070b29b6dc3"
      },
      "execution_count": null,
      "outputs": [
        {
          "output_type": "execute_result",
          "data": {
            "text/plain": [
              "0"
            ]
          },
          "metadata": {},
          "execution_count": 6
        }
      ]
    },
    {
      "cell_type": "code",
      "source": [
        "# 把生成器得到的结果转换为列表\n",
        "list(index_words_iter(address))"
      ],
      "metadata": {
        "colab": {
          "base_uri": "https://localhost:8080/"
        },
        "id": "iG7vr0Y36APo",
        "outputId": "37a77316-8123-4b20-8235-d0d34ee92e0e"
      },
      "execution_count": null,
      "outputs": [
        {
          "output_type": "execute_result",
          "data": {
            "text/plain": [
              "[0, 5, 11, 15, 21, 27]"
            ]
          },
          "metadata": {},
          "execution_count": 7
        }
      ]
    },
    {
      "cell_type": "code",
      "source": [
        "def normalize_func(get_iter):\n",
        "  total = sum(get_iter())\n",
        "  result = []\n",
        "  for value in get_iter():\n",
        "    percent = 100 * value / total\n",
        "    result.append(percent)\n",
        "  return result\n",
        "\n",
        "def read_iter():\n",
        "  lt = [1, 2, 3]\n",
        "  for i in lt:\n",
        "    yield i\n",
        "\n",
        "normalize_func(lambda: read_iter())"
      ],
      "metadata": {
        "id": "XdXM0FaV7A-t",
        "colab": {
          "base_uri": "https://localhost:8080/"
        },
        "outputId": "d0177649-fa54-49e4-b935-cdb4e603e42d"
      },
      "execution_count": null,
      "outputs": [
        {
          "output_type": "execute_result",
          "data": {
            "text/plain": [
              "[16.666666666666668, 33.333333333333336, 50.0]"
            ]
          },
          "metadata": {},
          "execution_count": 2
        }
      ]
    },
    {
      "cell_type": "code",
      "source": [
        "def normalize(numbers):\n",
        "  total = sum(numbers)\n",
        "  result = []\n",
        "  for value in numbers:\n",
        "    percent = 100 * value / total\n",
        "    result.append(percent)\n",
        "  return result\n",
        "\n",
        "\n",
        "# 定义一个类,包含__iter__方法\n",
        "class ReadVisits:\n",
        "  def __init__(self, lt):\n",
        "    self.lt = lt\n",
        "\n",
        "  def __iter__(self):\n",
        "    for i in self.lt:\n",
        "      yield i\n",
        "\n",
        "visits = ReadVisits([1, 2, 3])\n",
        "normalize(visits)\n"
      ],
      "metadata": {
        "colab": {
          "base_uri": "https://localhost:8080/"
        },
        "id": "bBhCpCvJv826",
        "outputId": "031fc443-1eda-4cf2-9c1a-9b745f85b288"
      },
      "execution_count": null,
      "outputs": [
        {
          "output_type": "execute_result",
          "data": {
            "text/plain": [
              "[16.666666666666668, 33.333333333333336, 50.0]"
            ]
          },
          "metadata": {},
          "execution_count": 3
        }
      ]
    },
    {
      "cell_type": "code",
      "source": [
        "lt = [1, 2, 3]\n",
        "iter_lt = iter(lt)\n",
        "print(sum(iter_lt))\n",
        "print(next(iter_lt))"
      ],
      "metadata": {
        "colab": {
          "base_uri": "https://localhost:8080/",
          "height": 235
        },
        "id": "hQD7cjk7xl3g",
        "outputId": "4e10414e-69b9-4198-d6a8-01d19e25f232"
      },
      "execution_count": null,
      "outputs": [
        {
          "output_type": "stream",
          "name": "stdout",
          "text": [
            "6\n"
          ]
        },
        {
          "output_type": "error",
          "ename": "StopIteration",
          "evalue": "ignored",
          "traceback": [
            "\u001b[0;31m---------------------------------------------------------------------------\u001b[0m",
            "\u001b[0;31mStopIteration\u001b[0m                             Traceback (most recent call last)",
            "\u001b[0;32m<ipython-input-7-806402cd6518>\u001b[0m in \u001b[0;36m<cell line: 4>\u001b[0;34m()\u001b[0m\n\u001b[1;32m      2\u001b[0m \u001b[0miter_lt\u001b[0m \u001b[0;34m=\u001b[0m \u001b[0miter\u001b[0m\u001b[0;34m(\u001b[0m\u001b[0mlt\u001b[0m\u001b[0;34m)\u001b[0m\u001b[0;34m\u001b[0m\u001b[0;34m\u001b[0m\u001b[0m\n\u001b[1;32m      3\u001b[0m \u001b[0mprint\u001b[0m\u001b[0;34m(\u001b[0m\u001b[0msum\u001b[0m\u001b[0;34m(\u001b[0m\u001b[0miter_lt\u001b[0m\u001b[0;34m)\u001b[0m\u001b[0;34m)\u001b[0m\u001b[0;34m\u001b[0m\u001b[0;34m\u001b[0m\u001b[0m\n\u001b[0;32m----> 4\u001b[0;31m \u001b[0mprint\u001b[0m\u001b[0;34m(\u001b[0m\u001b[0mnext\u001b[0m\u001b[0;34m(\u001b[0m\u001b[0miter_lt\u001b[0m\u001b[0;34m)\u001b[0m\u001b[0;34m)\u001b[0m\u001b[0;34m\u001b[0m\u001b[0;34m\u001b[0m\u001b[0m\n\u001b[0m",
            "\u001b[0;31mStopIteration\u001b[0m: "
          ]
        }
      ]
    },
    {
      "cell_type": "code",
      "source": [
        "# _iter__方法和单纯iter()的区别,前者可以多次引用，后者只能引用一次\n",
        "iter_lt = ReadVisits([1, 2, 3])\n",
        "print(sum(iter_lt))\n",
        "for i in iter_lt:\n",
        "  print(i, end = ' ')"
      ],
      "metadata": {
        "colab": {
          "base_uri": "https://localhost:8080/"
        },
        "id": "as9AuOiazKan",
        "outputId": "e94fbcc4-c899-455e-f1dc-37bf0e69d16c"
      },
      "execution_count": null,
      "outputs": [
        {
          "output_type": "stream",
          "name": "stdout",
          "text": [
            "6\n",
            "1 2 3 "
          ]
        }
      ]
    },
    {
      "cell_type": "code",
      "source": [
        "# 生成器\n",
        "it = (len(x) for x in [[2, 3, 4], [2, 3], [3, 6, 7, 8]])\n",
        "# 注意区别 it = [len(x) for x in lt]\n",
        "# 列表推导式容易造成内存空间开销过大导致程序崩溃\n",
        "roots = ((x, x**2) for x in it)\n",
        "print(it)\n",
        "print(roots)"
      ],
      "metadata": {
        "id": "L9nZl25czg-P",
        "colab": {
          "base_uri": "https://localhost:8080/"
        },
        "outputId": "c18a046d-bf69-4f83-91aa-e8df50ea0389"
      },
      "execution_count": null,
      "outputs": [
        {
          "output_type": "stream",
          "name": "stdout",
          "text": [
            "<generator object <genexpr> at 0x7fad3130bd10>\n",
            "<generator object <genexpr> at 0x7fad3130bb50>\n"
          ]
        }
      ]
    },
    {
      "cell_type": "code",
      "source": [
        "print(next(it))\n",
        "print(next(roots))"
      ],
      "metadata": {
        "colab": {
          "base_uri": "https://localhost:8080/"
        },
        "id": "ToYJ-sp_ymPV",
        "outputId": "8c82c62e-68bb-4f9d-833d-2f5195bde5b5"
      },
      "execution_count": null,
      "outputs": [
        {
          "output_type": "stream",
          "name": "stdout",
          "text": [
            "3\n",
            "(2, 4)\n"
          ]
        }
      ]
    },
    {
      "cell_type": "code",
      "source": [
        "# yield from\n",
        "def test():\n",
        "  for i in range(1000):\n",
        "    yield i\n",
        "\n",
        "def slow():\n",
        "  for i in test():\n",
        "    yield i\n",
        "\n",
        "def fast():\n",
        "  yield from test()"
      ],
      "metadata": {
        "id": "PSc_ExOcyqi9"
      },
      "execution_count": null,
      "outputs": []
    },
    {
      "cell_type": "code",
      "source": [
        "import itertools"
      ],
      "metadata": {
        "id": "2tjHgR5UUyFw"
      },
      "execution_count": 1,
      "outputs": []
    },
    {
      "cell_type": "code",
      "source": [
        "list(itertools.permutations([1, 2, 3], 2))"
      ],
      "metadata": {
        "colab": {
          "base_uri": "https://localhost:8080/"
        },
        "id": "nrknRnpIPb7c",
        "outputId": "189be5cd-b786-42a6-c43f-ff0fbbb76275"
      },
      "execution_count": 2,
      "outputs": [
        {
          "output_type": "execute_result",
          "data": {
            "text/plain": [
              "[(1, 2), (1, 3), (2, 1), (2, 3), (3, 1), (3, 2)]"
            ]
          },
          "metadata": {},
          "execution_count": 2
        }
      ]
    },
    {
      "cell_type": "code",
      "source": [
        "list(itertools.combinations([1, 2, 3], 2))"
      ],
      "metadata": {
        "colab": {
          "base_uri": "https://localhost:8080/"
        },
        "id": "PfsFzNzWPhnD",
        "outputId": "4a4c995e-2171-4471-fc22-49799a32133d"
      },
      "execution_count": 3,
      "outputs": [
        {
          "output_type": "execute_result",
          "data": {
            "text/plain": [
              "[(1, 2), (1, 3), (2, 3)]"
            ]
          },
          "metadata": {},
          "execution_count": 3
        }
      ]
    },
    {
      "cell_type": "code",
      "source": [
        "list(itertools.combinations_with_replacement([1, 2, 3], 2))"
      ],
      "metadata": {
        "colab": {
          "base_uri": "https://localhost:8080/"
        },
        "id": "9RIAQnpYPs9q",
        "outputId": "aea670a7-45cd-4d7c-877e-18eb95a05757"
      },
      "execution_count": 4,
      "outputs": [
        {
          "output_type": "execute_result",
          "data": {
            "text/plain": [
              "[(1, 1), (1, 2), (1, 3), (2, 2), (2, 3), (3, 3)]"
            ]
          },
          "metadata": {},
          "execution_count": 4
        }
      ]
    },
    {
      "cell_type": "code",
      "source": [],
      "metadata": {
        "id": "zkWJo5TgP3eD"
      },
      "execution_count": null,
      "outputs": []
    }
  ]
}