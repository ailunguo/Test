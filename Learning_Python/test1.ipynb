{
  "nbformat": 4,
  "nbformat_minor": 0,
  "metadata": {
    "colab": {
      "provenance": [],
      "authorship_tag": "ABX9TyOSii5DwBhDjdNk8g8nAYzl",
      "include_colab_link": true
    },
    "kernelspec": {
      "name": "python3",
      "display_name": "Python 3"
    },
    "language_info": {
      "name": "python"
    }
  },
  "cells": [
    {
      "cell_type": "markdown",
      "metadata": {
        "id": "view-in-github",
        "colab_type": "text"
      },
      "source": [
        "<a href=\"https://colab.research.google.com/github/ailunguo/Test/blob/main/Learning_Python/test1.ipynb\" target=\"_parent\"><img src=\"https://colab.research.google.com/assets/colab-badge.svg\" alt=\"Open In Colab\"/></a>"
      ]
    },
    {
      "cell_type": "code",
      "execution_count": null,
      "metadata": {
        "colab": {
          "base_uri": "https://localhost:8080/"
        },
        "id": "YO5S7GoyTV1S",
        "outputId": "04898c97-a59d-4458-b0dc-060f58408a3c"
      },
      "outputs": [
        {
          "output_type": "execute_result",
          "data": {
            "text/plain": [
              "False"
            ]
          },
          "metadata": {},
          "execution_count": 2
        }
      ],
      "source": [
        "def find(x):\n",
        "  return x == x**2\n",
        "find(2)"
      ]
    },
    {
      "cell_type": "code",
      "source": [
        "bin(1 | 3).count('1')"
      ],
      "metadata": {
        "colab": {
          "base_uri": "https://localhost:8080/"
        },
        "id": "GYIWezV3TgIJ",
        "outputId": "88e5e874-baa0-4d61-bd31-468f6a152345"
      },
      "execution_count": null,
      "outputs": [
        {
          "output_type": "execute_result",
          "data": {
            "text/plain": [
              "2"
            ]
          },
          "metadata": {},
          "execution_count": 20
        }
      ]
    },
    {
      "cell_type": "code",
      "source": [
        "2^2^1^1^8"
      ],
      "metadata": {
        "colab": {
          "base_uri": "https://localhost:8080/"
        },
        "id": "NWUjDwuuX-_u",
        "outputId": "affbd278-5143-42c6-effc-eb8d340ccafe"
      },
      "execution_count": null,
      "outputs": [
        {
          "output_type": "execute_result",
          "data": {
            "text/plain": [
              "8"
            ]
          },
          "metadata": {},
          "execution_count": 24
        }
      ]
    },
    {
      "cell_type": "code",
      "source": [
        "0^3"
      ],
      "metadata": {
        "colab": {
          "base_uri": "https://localhost:8080/"
        },
        "id": "7olcJ0Vgcqn8",
        "outputId": "c9aa6bd4-209a-43ec-d848-407052ce3a25"
      },
      "execution_count": null,
      "outputs": [
        {
          "output_type": "execute_result",
          "data": {
            "text/plain": [
              "3"
            ]
          },
          "metadata": {},
          "execution_count": 25
        }
      ]
    },
    {
      "cell_type": "code",
      "source": [
        "1^2^3^4^5"
      ],
      "metadata": {
        "colab": {
          "base_uri": "https://localhost:8080/"
        },
        "id": "mdbeDFKrkRma",
        "outputId": "915fce24-b6d4-4435-8b4a-531f78e81753"
      },
      "execution_count": null,
      "outputs": [
        {
          "output_type": "execute_result",
          "data": {
            "text/plain": [
              "1"
            ]
          },
          "metadata": {},
          "execution_count": 36
        }
      ]
    },
    {
      "cell_type": "code",
      "source": [
        "1 ^ 4"
      ],
      "metadata": {
        "colab": {
          "base_uri": "https://localhost:8080/"
        },
        "id": "_QQh8Tsqln5Y",
        "outputId": "8752676d-d4db-4437-dd15-715a98f358f8"
      },
      "execution_count": null,
      "outputs": [
        {
          "output_type": "execute_result",
          "data": {
            "text/plain": [
              "5"
            ]
          },
          "metadata": {},
          "execution_count": 45
        }
      ]
    },
    {
      "cell_type": "code",
      "source": [
        "-1^0"
      ],
      "metadata": {
        "colab": {
          "base_uri": "https://localhost:8080/"
        },
        "id": "hhfRMyWCp12u",
        "outputId": "e66ac31f-0370-49e0-a4d3-3326fe980af2"
      },
      "execution_count": null,
      "outputs": [
        {
          "output_type": "execute_result",
          "data": {
            "text/plain": [
              "-1"
            ]
          },
          "metadata": {},
          "execution_count": 38
        }
      ]
    },
    {
      "cell_type": "code",
      "source": [
        "2 ^ 3"
      ],
      "metadata": {
        "colab": {
          "base_uri": "https://localhost:8080/"
        },
        "id": "aCLVTzaZp4BG",
        "outputId": "c438004b-33fe-4509-e07f-10fca37ec66a"
      },
      "execution_count": null,
      "outputs": [
        {
          "output_type": "execute_result",
          "data": {
            "text/plain": [
              "1"
            ]
          },
          "metadata": {},
          "execution_count": 46
        }
      ]
    },
    {
      "cell_type": "code",
      "source": [
        "-4 & 4"
      ],
      "metadata": {
        "colab": {
          "base_uri": "https://localhost:8080/"
        },
        "id": "QykX0F5Mq_TI",
        "outputId": "c0c602b8-763f-4700-9001-c7e3d79c651f"
      },
      "execution_count": null,
      "outputs": [
        {
          "output_type": "execute_result",
          "data": {
            "text/plain": [
              "4"
            ]
          },
          "metadata": {},
          "execution_count": 50
        }
      ]
    },
    {
      "cell_type": "code",
      "source": [
        "-5 & 5"
      ],
      "metadata": {
        "colab": {
          "base_uri": "https://localhost:8080/"
        },
        "id": "zwWRNl1VttkI",
        "outputId": "f3ea0056-6237-420f-f843-8a6743cd6579"
      },
      "execution_count": null,
      "outputs": [
        {
          "output_type": "execute_result",
          "data": {
            "text/plain": [
              "1"
            ]
          },
          "metadata": {},
          "execution_count": 53
        }
      ]
    },
    {
      "cell_type": "code",
      "source": [
        "lt = {'m': 'ab', 'n': 'a', 'o': 'abb', 'p': 'ar'}\n",
        "lt1 = ['ab', 'a', 'aaa', 'bb']\n",
        "t = lt1.sort(key=lambda x: len(x))\n",
        "t = dict(sorted(lt.items(), key=lambda item: len(item[1])))\n",
        "t"
      ],
      "metadata": {
        "colab": {
          "base_uri": "https://localhost:8080/"
        },
        "id": "DdvtttPowkb_",
        "outputId": "4a923f7e-a612-4fd3-f110-78893daf538f"
      },
      "execution_count": null,
      "outputs": [
        {
          "output_type": "execute_result",
          "data": {
            "text/plain": [
              "{'n': 'a', 'm': 'ab', 'p': 'ar', 'o': 'abb'}"
            ]
          },
          "metadata": {},
          "execution_count": 9
        }
      ]
    },
    {
      "cell_type": "code",
      "source": [
        "lt1 = ['ab', 'a', 'aaa', 'bb']\n",
        "a = sorted(lt1, key = lambda x: len(x))\n",
        "a"
      ],
      "metadata": {
        "id": "4j-TCh1y0cQe",
        "colab": {
          "base_uri": "https://localhost:8080/"
        },
        "outputId": "59f02ca3-2f6f-43a1-f0f4-92cd907f10da"
      },
      "execution_count": null,
      "outputs": [
        {
          "output_type": "execute_result",
          "data": {
            "text/plain": [
              "['a', 'ab', 'bb', 'aaa']"
            ]
          },
          "metadata": {},
          "execution_count": 14
        }
      ]
    },
    {
      "cell_type": "code",
      "source": [
        "bin(1), bin(4), bin(16), bin(64)"
      ],
      "metadata": {
        "colab": {
          "base_uri": "https://localhost:8080/"
        },
        "id": "FbL8BboDoKCM",
        "outputId": "8d5b1cad-1fa9-4317-8d32-0be1e62bdebe"
      },
      "execution_count": null,
      "outputs": [
        {
          "output_type": "execute_result",
          "data": {
            "text/plain": [
              "('0b1', '0b100', '0b10000', '0b1000000')"
            ]
          },
          "metadata": {},
          "execution_count": 16
        }
      ]
    },
    {
      "cell_type": "code",
      "source": [
        "5 ^ 7"
      ],
      "metadata": {
        "colab": {
          "base_uri": "https://localhost:8080/"
        },
        "id": "wt1mO2oLxBwd",
        "outputId": "3a666b5e-3d52-42dc-a41f-22dffe20c792"
      },
      "execution_count": null,
      "outputs": [
        {
          "output_type": "execute_result",
          "data": {
            "text/plain": [
              "2"
            ]
          },
          "metadata": {},
          "execution_count": 34
        }
      ]
    },
    {
      "cell_type": "code",
      "source": [
        "7 & -3"
      ],
      "metadata": {
        "colab": {
          "base_uri": "https://localhost:8080/"
        },
        "id": "VXjEqt8RyOwR",
        "outputId": "48c2c426-49dc-490d-dd4e-e37f891f648c"
      },
      "execution_count": null,
      "outputs": [
        {
          "output_type": "execute_result",
          "data": {
            "text/plain": [
              "5"
            ]
          },
          "metadata": {},
          "execution_count": 37
        }
      ]
    },
    {
      "cell_type": "code",
      "source": [
        "(5 & 3)<<1 & (5 ^ 3)"
      ],
      "metadata": {
        "colab": {
          "base_uri": "https://localhost:8080/"
        },
        "id": "BXhHGBIO3NCB",
        "outputId": "63028517-bf63-44c9-e6a0-bd92ec1ffc38"
      },
      "execution_count": null,
      "outputs": [
        {
          "output_type": "execute_result",
          "data": {
            "text/plain": [
              "2"
            ]
          },
          "metadata": {},
          "execution_count": 38
        }
      ]
    },
    {
      "cell_type": "code",
      "source": [
        "s = 'agjemc'\n",
        "'g' in s"
      ],
      "metadata": {
        "id": "dAdjQ8Agh22W",
        "colab": {
          "base_uri": "https://localhost:8080/"
        },
        "outputId": "6f978895-1d11-4689-f825-70d12085a688"
      },
      "execution_count": null,
      "outputs": [
        {
          "output_type": "execute_result",
          "data": {
            "text/plain": [
              "True"
            ]
          },
          "metadata": {},
          "execution_count": 1
        }
      ]
    },
    {
      "cell_type": "code",
      "source": [
        "'g' in ''"
      ],
      "metadata": {
        "colab": {
          "base_uri": "https://localhost:8080/"
        },
        "id": "ciTLrmItrPLe",
        "outputId": "51fafbee-bc1c-4e1d-fad7-f8dd6efc8caa"
      },
      "execution_count": null,
      "outputs": [
        {
          "output_type": "execute_result",
          "data": {
            "text/plain": [
              "False"
            ]
          },
          "metadata": {},
          "execution_count": 3
        }
      ]
    },
    {
      "cell_type": "code",
      "source": [
        "dt = {'a': 3, 'g': 4}\n",
        "for i in dt:\n",
        "  print(i)"
      ],
      "metadata": {
        "colab": {
          "base_uri": "https://localhost:8080/"
        },
        "id": "ichUl_L8rVfM",
        "outputId": "62377173-9a9e-4b51-df57-3deb4b54601b"
      },
      "execution_count": null,
      "outputs": [
        {
          "output_type": "stream",
          "name": "stdout",
          "text": [
            "a\n",
            "g\n"
          ]
        }
      ]
    },
    {
      "cell_type": "code",
      "source": [
        "bin(3), bin(-3)"
      ],
      "metadata": {
        "colab": {
          "base_uri": "https://localhost:8080/"
        },
        "id": "Y-KVbDppyHC6",
        "outputId": "572585b1-fff8-4cb4-8095-f553f463e982"
      },
      "execution_count": null,
      "outputs": [
        {
          "output_type": "execute_result",
          "data": {
            "text/plain": [
              "('0b11', '-0b11')"
            ]
          },
          "metadata": {},
          "execution_count": 5
        }
      ]
    },
    {
      "cell_type": "code",
      "source": [
        "3 & -3"
      ],
      "metadata": {
        "colab": {
          "base_uri": "https://localhost:8080/"
        },
        "id": "P-unJfSNGCVT",
        "outputId": "c21c2992-8088-48e1-de9b-94e0e237d6da"
      },
      "execution_count": null,
      "outputs": [
        {
          "output_type": "execute_result",
          "data": {
            "text/plain": [
              "1"
            ]
          },
          "metadata": {},
          "execution_count": 6
        }
      ]
    },
    {
      "cell_type": "code",
      "source": [
        "s = 'absd'\n",
        "lt = ['a', 'b', 'c']\n",
        "''.join(lt)"
      ],
      "metadata": {
        "colab": {
          "base_uri": "https://localhost:8080/",
          "height": 35
        },
        "id": "FlTyfyVLGF8o",
        "outputId": "0a5d7448-732f-420d-f615-255b9c835105"
      },
      "execution_count": null,
      "outputs": [
        {
          "output_type": "execute_result",
          "data": {
            "text/plain": [
              "'abc'"
            ],
            "application/vnd.google.colaboratory.intrinsic+json": {
              "type": "string"
            }
          },
          "metadata": {},
          "execution_count": 8
        }
      ]
    },
    {
      "cell_type": "code",
      "source": [
        "'ewaf' > 'awef'"
      ],
      "metadata": {
        "id": "kuTPevEZlpgj",
        "colab": {
          "base_uri": "https://localhost:8080/"
        },
        "outputId": "0cf69446-b587-4a9a-c251-5d6a0bb00c5b"
      },
      "execution_count": null,
      "outputs": [
        {
          "output_type": "execute_result",
          "data": {
            "text/plain": [
              "True"
            ]
          },
          "metadata": {},
          "execution_count": 5
        }
      ]
    },
    {
      "cell_type": "code",
      "source": [
        "'c' > 'a'"
      ],
      "metadata": {
        "colab": {
          "base_uri": "https://localhost:8080/"
        },
        "id": "p4NCVSYAceP5",
        "outputId": "e5eeeb94-d2d8-4c08-9e41-96c1ee21cefc"
      },
      "execution_count": null,
      "outputs": [
        {
          "output_type": "execute_result",
          "data": {
            "text/plain": [
              "True"
            ]
          },
          "metadata": {},
          "execution_count": 7
        }
      ]
    },
    {
      "cell_type": "code",
      "source": [
        "ord('s')"
      ],
      "metadata": {
        "colab": {
          "base_uri": "https://localhost:8080/"
        },
        "id": "ZXavF8gGctMB",
        "outputId": "4c766c74-23f5-4e1a-af03-48b8ad04fc55"
      },
      "execution_count": null,
      "outputs": [
        {
          "output_type": "execute_result",
          "data": {
            "text/plain": [
              "115"
            ]
          },
          "metadata": {},
          "execution_count": 9
        }
      ]
    },
    {
      "cell_type": "code",
      "source": [
        "def findLongestWord(s, dictionary) -> str:\n",
        "  def judge(s1, s2):\n",
        "    s1_left = 0\n",
        "    s1_right = len(s1) - 1\n",
        "    s2_left = 0\n",
        "    s2_right = len(s2) - 1\n",
        "    while s1_left <= s1_right and s2_left <= s2_right:\n",
        "      while s1_left <= s1_right and s1[s1_left] != s2[s2_left]:\n",
        "          s1_left += 1\n",
        "      if s1_left > s1_right:\n",
        "        return False\n",
        "      else:\n",
        "        s1_left += 1\n",
        "        s2_left += 1\n",
        "\n",
        "      if s2_left > s2_right:\n",
        "        return True\n",
        "\n",
        "      while s1_left <= s1_right and s1[s1_right] != s2[s2_right]:\n",
        "        s1_right -= 1\n",
        "      if s1_left > s1_right:\n",
        "        return False\n",
        "      else:\n",
        "        s1_right -= 1\n",
        "        s2_right -= 1\n",
        "    if s2_left > s2_right:\n",
        "      return True\n",
        "    else:\n",
        "      return False\n",
        "  ans = ''\n",
        "  for i in range(len(dictionary)):\n",
        "    word = dictionary[i]\n",
        "    if judge(s, word):\n",
        "      if len(word) > len(ans):\n",
        "        ans = word\n",
        "      elif len(word) == len(ans) and word < ans:\n",
        "        ans = word\n",
        "      else:\n",
        "        pass\n",
        "  return ans"
      ],
      "metadata": {
        "id": "SakZuU9PepSg"
      },
      "execution_count": null,
      "outputs": []
    },
    {
      "cell_type": "code",
      "source": [
        "s = \"aewfafwafjlwajflwajflwafj\"\n",
        "dt = [\"apple\",\"ewaf\",\"awefawfwaf\",\"awef\",\"awefe\",\"ewafeffewafewf\"]\n",
        "findLongestWord(s, dt)"
      ],
      "metadata": {
        "colab": {
          "base_uri": "https://localhost:8080/",
          "height": 35
        },
        "id": "dsLJyWmqhfS3",
        "outputId": "6fb235b0-8ea8-4cf6-bef2-a63faa603b9e"
      },
      "execution_count": null,
      "outputs": [
        {
          "output_type": "execute_result",
          "data": {
            "text/plain": [
              "'ewaf'"
            ],
            "application/vnd.google.colaboratory.intrinsic+json": {
              "type": "string"
            }
          },
          "metadata": {},
          "execution_count": 40
        }
      ]
    },
    {
      "cell_type": "code",
      "source": [
        "judge(s, 'awef')"
      ],
      "metadata": {
        "colab": {
          "base_uri": "https://localhost:8080/"
        },
        "id": "gfUAZ4e8h6e1",
        "outputId": "ddc0bd8a-859b-4196-e27a-8e415493451a"
      },
      "execution_count": null,
      "outputs": [
        {
          "output_type": "execute_result",
          "data": {
            "text/plain": [
              "False"
            ]
          },
          "metadata": {},
          "execution_count": 38
        }
      ]
    },
    {
      "cell_type": "code",
      "source": [
        "'awef' < 'ewaf'"
      ],
      "metadata": {
        "colab": {
          "base_uri": "https://localhost:8080/"
        },
        "id": "ATpYb0-ein5Z",
        "outputId": "ef74e50f-d623-4d67-d896-65363f7640bb"
      },
      "execution_count": null,
      "outputs": [
        {
          "output_type": "execute_result",
          "data": {
            "text/plain": [
              "True"
            ]
          },
          "metadata": {},
          "execution_count": 23
        }
      ]
    },
    {
      "cell_type": "code",
      "source": [
        "def judge(s1, s2):\n",
        "    s1_left = 0\n",
        "    s1_right = len(s1) - 1\n",
        "    s2_left = 0\n",
        "    s2_right = len(s2) - 1\n",
        "    while s1_left <= s1_right and s2_left <= s2_right:\n",
        "      while s1_left <= s1_right and s1[s1_left] != s2[s2_left]:\n",
        "          s1_left += 1\n",
        "      if s1_left > s1_right:\n",
        "        return False\n",
        "      else:\n",
        "        s1_left += 1\n",
        "        s2_left += 1\n",
        "\n",
        "      if s2_left > s2_right:\n",
        "        return True\n",
        "\n",
        "      while s1_left <= s1_right and s1[s1_right] != s2[s2_right]:\n",
        "        s1_right -= 1\n",
        "      if s1_left > s1_right:\n",
        "        return False\n",
        "      else:\n",
        "        s1_right -= 1\n",
        "        s2_right -= 1\n",
        "    if s2_left > s2_right:\n",
        "      return True\n",
        "    else:\n",
        "      return False"
      ],
      "metadata": {
        "id": "kAtB4fR1hzev"
      },
      "execution_count": null,
      "outputs": []
    },
    {
      "cell_type": "code",
      "source": [
        "def findLongestWord(s, dictionary) -> str:\n",
        "  res = ''\n",
        "  for word in dictionary:\n",
        "    i = j = 0\n",
        "    while i < len(word) and j < len(s):\n",
        "      if word[i] == s[j]:\n",
        "        i += 1\n",
        "      j += 1\n",
        "    if i == len(word):\n",
        "      if len(word) > len(res) or (len(word) == len(res) and word < res):\n",
        "        res = word\n",
        "  return res"
      ],
      "metadata": {
        "id": "lhYXGrplh5PI"
      },
      "execution_count": null,
      "outputs": []
    },
    {
      "cell_type": "code",
      "source": [
        "ord('a')"
      ],
      "metadata": {
        "colab": {
          "base_uri": "https://localhost:8080/"
        },
        "id": "FrP_LCmNiVPe",
        "outputId": "412b54ef-dea1-4fae-d4ea-0ed6efd46327"
      },
      "execution_count": null,
      "outputs": [
        {
          "output_type": "execute_result",
          "data": {
            "text/plain": [
              "97"
            ]
          },
          "metadata": {},
          "execution_count": 41
        }
      ]
    },
    {
      "cell_type": "code",
      "source": [],
      "metadata": {
        "colab": {
          "base_uri": "https://localhost:8080/",
          "height": 181
        },
        "id": "GeOO13JCnAqv",
        "outputId": "8cdb8d55-0a57-47d3-93ea-36c958f45e21"
      },
      "execution_count": null,
      "outputs": [
        {
          "output_type": "error",
          "ename": "TypeError",
          "evalue": "ignored",
          "traceback": [
            "\u001b[0;31m---------------------------------------------------------------------------\u001b[0m",
            "\u001b[0;31mTypeError\u001b[0m                                 Traceback (most recent call last)",
            "\u001b[0;32m<ipython-input-44-75d798a2fcca>\u001b[0m in \u001b[0;36m<cell line: 1>\u001b[0;34m()\u001b[0m\n\u001b[0;32m----> 1\u001b[0;31m \u001b[0;34m'a'\u001b[0m \u001b[0;34m+\u001b[0m \u001b[0;36m97\u001b[0m\u001b[0;34m\u001b[0m\u001b[0;34m\u001b[0m\u001b[0m\n\u001b[0m",
            "\u001b[0;31mTypeError\u001b[0m: can only concatenate str (not \"int\") to str"
          ]
        }
      ]
    },
    {
      "cell_type": "code",
      "source": [
        "for i in range(3, 0, -1):\n",
        "  print(i, end='')"
      ],
      "metadata": {
        "id": "ifmLue8wnHz-",
        "colab": {
          "base_uri": "https://localhost:8080/"
        },
        "outputId": "449d859c-3440-49f9-fc30-9a9c8313bf80"
      },
      "execution_count": 3,
      "outputs": [
        {
          "output_type": "stream",
          "name": "stdout",
          "text": [
            "321"
          ]
        }
      ]
    },
    {
      "cell_type": "code",
      "source": [
        "lt = [1, 2]\n",
        "lt.append([3, 4])\n",
        "lt"
      ],
      "metadata": {
        "colab": {
          "base_uri": "https://localhost:8080/"
        },
        "id": "Vc2wxOAFuSui",
        "outputId": "b3e62253-05f4-4c7f-d024-8152e1b04938"
      },
      "execution_count": 4,
      "outputs": [
        {
          "output_type": "execute_result",
          "data": {
            "text/plain": [
              "[1, 2, [3, 4]]"
            ]
          },
          "metadata": {},
          "execution_count": 4
        }
      ]
    },
    {
      "cell_type": "code",
      "source": [
        "'ab' + 'a'*2"
      ],
      "metadata": {
        "colab": {
          "base_uri": "https://localhost:8080/",
          "height": 35
        },
        "id": "Bl9XvP7f24Bm",
        "outputId": "9dc57e91-04c8-4177-cc12-5ce94c064261"
      },
      "execution_count": 9,
      "outputs": [
        {
          "output_type": "execute_result",
          "data": {
            "text/plain": [
              "'abaa'"
            ],
            "application/vnd.google.colaboratory.intrinsic+json": {
              "type": "string"
            }
          },
          "metadata": {},
          "execution_count": 9
        }
      ]
    },
    {
      "cell_type": "code",
      "source": [],
      "metadata": {
        "colab": {
          "base_uri": "https://localhost:8080/",
          "height": 248
        },
        "id": "lxqd-Yvj3ZK4",
        "outputId": "28b00899-d8a2-4f23-a4cf-bb1890557994"
      },
      "execution_count": 8,
      "outputs": [
        {
          "output_type": "error",
          "ename": "KeyError",
          "evalue": "ignored",
          "traceback": [
            "\u001b[0;31m---------------------------------------------------------------------------\u001b[0m",
            "\u001b[0;31mKeyError\u001b[0m                                  Traceback (most recent call last)",
            "\u001b[0;32m<ipython-input-8-b03883ffc96e>\u001b[0m in \u001b[0;36m<cell line: 3>\u001b[0;34m()\u001b[0m\n\u001b[1;32m      3\u001b[0m \u001b[0;32mfor\u001b[0m \u001b[0mc\u001b[0m \u001b[0;32min\u001b[0m \u001b[0ms\u001b[0m\u001b[0;34m:\u001b[0m\u001b[0;34m\u001b[0m\u001b[0;34m\u001b[0m\u001b[0m\n\u001b[1;32m      4\u001b[0m   \u001b[0;32mif\u001b[0m \u001b[0mc\u001b[0m \u001b[0;32min\u001b[0m \u001b[0ms\u001b[0m\u001b[0;34m:\u001b[0m\u001b[0;34m\u001b[0m\u001b[0;34m\u001b[0m\u001b[0m\n\u001b[0;32m----> 5\u001b[0;31m     \u001b[0mdt\u001b[0m\u001b[0;34m[\u001b[0m\u001b[0mc\u001b[0m\u001b[0;34m]\u001b[0m \u001b[0;34m+=\u001b[0m \u001b[0;36m1\u001b[0m\u001b[0;34m\u001b[0m\u001b[0;34m\u001b[0m\u001b[0m\n\u001b[0m\u001b[1;32m      6\u001b[0m   \u001b[0;32melse\u001b[0m\u001b[0;34m:\u001b[0m\u001b[0;34m\u001b[0m\u001b[0;34m\u001b[0m\u001b[0m\n\u001b[1;32m      7\u001b[0m     \u001b[0mdt\u001b[0m\u001b[0;34m[\u001b[0m\u001b[0mc\u001b[0m\u001b[0;34m]\u001b[0m \u001b[0;34m=\u001b[0m \u001b[0;36m1\u001b[0m\u001b[0;34m\u001b[0m\u001b[0;34m\u001b[0m\u001b[0m\n",
            "\u001b[0;31mKeyError\u001b[0m: 't'"
          ]
        }
      ]
    },
    {
      "cell_type": "code",
      "source": [],
      "metadata": {
        "id": "BqK5z_ry4eoI"
      },
      "execution_count": null,
      "outputs": []
    }
  ]
}