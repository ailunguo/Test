{
  "nbformat": 4,
  "nbformat_minor": 0,
  "metadata": {
    "colab": {
      "provenance": [],
      "authorship_tag": "ABX9TyOKBzYOfwkRunGZNnrhbYQR",
      "include_colab_link": true
    },
    "kernelspec": {
      "name": "python3",
      "display_name": "Python 3"
    },
    "language_info": {
      "name": "python"
    }
  },
  "cells": [
    {
      "cell_type": "markdown",
      "metadata": {
        "id": "view-in-github",
        "colab_type": "text"
      },
      "source": [
        "<a href=\"https://colab.research.google.com/github/ailunguo/Test/blob/main/Learning_Python/test2.ipynb\" target=\"_parent\"><img src=\"https://colab.research.google.com/assets/colab-badge.svg\" alt=\"Open In Colab\"/></a>"
      ]
    },
    {
      "cell_type": "code",
      "execution_count": null,
      "metadata": {
        "colab": {
          "base_uri": "https://localhost:8080/"
        },
        "id": "IpRpgOVzCluS",
        "outputId": "488f6f00-8296-4ae4-d43c-c3cfd41336e7"
      },
      "outputs": [
        {
          "output_type": "execute_result",
          "data": {
            "text/plain": [
              "[0, 0, 0, 4, 5]"
            ]
          },
          "metadata": {},
          "execution_count": 2
        }
      ],
      "source": [
        "lt = [1, 2, 3, 4, 5]\n",
        "lt[:3] = [0]*3\n",
        "lt"
      ]
    },
    {
      "cell_type": "code",
      "source": [
        "lt = [[1, 2], [7, 8], [4, 5]]\n",
        "lt.sort(key=lambda x: x[0])"
      ],
      "metadata": {
        "id": "GlZamMd5CyWZ"
      },
      "execution_count": null,
      "outputs": []
    },
    {
      "cell_type": "code",
      "source": [
        "lt"
      ],
      "metadata": {
        "colab": {
          "base_uri": "https://localhost:8080/"
        },
        "id": "GK_eTCQFmEDK",
        "outputId": "f3f3c82b-cd84-4857-ba53-eb59c6bd6608"
      },
      "execution_count": null,
      "outputs": [
        {
          "output_type": "execute_result",
          "data": {
            "text/plain": [
              "[[1, 2], [4, 5], [7, 8]]"
            ]
          },
          "metadata": {},
          "execution_count": 2
        }
      ]
    },
    {
      "cell_type": "code",
      "source": [
        "lt[1:]"
      ],
      "metadata": {
        "colab": {
          "base_uri": "https://localhost:8080/"
        },
        "id": "dhhcrLGNmFOo",
        "outputId": "560ee1ba-fad9-430c-838b-4b96ee7d634a"
      },
      "execution_count": null,
      "outputs": [
        {
          "output_type": "execute_result",
          "data": {
            "text/plain": [
              "[[4, 5], [7, 8]]"
            ]
          },
          "metadata": {},
          "execution_count": 3
        }
      ]
    },
    {
      "cell_type": "code",
      "source": [
        "for i in range(1, 1):\n",
        "  print(i)"
      ],
      "metadata": {
        "id": "SQ_A1tTKmdj4"
      },
      "execution_count": null,
      "outputs": []
    },
    {
      "cell_type": "code",
      "source": [
        "def canPlaceFlowers(flowerbed, n) -> bool:\n",
        "  length = len(flowerbed)\n",
        "  i = 0\n",
        "  ans = 0\n",
        "  while i < length:\n",
        "    cur = flowerbed[i]\n",
        "    if i == 0 and cur == 0:\n",
        "      ans += 1\n",
        "      i += 2\n",
        "    elif cur == 1:\n",
        "      i += 2\n",
        "    elif cur == 0:\n",
        "      if flowerbed[i-1] == 0 and (i + 1 == length or flowerbed[i + 1] == 0):\n",
        "        ans += 1\n",
        "        i += 2\n",
        "      else:\n",
        "        i += 1\n",
        "  print(ans, n)\n",
        "  if ans > n or ans == n:\n",
        "    return True\n",
        "  else:\n",
        "    return False"
      ],
      "metadata": {
        "id": "4JFkAuXUh_0F"
      },
      "execution_count": null,
      "outputs": []
    },
    {
      "cell_type": "code",
      "source": [
        "canPlaceFlowers([1, 0, 0, 0, 1], 1)"
      ],
      "metadata": {
        "colab": {
          "base_uri": "https://localhost:8080/"
        },
        "id": "EBXP26nMlfSV",
        "outputId": "44f2066d-e25e-4361-b3ac-75157875d24a"
      },
      "execution_count": null,
      "outputs": [
        {
          "output_type": "stream",
          "name": "stdout",
          "text": [
            "1 1\n"
          ]
        },
        {
          "output_type": "execute_result",
          "data": {
            "text/plain": [
              "True"
            ]
          },
          "metadata": {},
          "execution_count": 35
        }
      ]
    },
    {
      "cell_type": "code",
      "source": [
        "ans = 1\n",
        "n = 1\n",
        "if ans > n or ans == n:\n",
        "  print(1)\n",
        "else:\n",
        "  print(0)"
      ],
      "metadata": {
        "colab": {
          "base_uri": "https://localhost:8080/"
        },
        "id": "SV-0WGRcln50",
        "outputId": "f9af8129-9f23-48e5-9201-e94dde3dd27d"
      },
      "execution_count": null,
      "outputs": [
        {
          "output_type": "stream",
          "name": "stdout",
          "text": [
            "1\n"
          ]
        }
      ]
    },
    {
      "cell_type": "code",
      "source": [
        "dt = {}\n",
        "s = 'ababcbacadefegdehijhklij'\n",
        "for i in range(len(s)):\n",
        "  dt[s[i]] = i\n",
        "# 得到每个字符的最后一个下标"
      ],
      "metadata": {
        "id": "k3dhrE7jmi48"
      },
      "execution_count": 3,
      "outputs": []
    },
    {
      "cell_type": "code",
      "source": [
        "last_index = {}\n",
        "for i in range(len(s)):\n",
        "  last_index[s[i]] = i\n",
        "ans = []\n",
        "max_index = 0\n",
        "start = 0\n",
        "for i in range(len(s)):\n",
        "  index = last_index[s[i]]\n",
        "  if index > max_index:\n",
        "    max_index = index\n",
        "  if i == max_index:\n",
        "    ans.append(i - start)\n",
        "    max_index = 0\n",
        "    start = i\n",
        "ans"
      ],
      "metadata": {
        "colab": {
          "base_uri": "https://localhost:8080/"
        },
        "id": "sC7miAnMoXBr",
        "outputId": "86168f29-5ca6-4b16-fa15-d436ebcc8cc4"
      },
      "execution_count": 5,
      "outputs": [
        {
          "output_type": "execute_result",
          "data": {
            "text/plain": [
              "[8, 7, 8]"
            ]
          },
          "metadata": {},
          "execution_count": 5
        }
      ]
    },
    {
      "cell_type": "code",
      "source": [
        "(2 + 3) >> 1"
      ],
      "metadata": {
        "colab": {
          "base_uri": "https://localhost:8080/"
        },
        "id": "NrGTECbKq2h9",
        "outputId": "f201b0de-9586-489f-a9e6-74d02bc97c90"
      },
      "execution_count": 6,
      "outputs": [
        {
          "output_type": "execute_result",
          "data": {
            "text/plain": [
              "2"
            ]
          },
          "metadata": {},
          "execution_count": 6
        }
      ]
    },
    {
      "cell_type": "code",
      "source": [
        "letters = ['c', 'f', 'j']\n",
        "target = 'a'\n",
        "n = len(letters)\n",
        "ans = 0\n",
        "left, right = 0, n - 1\n",
        "while left <= right:\n",
        "  mid = (left + right) // 2\n",
        "  if letters[mid] >= target:\n",
        "    ans = mid\n",
        "    right = mid - 1\n",
        "  else:\n",
        "    left = mid + 1\n",
        "letters[ans]"
      ],
      "metadata": {
        "colab": {
          "base_uri": "https://localhost:8080/",
          "height": 35
        },
        "id": "Naldh9uV94yb",
        "outputId": "63dff0e3-84fd-40d0-ea36-fe40c8398e8d"
      },
      "execution_count": 7,
      "outputs": [
        {
          "output_type": "execute_result",
          "data": {
            "text/plain": [
              "'c'"
            ],
            "application/vnd.google.colaboratory.intrinsic+json": {
              "type": "string"
            }
          },
          "metadata": {},
          "execution_count": 7
        }
      ]
    },
    {
      "cell_type": "code",
      "source": [],
      "metadata": {
        "id": "nCqtJJV3_UKr"
      },
      "execution_count": null,
      "outputs": []
    }
  ]
}