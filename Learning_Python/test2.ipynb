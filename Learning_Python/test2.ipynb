{
  "nbformat": 4,
  "nbformat_minor": 0,
  "metadata": {
    "colab": {
      "provenance": [],
      "authorship_tag": "ABX9TyPraPYxPituna+C2BD+AebC",
      "include_colab_link": true
    },
    "kernelspec": {
      "name": "python3",
      "display_name": "Python 3"
    },
    "language_info": {
      "name": "python"
    }
  },
  "cells": [
    {
      "cell_type": "markdown",
      "metadata": {
        "id": "view-in-github",
        "colab_type": "text"
      },
      "source": [
        "<a href=\"https://colab.research.google.com/github/ailunguo/Test/blob/main/Learning_Python/test2.ipynb\" target=\"_parent\"><img src=\"https://colab.research.google.com/assets/colab-badge.svg\" alt=\"Open In Colab\"/></a>"
      ]
    },
    {
      "cell_type": "code",
      "execution_count": null,
      "metadata": {
        "colab": {
          "base_uri": "https://localhost:8080/"
        },
        "id": "IpRpgOVzCluS",
        "outputId": "488f6f00-8296-4ae4-d43c-c3cfd41336e7"
      },
      "outputs": [
        {
          "output_type": "execute_result",
          "data": {
            "text/plain": [
              "[0, 0, 0, 4, 5]"
            ]
          },
          "metadata": {},
          "execution_count": 2
        }
      ],
      "source": [
        "lt = [1, 2, 3, 4, 5]\n",
        "lt[:3] = [0]*3\n",
        "lt"
      ]
    },
    {
      "cell_type": "code",
      "source": [
        "lt = [[1, 2], [7, 8], [4, 5]]\n",
        "lt.sort(key=lambda x: x[0])"
      ],
      "metadata": {
        "id": "GlZamMd5CyWZ"
      },
      "execution_count": null,
      "outputs": []
    },
    {
      "cell_type": "code",
      "source": [
        "lt"
      ],
      "metadata": {
        "colab": {
          "base_uri": "https://localhost:8080/"
        },
        "id": "GK_eTCQFmEDK",
        "outputId": "f3f3c82b-cd84-4857-ba53-eb59c6bd6608"
      },
      "execution_count": null,
      "outputs": [
        {
          "output_type": "execute_result",
          "data": {
            "text/plain": [
              "[[1, 2], [4, 5], [7, 8]]"
            ]
          },
          "metadata": {},
          "execution_count": 2
        }
      ]
    },
    {
      "cell_type": "code",
      "source": [
        "lt[1:]"
      ],
      "metadata": {
        "colab": {
          "base_uri": "https://localhost:8080/"
        },
        "id": "dhhcrLGNmFOo",
        "outputId": "560ee1ba-fad9-430c-838b-4b96ee7d634a"
      },
      "execution_count": null,
      "outputs": [
        {
          "output_type": "execute_result",
          "data": {
            "text/plain": [
              "[[4, 5], [7, 8]]"
            ]
          },
          "metadata": {},
          "execution_count": 3
        }
      ]
    },
    {
      "cell_type": "code",
      "source": [
        "for i in range(1, 1):\n",
        "  print(i)"
      ],
      "metadata": {
        "id": "SQ_A1tTKmdj4"
      },
      "execution_count": 2,
      "outputs": []
    },
    {
      "cell_type": "code",
      "source": [
        "def canPlaceFlowers(flowerbed, n) -> bool:\n",
        "  length = len(flowerbed)\n",
        "  i = 0\n",
        "  ans = 0\n",
        "  while i < length:\n",
        "    cur = flowerbed[i]\n",
        "    if i == 0 and cur == 0:\n",
        "      ans += 1\n",
        "      i += 2\n",
        "    elif cur == 1:\n",
        "      i += 2\n",
        "    elif cur == 0:\n",
        "      if flowerbed[i-1] == 0 and (i + 1 == length or flowerbed[i + 1] == 0):\n",
        "        ans += 1\n",
        "        i += 2\n",
        "      else:\n",
        "        i += 1\n",
        "  print(ans, n)\n",
        "  if ans > n or ans == n:\n",
        "    return True\n",
        "  else:\n",
        "    return False"
      ],
      "metadata": {
        "id": "4JFkAuXUh_0F"
      },
      "execution_count": 34,
      "outputs": []
    },
    {
      "cell_type": "code",
      "source": [
        "canPlaceFlowers([1, 0, 0, 0, 1], 1)"
      ],
      "metadata": {
        "colab": {
          "base_uri": "https://localhost:8080/"
        },
        "id": "EBXP26nMlfSV",
        "outputId": "44f2066d-e25e-4361-b3ac-75157875d24a"
      },
      "execution_count": 35,
      "outputs": [
        {
          "output_type": "stream",
          "name": "stdout",
          "text": [
            "1 1\n"
          ]
        },
        {
          "output_type": "execute_result",
          "data": {
            "text/plain": [
              "True"
            ]
          },
          "metadata": {},
          "execution_count": 35
        }
      ]
    },
    {
      "cell_type": "code",
      "source": [
        "ans = 1\n",
        "n = 1\n",
        "if ans > n or ans == n:\n",
        "  print(1)\n",
        "else:\n",
        "  print(0)"
      ],
      "metadata": {
        "colab": {
          "base_uri": "https://localhost:8080/"
        },
        "id": "SV-0WGRcln50",
        "outputId": "f9af8129-9f23-48e5-9201-e94dde3dd27d"
      },
      "execution_count": 28,
      "outputs": [
        {
          "output_type": "stream",
          "name": "stdout",
          "text": [
            "1\n"
          ]
        }
      ]
    },
    {
      "cell_type": "code",
      "source": [],
      "metadata": {
        "id": "k3dhrE7jmi48"
      },
      "execution_count": null,
      "outputs": []
    }
  ]
}