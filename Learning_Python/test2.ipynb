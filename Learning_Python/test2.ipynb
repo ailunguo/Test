{
  "nbformat": 4,
  "nbformat_minor": 0,
  "metadata": {
    "colab": {
      "provenance": [],
      "authorship_tag": "ABX9TyN/lbnMhXk22XGOnuAeAkKo",
      "include_colab_link": true
    },
    "kernelspec": {
      "name": "python3",
      "display_name": "Python 3"
    },
    "language_info": {
      "name": "python"
    }
  },
  "cells": [
    {
      "cell_type": "markdown",
      "metadata": {
        "id": "view-in-github",
        "colab_type": "text"
      },
      "source": [
        "<a href=\"https://colab.research.google.com/github/ailunguo/Test/blob/main/Learning_Python/test2.ipynb\" target=\"_parent\"><img src=\"https://colab.research.google.com/assets/colab-badge.svg\" alt=\"Open In Colab\"/></a>"
      ]
    },
    {
      "cell_type": "code",
      "execution_count": null,
      "metadata": {
        "colab": {
          "base_uri": "https://localhost:8080/"
        },
        "id": "IpRpgOVzCluS",
        "outputId": "488f6f00-8296-4ae4-d43c-c3cfd41336e7"
      },
      "outputs": [
        {
          "output_type": "execute_result",
          "data": {
            "text/plain": [
              "[0, 0, 0, 4, 5]"
            ]
          },
          "metadata": {},
          "execution_count": 2
        }
      ],
      "source": [
        "lt = [1, 2, 3, 4, 5]\n",
        "lt[:3] = [0]*3\n",
        "lt"
      ]
    },
    {
      "cell_type": "code",
      "source": [
        "lt = [[1, 2], [7, 8], [4, 5]]\n",
        "lt.sort(key=lambda x: x[0])"
      ],
      "metadata": {
        "id": "GlZamMd5CyWZ"
      },
      "execution_count": null,
      "outputs": []
    },
    {
      "cell_type": "code",
      "source": [
        "lt"
      ],
      "metadata": {
        "colab": {
          "base_uri": "https://localhost:8080/"
        },
        "id": "GK_eTCQFmEDK",
        "outputId": "f3f3c82b-cd84-4857-ba53-eb59c6bd6608"
      },
      "execution_count": null,
      "outputs": [
        {
          "output_type": "execute_result",
          "data": {
            "text/plain": [
              "[[1, 2], [4, 5], [7, 8]]"
            ]
          },
          "metadata": {},
          "execution_count": 2
        }
      ]
    },
    {
      "cell_type": "code",
      "source": [
        "lt[1:]"
      ],
      "metadata": {
        "colab": {
          "base_uri": "https://localhost:8080/"
        },
        "id": "dhhcrLGNmFOo",
        "outputId": "560ee1ba-fad9-430c-838b-4b96ee7d634a"
      },
      "execution_count": null,
      "outputs": [
        {
          "output_type": "execute_result",
          "data": {
            "text/plain": [
              "[[4, 5], [7, 8]]"
            ]
          },
          "metadata": {},
          "execution_count": 3
        }
      ]
    },
    {
      "cell_type": "code",
      "source": [
        "for i in range(1, 1):\n",
        "  print(i)"
      ],
      "metadata": {
        "id": "SQ_A1tTKmdj4"
      },
      "execution_count": null,
      "outputs": []
    },
    {
      "cell_type": "code",
      "source": [
        "def canPlaceFlowers(flowerbed, n) -> bool:\n",
        "  length = len(flowerbed)\n",
        "  i = 0\n",
        "  ans = 0\n",
        "  while i < length:\n",
        "    cur = flowerbed[i]\n",
        "    if i == 0 and cur == 0:\n",
        "      ans += 1\n",
        "      i += 2\n",
        "    elif cur == 1:\n",
        "      i += 2\n",
        "    elif cur == 0:\n",
        "      if flowerbed[i-1] == 0 and (i + 1 == length or flowerbed[i + 1] == 0):\n",
        "        ans += 1\n",
        "        i += 2\n",
        "      else:\n",
        "        i += 1\n",
        "  print(ans, n)\n",
        "  if ans > n or ans == n:\n",
        "    return True\n",
        "  else:\n",
        "    return False"
      ],
      "metadata": {
        "id": "4JFkAuXUh_0F"
      },
      "execution_count": null,
      "outputs": []
    },
    {
      "cell_type": "code",
      "source": [
        "canPlaceFlowers([1, 0, 0, 0, 1], 1)"
      ],
      "metadata": {
        "colab": {
          "base_uri": "https://localhost:8080/"
        },
        "id": "EBXP26nMlfSV",
        "outputId": "44f2066d-e25e-4361-b3ac-75157875d24a"
      },
      "execution_count": null,
      "outputs": [
        {
          "output_type": "stream",
          "name": "stdout",
          "text": [
            "1 1\n"
          ]
        },
        {
          "output_type": "execute_result",
          "data": {
            "text/plain": [
              "True"
            ]
          },
          "metadata": {},
          "execution_count": 35
        }
      ]
    },
    {
      "cell_type": "code",
      "source": [
        "ans = 1\n",
        "n = 1\n",
        "if ans > n or ans == n:\n",
        "  print(1)\n",
        "else:\n",
        "  print(0)"
      ],
      "metadata": {
        "colab": {
          "base_uri": "https://localhost:8080/"
        },
        "id": "SV-0WGRcln50",
        "outputId": "f9af8129-9f23-48e5-9201-e94dde3dd27d"
      },
      "execution_count": null,
      "outputs": [
        {
          "output_type": "stream",
          "name": "stdout",
          "text": [
            "1\n"
          ]
        }
      ]
    },
    {
      "cell_type": "code",
      "source": [
        "dt = {}\n",
        "s = 'ababcbacadefegdehijhklij'\n",
        "for i in range(len(s)):\n",
        "  dt[s[i]] = i\n",
        "# 得到每个字符的最后一个下标"
      ],
      "metadata": {
        "id": "k3dhrE7jmi48"
      },
      "execution_count": null,
      "outputs": []
    },
    {
      "cell_type": "code",
      "source": [
        "last_index = {}\n",
        "for i in range(len(s)):\n",
        "  last_index[s[i]] = i\n",
        "ans = []\n",
        "max_index = 0\n",
        "start = 0\n",
        "for i in range(len(s)):\n",
        "  index = last_index[s[i]]\n",
        "  if index > max_index:\n",
        "    max_index = index\n",
        "  if i == max_index:\n",
        "    ans.append(i - start)\n",
        "    max_index = 0\n",
        "    start = i\n",
        "ans"
      ],
      "metadata": {
        "colab": {
          "base_uri": "https://localhost:8080/"
        },
        "id": "sC7miAnMoXBr",
        "outputId": "86168f29-5ca6-4b16-fa15-d436ebcc8cc4"
      },
      "execution_count": null,
      "outputs": [
        {
          "output_type": "execute_result",
          "data": {
            "text/plain": [
              "[8, 7, 8]"
            ]
          },
          "metadata": {},
          "execution_count": 5
        }
      ]
    },
    {
      "cell_type": "code",
      "source": [
        "(2 + 3) >> 1"
      ],
      "metadata": {
        "colab": {
          "base_uri": "https://localhost:8080/"
        },
        "id": "NrGTECbKq2h9",
        "outputId": "f201b0de-9586-489f-a9e6-74d02bc97c90"
      },
      "execution_count": null,
      "outputs": [
        {
          "output_type": "execute_result",
          "data": {
            "text/plain": [
              "2"
            ]
          },
          "metadata": {},
          "execution_count": 6
        }
      ]
    },
    {
      "cell_type": "code",
      "source": [
        "letters = ['c', 'f', 'j']\n",
        "target = 'a'\n",
        "n = len(letters)\n",
        "ans = 0\n",
        "left, right = 0, n - 1\n",
        "while left <= right:\n",
        "  mid = (left + right) // 2\n",
        "  if letters[mid] >= target:\n",
        "    ans = mid\n",
        "    right = mid - 1\n",
        "  else:\n",
        "    left = mid + 1\n",
        "letters[ans]"
      ],
      "metadata": {
        "colab": {
          "base_uri": "https://localhost:8080/",
          "height": 35
        },
        "id": "Naldh9uV94yb",
        "outputId": "63dff0e3-84fd-40d0-ea36-fe40c8398e8d"
      },
      "execution_count": null,
      "outputs": [
        {
          "output_type": "execute_result",
          "data": {
            "text/plain": [
              "'c'"
            ],
            "application/vnd.google.colaboratory.intrinsic+json": {
              "type": "string"
            }
          },
          "metadata": {},
          "execution_count": 7
        }
      ]
    },
    {
      "cell_type": "code",
      "source": [
        "s = 'Python'\n",
        "s[1:3:2]"
      ],
      "metadata": {
        "id": "nCqtJJV3_UKr",
        "colab": {
          "base_uri": "https://localhost:8080/",
          "height": 35
        },
        "outputId": "6f965b85-2d52-42be-ec49-40c5cb840768"
      },
      "execution_count": 1,
      "outputs": [
        {
          "output_type": "execute_result",
          "data": {
            "text/plain": [
              "'y'"
            ],
            "application/vnd.google.colaboratory.intrinsic+json": {
              "type": "string"
            }
          },
          "metadata": {},
          "execution_count": 1
        }
      ]
    },
    {
      "cell_type": "code",
      "source": [
        "list(range(1, 5, 2))"
      ],
      "metadata": {
        "colab": {
          "base_uri": "https://localhost:8080/"
        },
        "id": "Bo68uctzO8VE",
        "outputId": "e96aeb19-1aa1-4cc0-cc62-c5c1cbaf9202"
      },
      "execution_count": 5,
      "outputs": [
        {
          "output_type": "execute_result",
          "data": {
            "text/plain": [
              "[1, 3]"
            ]
          },
          "metadata": {},
          "execution_count": 5
        }
      ]
    },
    {
      "cell_type": "code",
      "source": [
        "from sklearn.feature_extraction.text import CountVectorizer\n",
        "txt = ['car bus truck', 'bus truck', 'car truck']\n",
        "cv = CountVectorizer()\n",
        "result = cv.fit_transform(txt)\n",
        "cv.vocabulary_"
      ],
      "metadata": {
        "colab": {
          "base_uri": "https://localhost:8080/"
        },
        "id": "WYJL6BqoPYrF",
        "outputId": "505900e9-a707-4b6d-ce8e-104f0f4a13b2"
      },
      "execution_count": 11,
      "outputs": [
        {
          "output_type": "execute_result",
          "data": {
            "text/plain": [
              "{'car': 1, 'bus': 0, 'truck': 2}"
            ]
          },
          "metadata": {},
          "execution_count": 11
        }
      ]
    },
    {
      "cell_type": "code",
      "source": [
        "result.toarray()"
      ],
      "metadata": {
        "colab": {
          "base_uri": "https://localhost:8080/"
        },
        "id": "YvG1PpnxQk8M",
        "outputId": "2bd57cb5-92f7-4987-d12f-57032fe81c3c"
      },
      "execution_count": 14,
      "outputs": [
        {
          "output_type": "execute_result",
          "data": {
            "text/plain": [
              "array([[1, 1, 1],\n",
              "       [1, 0, 1],\n",
              "       [0, 1, 1]])"
            ]
          },
          "metadata": {},
          "execution_count": 14
        }
      ]
    },
    {
      "cell_type": "code",
      "source": [
        "f = lambda x, y: x + y\n",
        "f(2, 3)"
      ],
      "metadata": {
        "colab": {
          "base_uri": "https://localhost:8080/"
        },
        "id": "lDwPO_LZQoRT",
        "outputId": "94713058-81de-498e-defe-d27a5dc4bd77"
      },
      "execution_count": 15,
      "outputs": [
        {
          "output_type": "execute_result",
          "data": {
            "text/plain": [
              "5"
            ]
          },
          "metadata": {},
          "execution_count": 15
        }
      ]
    },
    {
      "cell_type": "code",
      "source": [
        "from sklearn.datasets import load_iris\n",
        "iris = load_iris()"
      ],
      "metadata": {
        "id": "sLl4vue_R0Us"
      },
      "execution_count": 16,
      "outputs": []
    },
    {
      "cell_type": "code",
      "source": [
        "type(iris)"
      ],
      "metadata": {
        "colab": {
          "base_uri": "https://localhost:8080/"
        },
        "id": "ugvCugoAS9pE",
        "outputId": "df33d9b3-aa9e-4ea8-86c5-60af1759c3a0"
      },
      "execution_count": 19,
      "outputs": [
        {
          "output_type": "execute_result",
          "data": {
            "text/plain": [
              "sklearn.utils._bunch.Bunch"
            ]
          },
          "metadata": {},
          "execution_count": 19
        }
      ]
    },
    {
      "cell_type": "code",
      "source": [
        "import jieba\n",
        "txt = '伟大的毛泽东思想战无不胜'\n",
        "jieba.lcut(txt)"
      ],
      "metadata": {
        "colab": {
          "base_uri": "https://localhost:8080/"
        },
        "id": "9IfOPbM0S_Vz",
        "outputId": "8bf0b362-d09c-40af-9c90-6754bd719813"
      },
      "execution_count": 22,
      "outputs": [
        {
          "output_type": "execute_result",
          "data": {
            "text/plain": [
              "['伟大', '的', '毛泽东思想', '战无不胜']"
            ]
          },
          "metadata": {},
          "execution_count": 22
        }
      ]
    },
    {
      "cell_type": "code",
      "source": [
        "lt = [5, 2, 4, 7, 3]"
      ],
      "metadata": {
        "id": "iSVxLhB_Tqkj"
      },
      "execution_count": 24,
      "outputs": []
    },
    {
      "cell_type": "code",
      "source": [
        "max1 = -10000\n",
        "max2 = -10000\n",
        "for i in lt:\n",
        "  if i > max1:\n",
        "    max2 = max1\n",
        "    max1 = i\n",
        "  elif i > max2:\n",
        "    max2 = i\n",
        "print(max1, max2)"
      ],
      "metadata": {
        "colab": {
          "base_uri": "https://localhost:8080/"
        },
        "id": "hprytXmFU-J6",
        "outputId": "83df8397-e84f-48b6-9680-a1759acaa1f3"
      },
      "execution_count": 25,
      "outputs": [
        {
          "output_type": "stream",
          "name": "stdout",
          "text": [
            "7 5\n"
          ]
        }
      ]
    },
    {
      "cell_type": "code",
      "source": [],
      "metadata": {
        "id": "kIFTOwuuVS4D"
      },
      "execution_count": null,
      "outputs": []
    }
  ]
}