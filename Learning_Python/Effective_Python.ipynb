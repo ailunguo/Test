{
  "nbformat": 4,
  "nbformat_minor": 0,
  "metadata": {
    "colab": {
      "provenance": [],
      "authorship_tag": "ABX9TyPwOnppROMudqlvvW4nxGLl",
      "include_colab_link": true
    },
    "kernelspec": {
      "name": "python3",
      "display_name": "Python 3"
    },
    "language_info": {
      "name": "python"
    }
  },
  "cells": [
    {
      "cell_type": "markdown",
      "metadata": {
        "id": "view-in-github",
        "colab_type": "text"
      },
      "source": [
        "<a href=\"https://colab.research.google.com/github/ailunguo/Test/blob/main/Learning_Python/Effective_Python.ipynb\" target=\"_parent\"><img src=\"https://colab.research.google.com/assets/colab-badge.svg\" alt=\"Open In Colab\"/></a>"
      ]
    },
    {
      "cell_type": "code",
      "source": [
        "snack_calories = {\n",
        "    'chips': 140,\n",
        "    'popcorn': 80,\n",
        "    'nuts': 190\n",
        "}\n",
        "items = tuple(snack_calories.items())\n",
        "items"
      ],
      "metadata": {
        "id": "p1yoNy_AtPDR",
        "colab": {
          "base_uri": "https://localhost:8080/"
        },
        "outputId": "59157faf-8409-4e38-e196-6e925d0db995"
      },
      "execution_count": null,
      "outputs": [
        {
          "output_type": "execute_result",
          "data": {
            "text/plain": [
              "(('chips', 140), ('popcorn', 80), ('nuts', 190))"
            ]
          },
          "metadata": {},
          "execution_count": 2
        }
      ]
    },
    {
      "cell_type": "code",
      "source": [
        "item = ('Peanut butter', 'Jelly')\n",
        "first = item[0]\n",
        "second = item[1]\n",
        "print(first, 'and', second)"
      ],
      "metadata": {
        "colab": {
          "base_uri": "https://localhost:8080/"
        },
        "id": "h5SIHNqX5xLO",
        "outputId": "d5006f36-9dcd-489a-b17b-b8b208e2a59e"
      },
      "execution_count": null,
      "outputs": [
        {
          "output_type": "stream",
          "name": "stdout",
          "text": [
            "Peanut butter and Jelly\n"
          ]
        }
      ]
    },
    {
      "cell_type": "code",
      "source": [
        "# tuple类型不支持更改\n",
        "pair = ('Chocolate', 'Peanut butter')\n",
        "pair[0] = 'Honey'"
      ],
      "metadata": {
        "colab": {
          "base_uri": "https://localhost:8080/",
          "height": 217
        },
        "id": "tqgxZcbL6EjU",
        "outputId": "bb2d62a0-bd59-4390-edf7-e5149e1e14d5"
      },
      "execution_count": null,
      "outputs": [
        {
          "output_type": "error",
          "ename": "TypeError",
          "evalue": "ignored",
          "traceback": [
            "\u001b[0;31m---------------------------------------------------------------------------\u001b[0m",
            "\u001b[0;31mTypeError\u001b[0m                                 Traceback (most recent call last)",
            "\u001b[0;32m<ipython-input-5-1c183e0bfc53>\u001b[0m in \u001b[0;36m<cell line: 3>\u001b[0;34m()\u001b[0m\n\u001b[1;32m      1\u001b[0m \u001b[0;31m# tuple类型不支持更改\u001b[0m\u001b[0;34m\u001b[0m\u001b[0;34m\u001b[0m\u001b[0m\n\u001b[1;32m      2\u001b[0m \u001b[0mpair\u001b[0m \u001b[0;34m=\u001b[0m \u001b[0;34m(\u001b[0m\u001b[0;34m'Chocolate'\u001b[0m\u001b[0;34m,\u001b[0m \u001b[0;34m'Peanut butter'\u001b[0m\u001b[0;34m)\u001b[0m\u001b[0;34m\u001b[0m\u001b[0;34m\u001b[0m\u001b[0m\n\u001b[0;32m----> 3\u001b[0;31m \u001b[0mpair\u001b[0m\u001b[0;34m[\u001b[0m\u001b[0;36m0\u001b[0m\u001b[0;34m]\u001b[0m \u001b[0;34m=\u001b[0m \u001b[0;34m'Honey'\u001b[0m\u001b[0;34m\u001b[0m\u001b[0;34m\u001b[0m\u001b[0m\n\u001b[0m",
            "\u001b[0;31mTypeError\u001b[0m: 'tuple' object does not support item assignment"
          ]
        }
      ]
    },
    {
      "cell_type": "code",
      "source": [
        "item = ('Peanut butter', 'Jelly')\n",
        "first, second = item\n",
        "print(first, 'and', second)"
      ],
      "metadata": {
        "colab": {
          "base_uri": "https://localhost:8080/"
        },
        "id": "YEdaa3ZL6UrL",
        "outputId": "8862506c-ca01-48fd-d8c2-4d1ce9e91b55"
      },
      "execution_count": null,
      "outputs": [
        {
          "output_type": "stream",
          "name": "stdout",
          "text": [
            "Peanut butter and Jelly\n"
          ]
        }
      ]
    },
    {
      "cell_type": "code",
      "source": [
        "favorite_snacks = {\n",
        "    'salty': ('pretzels', 100),\n",
        "    'sweet': ('cookies', 80),\n",
        "    'veggie': ('carrots', 20),\n",
        "}\n",
        "favorite_snacks"
      ],
      "metadata": {
        "colab": {
          "base_uri": "https://localhost:8080/"
        },
        "id": "YFtMKCh76udN",
        "outputId": "3732cdb7-5a11-4910-d7bc-e9ed87b48f10"
      },
      "execution_count": null,
      "outputs": [
        {
          "output_type": "execute_result",
          "data": {
            "text/plain": [
              "{'salty': ('pretzels', 100),\n",
              " 'sweet': ('cookies', 80),\n",
              " 'veggie': ('carrots', 20)}"
            ]
          },
          "metadata": {},
          "execution_count": 7
        }
      ]
    },
    {
      "cell_type": "code",
      "source": [
        "((type1, (name1, cals1)),\n",
        " (type2, (name2, cals2)),\n",
        " (type3, (name3, cals3))) = favorite_snacks.items()\n",
        "# 上面的type, name, cals分别和favorite_snacs中的一一对应"
      ],
      "metadata": {
        "id": "6Cf4pbq07C-I"
      },
      "execution_count": null,
      "outputs": []
    },
    {
      "cell_type": "code",
      "source": [
        "print(f'{type1}, {name1}, {cals1}')"
      ],
      "metadata": {
        "colab": {
          "base_uri": "https://localhost:8080/"
        },
        "id": "9t_rrEE_7XGD",
        "outputId": "b4c89a6b-3a35-464c-adc1-05a5446ba381"
      },
      "execution_count": null,
      "outputs": [
        {
          "output_type": "stream",
          "name": "stdout",
          "text": [
            "salty, pretzels, 100\n"
          ]
        }
      ]
    },
    {
      "cell_type": "code",
      "source": [
        "from random import randint"
      ],
      "metadata": {
        "id": "T-CGIOcP73y9"
      },
      "execution_count": null,
      "outputs": []
    },
    {
      "cell_type": "code",
      "source": [
        "randint(0, 1)"
      ],
      "metadata": {
        "colab": {
          "base_uri": "https://localhost:8080/"
        },
        "id": "ONMYNRsZ8_Vd",
        "outputId": "56f5073f-dc34-4326-a563-2e236b37d177"
      },
      "execution_count": null,
      "outputs": [
        {
          "output_type": "execute_result",
          "data": {
            "text/plain": [
              "0"
            ]
          },
          "metadata": {},
          "execution_count": 15
        }
      ]
    },
    {
      "cell_type": "code",
      "source": [
        "bin(8 << 1)"
      ],
      "metadata": {
        "colab": {
          "base_uri": "https://localhost:8080/",
          "height": 35
        },
        "id": "CBWHbEZQ9A99",
        "outputId": "c7a1b328-4c11-490c-e645-7c0610b72901"
      },
      "execution_count": null,
      "outputs": [
        {
          "output_type": "execute_result",
          "data": {
            "text/plain": [
              "'0b10000'"
            ],
            "application/vnd.google.colaboratory.intrinsic+json": {
              "type": "string"
            }
          },
          "metadata": {},
          "execution_count": 18
        }
      ]
    },
    {
      "cell_type": "code",
      "source": [
        "lt = ['vanilla', 'chocolate', 'pecan', 'strawberry']\n",
        "it = enumerate(lt)\n",
        "next(it)"
      ],
      "metadata": {
        "colab": {
          "base_uri": "https://localhost:8080/"
        },
        "id": "Zz557jZc9K4t",
        "outputId": "c9f1b688-c2ec-44fb-ce4e-710975da0bd0"
      },
      "execution_count": null,
      "outputs": [
        {
          "output_type": "execute_result",
          "data": {
            "text/plain": [
              "(0, 'vanilla')"
            ]
          },
          "metadata": {},
          "execution_count": 19
        }
      ]
    },
    {
      "cell_type": "code",
      "source": [
        "next(it)"
      ],
      "metadata": {
        "colab": {
          "base_uri": "https://localhost:8080/"
        },
        "id": "i6aZJubj9lp8",
        "outputId": "1041e73f-2af0-4ec9-81f1-b9affaf9871a"
      },
      "execution_count": null,
      "outputs": [
        {
          "output_type": "execute_result",
          "data": {
            "text/plain": [
              "(1, 'chocolate')"
            ]
          },
          "metadata": {},
          "execution_count": 20
        }
      ]
    },
    {
      "cell_type": "code",
      "source": [
        "for i, name in it:\n",
        "  print(i, name)"
      ],
      "metadata": {
        "colab": {
          "base_uri": "https://localhost:8080/"
        },
        "id": "Gzr4--Az9nUF",
        "outputId": "abe3dc30-c2e9-4867-de48-a102bfa602fa"
      },
      "execution_count": null,
      "outputs": [
        {
          "output_type": "stream",
          "name": "stdout",
          "text": [
            "2 pecan\n",
            "3 strawberry\n"
          ]
        }
      ]
    },
    {
      "cell_type": "code",
      "source": [
        "names = ['Cecilla', 'Lisa', 'Marie']\n"
      ],
      "metadata": {
        "id": "JkKi6l9x9rt9"
      },
      "execution_count": null,
      "outputs": []
    },
    {
      "cell_type": "markdown",
      "source": [
        "# 2, Lists and Dictionaries"
      ],
      "metadata": {
        "id": "DHt01vrtRIsc"
      }
    },
    {
      "cell_type": "code",
      "source": [
        "it = iter(range(3))\n",
        "for i in it:\n",
        "  print(i)"
      ],
      "metadata": {
        "colab": {
          "base_uri": "https://localhost:8080/"
        },
        "id": "RJUxZkt3RRQI",
        "outputId": "19dbeadc-6adf-45c9-d825-88d4a5022609"
      },
      "execution_count": null,
      "outputs": [
        {
          "output_type": "stream",
          "name": "stdout",
          "text": [
            "0\n",
            "1\n",
            "2\n"
          ]
        }
      ]
    },
    {
      "cell_type": "code",
      "source": [
        "def generate_csv():\n",
        "  yield ('Date', 'Make', 'Model', 'Year', 'Price')\n",
        "next(generate_csv()) # generate_csv()使用yield返回的生成器，所以需要用next()来加载内容"
      ],
      "metadata": {
        "colab": {
          "base_uri": "https://localhost:8080/"
        },
        "id": "1q1hcyteSYbQ",
        "outputId": "f125a178-7921-4735-d8fa-112117bcf60a"
      },
      "execution_count": null,
      "outputs": [
        {
          "output_type": "execute_result",
          "data": {
            "text/plain": [
              "('Date', 'Make', 'Model', 'Year', 'Price')"
            ]
          },
          "metadata": {},
          "execution_count": 4
        }
      ]
    },
    {
      "cell_type": "code",
      "source": [
        "votes = {\n",
        "  'otter': 1281,\n",
        "  'polar bear': 587,\n",
        "  'fox': 863\n",
        "}\n",
        "names = list(votes.keys())\n",
        "names.sort(key=votes.get, reverse=True)\n",
        "print(names)"
      ],
      "metadata": {
        "colab": {
          "base_uri": "https://localhost:8080/"
        },
        "id": "VJk03hhMStk9",
        "outputId": "eddc266a-c8ce-4890-dff3-c7e2214f02b3"
      },
      "execution_count": null,
      "outputs": [
        {
          "output_type": "stream",
          "name": "stdout",
          "text": [
            "['otter', 'fox', 'polar bear']\n"
          ]
        }
      ]
    },
    {
      "cell_type": "code",
      "source": [
        "car_ages = [0, 9, 4, 8, 7, 20, 19, 1, 6, 15]\n",
        "car_ages_descending = sorted(car_ages, reverse=True)\n",
        "car_ages_descending"
      ],
      "metadata": {
        "colab": {
          "base_uri": "https://localhost:8080/"
        },
        "id": "ewSQar9MWaiY",
        "outputId": "03c8e18a-ec71-41a2-e0a9-69912869d9ba"
      },
      "execution_count": null,
      "outputs": [
        {
          "output_type": "execute_result",
          "data": {
            "text/plain": [
              "[20, 19, 15, 9, 8, 7, 6, 4, 1, 0]"
            ]
          },
          "metadata": {},
          "execution_count": 3
        }
      ]
    },
    {
      "cell_type": "code",
      "source": [
        "oldest, second_oldest, *others = car_ages_descending\n",
        "print(oldest, second_oldest, others)"
      ],
      "metadata": {
        "id": "eAhq_99cWtpw",
        "colab": {
          "base_uri": "https://localhost:8080/"
        },
        "outputId": "ced3a793-136a-4354-8888-1f0c32fb7fad"
      },
      "execution_count": null,
      "outputs": [
        {
          "output_type": "stream",
          "name": "stdout",
          "text": [
            "20 19 [15, 9, 8, 7, 6, 4, 1, 0]\n"
          ]
        }
      ]
    },
    {
      "cell_type": "code",
      "source": [
        "oldest, *others, youngest = car_ages_descending\n",
        "print(oldest, youngest, others)"
      ],
      "metadata": {
        "colab": {
          "base_uri": "https://localhost:8080/"
        },
        "id": "uRW8zmTR3otn",
        "outputId": "0d1ca4dc-e65e-4167-b32b-c45edbc87c66"
      },
      "execution_count": null,
      "outputs": [
        {
          "output_type": "stream",
          "name": "stdout",
          "text": [
            "20 0 [19, 15, 9, 8, 7, 6, 4, 1]\n"
          ]
        }
      ]
    },
    {
      "cell_type": "code",
      "source": [
        "*others, second_youngest, youngest = car_ages_descending\n",
        "print(youngest, second_youngest, others)"
      ],
      "metadata": {
        "colab": {
          "base_uri": "https://localhost:8080/"
        },
        "id": "r-7gFB2o323R",
        "outputId": "85428689-d625-48e0-e437-b88a358579b4"
      },
      "execution_count": null,
      "outputs": [
        {
          "output_type": "stream",
          "name": "stdout",
          "text": [
            "0 1 [20, 19, 15, 9, 8, 7, 6, 4]\n"
          ]
        }
      ]
    },
    {
      "cell_type": "code",
      "source": [
        "class Tool:\n",
        "  def __init__(self, name, weight):\n",
        "    self.name = name\n",
        "    self.weight = weight\n",
        "\n",
        "  def __repr__(self):\n",
        "    return f'Tool({self.name!r}, {self.weight})'"
      ],
      "metadata": {
        "id": "NKSJ3ckc36HZ"
      },
      "execution_count": null,
      "outputs": []
    },
    {
      "cell_type": "code",
      "source": [
        "tools = [\n",
        "    Tool('level', 3.5),\n",
        "    Tool('hammer', 1.25),\n",
        "    Tool('screwdrive', 0.5),\n",
        "    Tool('chisel', 0.25),\n",
        "]"
      ],
      "metadata": {
        "id": "KGc_HOrl4zoD"
      },
      "execution_count": null,
      "outputs": []
    },
    {
      "cell_type": "code",
      "source": [
        "print('Unsorted:',repr(tools))\n",
        "tools.sort(key=lambda x: x.name)\n",
        "print('Sorted:', tools)"
      ],
      "metadata": {
        "colab": {
          "base_uri": "https://localhost:8080/"
        },
        "id": "N7KKNg2y5EfE",
        "outputId": "ad085c3c-de2f-4ca8-e52f-683720dc5976"
      },
      "execution_count": null,
      "outputs": [
        {
          "output_type": "stream",
          "name": "stdout",
          "text": [
            "Unsorted: [Tool('level', 3.5), Tool('hammer', 1.25), Tool('screwdrive', 0.5), Tool('chisel', 0.25)]\n",
            "Sorted: [Tool('chisel', 0.25), Tool('hammer', 1.25), Tool('level', 3.5), Tool('screwdrive', 0.5)]\n"
          ]
        }
      ]
    },
    {
      "cell_type": "code",
      "source": [
        "tools.sort(key=lambda x: x.weight)\n",
        "tools"
      ],
      "metadata": {
        "colab": {
          "base_uri": "https://localhost:8080/"
        },
        "id": "TdfXt9kJ5HWT",
        "outputId": "ee687283-f014-4a3b-c356-d66427a41f1a"
      },
      "execution_count": null,
      "outputs": [
        {
          "output_type": "execute_result",
          "data": {
            "text/plain": [
              "[Tool('chisel', 0.25),\n",
              " Tool('screwdrive', 0.5),\n",
              " Tool('hammer', 1.25),\n",
              " Tool('level', 3.5)]"
            ]
          },
          "metadata": {},
          "execution_count": 13
        }
      ]
    },
    {
      "cell_type": "code",
      "source": [
        "places = ['home', 'work', 'New York', 'Paris']\n",
        "places.sort()"
      ],
      "metadata": {
        "id": "AiOFHd9b5kcM"
      },
      "execution_count": null,
      "outputs": []
    },
    {
      "cell_type": "code",
      "source": [
        "places"
      ],
      "metadata": {
        "colab": {
          "base_uri": "https://localhost:8080/"
        },
        "id": "jF0ve3qa5psE",
        "outputId": "cf72c8e0-5a37-4983-c5c2-aed8f67e9015"
      },
      "execution_count": null,
      "outputs": [
        {
          "output_type": "execute_result",
          "data": {
            "text/plain": [
              "['New York', 'Paris', 'home', 'work']"
            ]
          },
          "metadata": {},
          "execution_count": 15
        }
      ]
    },
    {
      "cell_type": "code",
      "source": [
        "places.sort(key=lambda x: x.lower())\n",
        "places"
      ],
      "metadata": {
        "colab": {
          "base_uri": "https://localhost:8080/"
        },
        "id": "I_BocqU85qtt",
        "outputId": "11787d6a-1e64-4d80-c683-c093db657fb9"
      },
      "execution_count": null,
      "outputs": [
        {
          "output_type": "execute_result",
          "data": {
            "text/plain": [
              "['home', 'New York', 'Paris', 'work']"
            ]
          },
          "metadata": {},
          "execution_count": 17
        }
      ]
    },
    {
      "cell_type": "code",
      "source": [
        "power_tools = [\n",
        "    Tool('drill', 4),\n",
        "    Tool('circular saw', 5),\n",
        "    Tool('jackhammer', 40),\n",
        "    Tool('sander', 4),\n",
        "]\n",
        "saw = (5, 'circular saw')\n",
        "jackhammer = (40, 'jackhammer')\n",
        "assert not (jackhammer < saw)"
      ],
      "metadata": {
        "id": "Wvlztkdm5viM"
      },
      "execution_count": null,
      "outputs": []
    },
    {
      "cell_type": "code",
      "source": [
        "power_tools.sort(key=lambda x: (x.weight, x.name))\n",
        "power_tools"
      ],
      "metadata": {
        "colab": {
          "base_uri": "https://localhost:8080/"
        },
        "id": "v3kgCG-F6Qx7",
        "outputId": "7fe9d6c3-4d1a-460e-e9be-c8df91d5ae0a"
      },
      "execution_count": null,
      "outputs": [
        {
          "output_type": "execute_result",
          "data": {
            "text/plain": [
              "[Tool('drill', 4),\n",
              " Tool('sander', 4),\n",
              " Tool('circular saw', 5),\n",
              " Tool('jackhammer', 40)]"
            ]
          },
          "metadata": {},
          "execution_count": 21
        }
      ]
    },
    {
      "cell_type": "code",
      "source": [
        "votes = {\n",
        "  'otter': 1281,\n",
        "  'polar bear': 587,\n",
        "  'fox': 863,\n",
        "}\n",
        "votes.get"
      ],
      "metadata": {
        "colab": {
          "base_uri": "https://localhost:8080/"
        },
        "id": "OsErdeIY6m48",
        "outputId": "6e233a1e-6619-47f9-e935-9be870ed11b9"
      },
      "execution_count": null,
      "outputs": [
        {
          "output_type": "execute_result",
          "data": {
            "text/plain": [
              "<function dict.get(key, default=None, /)>"
            ]
          },
          "metadata": {},
          "execution_count": 22
        }
      ]
    },
    {
      "cell_type": "code",
      "source": [
        "for i, j in enumerate([1, 2], 1): # i从一开始\n",
        "  print(i, j)"
      ],
      "metadata": {
        "colab": {
          "base_uri": "https://localhost:8080/"
        },
        "id": "2JUAokJ17ulF",
        "outputId": "8ce55502-82ac-468c-c4e8-038ccfd15731"
      },
      "execution_count": null,
      "outputs": [
        {
          "output_type": "stream",
          "name": "stdout",
          "text": [
            "1 1\n",
            "2 2\n"
          ]
        }
      ]
    },
    {
      "cell_type": "code",
      "source": [
        "counters = {'pumpernickel': 2, 'sourdough': 1}\n",
        "counters['wheat'] = 1\n",
        "counters"
      ],
      "metadata": {
        "colab": {
          "base_uri": "https://localhost:8080/"
        },
        "id": "gYANFFrc78JT",
        "outputId": "cdd34310-c437-4d15-edbf-79f8eac5b296"
      },
      "execution_count": null,
      "outputs": [
        {
          "output_type": "execute_result",
          "data": {
            "text/plain": [
              "{'pumpernickel': 2, 'sourdough': 1, 'wheat': 1}"
            ]
          },
          "metadata": {},
          "execution_count": 25
        }
      ]
    },
    {
      "cell_type": "code",
      "source": [
        "counters.get('wheat', 0)"
      ],
      "metadata": {
        "colab": {
          "base_uri": "https://localhost:8080/"
        },
        "id": "r5a3ukyp84BH",
        "outputId": "6f1d1465-32eb-49d1-f76e-a39d6f16fb64"
      },
      "execution_count": null,
      "outputs": [
        {
          "output_type": "execute_result",
          "data": {
            "text/plain": [
              "1"
            ]
          },
          "metadata": {},
          "execution_count": 26
        }
      ]
    },
    {
      "cell_type": "markdown",
      "source": [
        "# 3，Functions"
      ],
      "metadata": {
        "id": "ef_20FnL8xcE"
      }
    },
    {
      "cell_type": "code",
      "source": [
        "def careful_divide(a, b):\n",
        "  try :\n",
        "    return a / b\n",
        "  except ZeroDivisionError:\n",
        "    return 'ZeroDivisionError'\n",
        "\n",
        "print(careful_divide(0, 5))"
      ],
      "metadata": {
        "id": "iLutV9F6892e",
        "colab": {
          "base_uri": "https://localhost:8080/"
        },
        "outputId": "4e7a8ac1-92fe-411a-86bf-c5161f350349"
      },
      "execution_count": null,
      "outputs": [
        {
          "output_type": "stream",
          "name": "stdout",
          "text": [
            "0.0\n"
          ]
        }
      ]
    },
    {
      "cell_type": "code",
      "source": [
        "# 改进\n",
        "def careful_divide(a, b):\n",
        "  try:\n",
        "    return True, a / b\n",
        "  except ZeroDivisionError:\n",
        "    return False, None\n",
        "\n",
        "# 再改进\n",
        "def careful_divide(a, b):\n",
        "  try:\n",
        "    return a / b\n",
        "  except ZeroDivisionError as e:\n",
        "    raise ValueError('Invalid inputs')\n",
        "\n",
        "# 再改\n",
        "def careful_divide(a: float, b: float) -> float:\n",
        "  \"\"\"Divides a by b.\n",
        "  Raise:\n",
        "    ValueError: When the inputs cannot be divide.\n",
        "  \"\"\"\n",
        "  try:\n",
        "    return a / b\n",
        "  except ZeroDivisionError as e:\n",
        "    raise ValueError('Invalid inputs')\n"
      ],
      "metadata": {
        "id": "-J3uBiGNAFSF"
      },
      "execution_count": null,
      "outputs": []
    },
    {
      "cell_type": "code",
      "source": [
        "def sort_priority3(numbers, group):\n",
        "  found = False\n",
        "  def helper(x):\n",
        "    # nonlocal found\n",
        "    # global found\n",
        "    nonlocal found\n",
        "    if x in group:\n",
        "      found = True\n",
        "      return (0, x)\n",
        "    return (1, x)\n",
        "  numbers.sort(key=helper)\n",
        "  return found\n",
        "\n",
        "lt = [1,2,3,4,5]\n",
        "group = [1,3,5]\n",
        "print(sort_priority3(lt, group))"
      ],
      "metadata": {
        "colab": {
          "base_uri": "https://localhost:8080/"
        },
        "id": "NRsOAcrlEoMQ",
        "outputId": "ce2e3c11-9fc4-462a-ed41-88beec91dd1e"
      },
      "execution_count": null,
      "outputs": [
        {
          "output_type": "stream",
          "name": "stdout",
          "text": [
            "True\n"
          ]
        }
      ]
    },
    {
      "cell_type": "code",
      "source": [
        "def log(message, values):\n",
        "  if not values:\n",
        "    print(message)\n",
        "  else:\n",
        "    values_str = ','.join(str(x) for x in values)\n",
        "    print(f'{message}: {values_str}')\n",
        "log('zhang', [])"
      ],
      "metadata": {
        "colab": {
          "base_uri": "https://localhost:8080/"
        },
        "id": "Y3vJQCelKmlN",
        "outputId": "2da271b9-70f5-411b-a6e9-a2c6a3d3db08"
      },
      "execution_count": null,
      "outputs": [
        {
          "output_type": "stream",
          "name": "stdout",
          "text": [
            "zhang\n"
          ]
        }
      ]
    },
    {
      "cell_type": "code",
      "source": [
        "# 改进\n",
        "def log(message, *values):\n",
        "  if not values:\n",
        "    print(message)\n",
        "  else:\n",
        "    values_str = ','.join(str(x) for x in values)\n",
        "    print(f'{message}: {values_str}')\n",
        "log('zhang')"
      ],
      "metadata": {
        "colab": {
          "base_uri": "https://localhost:8080/"
        },
        "id": "JKBGjU_LMjNq",
        "outputId": "59974871-fabc-4994-ddfc-f9bd70ac7c1c"
      },
      "execution_count": null,
      "outputs": [
        {
          "output_type": "stream",
          "name": "stdout",
          "text": [
            "zhang\n"
          ]
        }
      ]
    },
    {
      "cell_type": "code",
      "source": [
        "def my_generator():\n",
        "  for i in range(5):\n",
        "    yield i\n",
        "\n",
        "def my_func(*args):\n",
        "  print(args)\n",
        "\n",
        "it = my_generator()\n",
        "my_func(*it)"
      ],
      "metadata": {
        "colab": {
          "base_uri": "https://localhost:8080/"
        },
        "id": "gCUFZgPiM8ub",
        "outputId": "d36edaf2-0e1d-49a1-8993-716fef64da2e"
      },
      "execution_count": null,
      "outputs": [
        {
          "output_type": "stream",
          "name": "stdout",
          "text": [
            "(0, 1, 2, 3, 4)\n"
          ]
        }
      ]
    },
    {
      "cell_type": "code",
      "source": [],
      "metadata": {
        "id": "5zOdHG9mNy10"
      },
      "execution_count": null,
      "outputs": []
    }
  ]
}