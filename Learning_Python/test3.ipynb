{
  "nbformat": 4,
  "nbformat_minor": 0,
  "metadata": {
    "colab": {
      "provenance": [],
      "authorship_tag": "ABX9TyO8IX7AR7F4d6GXpGZmTm4k",
      "include_colab_link": true
    },
    "kernelspec": {
      "name": "python3",
      "display_name": "Python 3"
    },
    "language_info": {
      "name": "python"
    }
  },
  "cells": [
    {
      "cell_type": "markdown",
      "metadata": {
        "id": "view-in-github",
        "colab_type": "text"
      },
      "source": [
        "<a href=\"https://colab.research.google.com/github/ailunguo/Test/blob/main/Learning_Python/test3.ipynb\" target=\"_parent\"><img src=\"https://colab.research.google.com/assets/colab-badge.svg\" alt=\"Open In Colab\"/></a>"
      ]
    },
    {
      "cell_type": "code",
      "execution_count": null,
      "metadata": {
        "colab": {
          "base_uri": "https://localhost:8080/"
        },
        "id": "6KpF9f8hLK3_",
        "outputId": "43a114a3-0e7a-4f3b-adb7-2168ece84f4e"
      },
      "outputs": [
        {
          "output_type": "execute_result",
          "data": {
            "text/plain": [
              "[1, 2]"
            ]
          },
          "metadata": {},
          "execution_count": 1
        }
      ],
      "source": [
        "list(range(1, 2 + 1))"
      ]
    },
    {
      "cell_type": "code",
      "source": [
        "for i in range(2, 2):\n",
        "  print(i)"
      ],
      "metadata": {
        "id": "gJ8J1W1CLPOs"
      },
      "execution_count": null,
      "outputs": []
    },
    {
      "cell_type": "code",
      "source": [
        "list(range(1, 10))"
      ],
      "metadata": {
        "id": "nROIH7-qZhji",
        "colab": {
          "base_uri": "https://localhost:8080/"
        },
        "outputId": "51d32213-3aa3-417c-dba6-94ed61cf6c1b"
      },
      "execution_count": null,
      "outputs": [
        {
          "output_type": "execute_result",
          "data": {
            "text/plain": [
              "[1, 2, 3, 4, 5, 6, 7, 8, 9]"
            ]
          },
          "metadata": {},
          "execution_count": 1
        }
      ]
    },
    {
      "cell_type": "code",
      "source": [
        "s = 'zhang'\n",
        "list(s)"
      ],
      "metadata": {
        "colab": {
          "base_uri": "https://localhost:8080/"
        },
        "id": "EFDnmVPiznl1",
        "outputId": "62f65ca7-e9de-498f-e5a4-c0b461c05882"
      },
      "execution_count": null,
      "outputs": [
        {
          "output_type": "execute_result",
          "data": {
            "text/plain": [
              "['z', 'h', 'a', 'n', 'g']"
            ]
          },
          "metadata": {},
          "execution_count": 2
        }
      ]
    },
    {
      "cell_type": "code",
      "source": [
        "def judge(lt):\n",
        "  n = len(lt)\n",
        "  left = 0\n",
        "  right = n - 1\n",
        "  while left <= right:\n",
        "    if lt[left] == lt[right]:\n",
        "      left += 1\n",
        "      right -= 1\n",
        "    else:\n",
        "      return False\n",
        "\n",
        "  return True\n",
        "\n",
        "judge(list('abbbda'))"
      ],
      "metadata": {
        "colab": {
          "base_uri": "https://localhost:8080/"
        },
        "id": "rnL7EavbAc-A",
        "outputId": "2a9ffe73-dd4f-4fc2-880d-b7f464ac4131"
      },
      "execution_count": null,
      "outputs": [
        {
          "output_type": "execute_result",
          "data": {
            "text/plain": [
              "False"
            ]
          },
          "metadata": {},
          "execution_count": 4
        }
      ]
    },
    {
      "cell_type": "code",
      "source": [
        "s[0:1]"
      ],
      "metadata": {
        "colab": {
          "base_uri": "https://localhost:8080/",
          "height": 35
        },
        "id": "HhzdIRFVA3EI",
        "outputId": "3438142f-aea8-4e1d-b41b-124e2821ebff"
      },
      "execution_count": null,
      "outputs": [
        {
          "output_type": "execute_result",
          "data": {
            "text/plain": [
              "'z'"
            ],
            "application/vnd.google.colaboratory.intrinsic+json": {
              "type": "string"
            }
          },
          "metadata": {},
          "execution_count": 7
        }
      ]
    },
    {
      "cell_type": "code",
      "source": [
        "block = [[[False for _ in  range(9)] for _ in range(3)] for _ in range(3)]\n",
        "block[0][0][1] = True\n",
        "block"
      ],
      "metadata": {
        "id": "nJ6x_l6JGh2L",
        "colab": {
          "base_uri": "https://localhost:8080/"
        },
        "outputId": "32644509-6a76-4770-a439-b6f40b4aa975"
      },
      "execution_count": 7,
      "outputs": [
        {
          "output_type": "execute_result",
          "data": {
            "text/plain": [
              "[[[False, True, False, False, False, False, False, False, False],\n",
              "  [False, False, False, False, False, False, False, False, False],\n",
              "  [False, False, False, False, False, False, False, False, False]],\n",
              " [[False, False, False, False, False, False, False, False, False],\n",
              "  [False, False, False, False, False, False, False, False, False],\n",
              "  [False, False, False, False, False, False, False, False, False]],\n",
              " [[False, False, False, False, False, False, False, False, False],\n",
              "  [False, False, False, False, False, False, False, False, False],\n",
              "  [False, False, False, False, False, False, False, False, False]]]"
            ]
          },
          "metadata": {},
          "execution_count": 7
        }
      ]
    },
    {
      "cell_type": "code",
      "source": [
        "space = []\n",
        "space.append((3, 4))\n",
        "space.append((3, 4))\n",
        "i, j = space[0]\n",
        "3, 4"
      ],
      "metadata": {
        "colab": {
          "base_uri": "https://localhost:8080/"
        },
        "id": "CPjeXUUutJsO",
        "outputId": "ccdadc09-4322-4382-9a75-eccd0b5f68c4"
      },
      "execution_count": 12,
      "outputs": [
        {
          "output_type": "execute_result",
          "data": {
            "text/plain": [
              "(3, 4)"
            ]
          },
          "metadata": {},
          "execution_count": 12
        }
      ]
    },
    {
      "cell_type": "code",
      "source": [
        "ord('3') - ord('1')"
      ],
      "metadata": {
        "colab": {
          "base_uri": "https://localhost:8080/"
        },
        "id": "e-auHEqiugk3",
        "outputId": "672dafa6-6e0b-4de0-b205-9167c94e56b9"
      },
      "execution_count": 13,
      "outputs": [
        {
          "output_type": "execute_result",
          "data": {
            "text/plain": [
              "2"
            ]
          },
          "metadata": {},
          "execution_count": 13
        }
      ]
    },
    {
      "cell_type": "code",
      "source": [
        "str(2 + 2)"
      ],
      "metadata": {
        "colab": {
          "base_uri": "https://localhost:8080/",
          "height": 35
        },
        "id": "Bm5Xortxu5DM",
        "outputId": "3d53788b-2186-484c-eae2-24c95d057332"
      },
      "execution_count": 15,
      "outputs": [
        {
          "output_type": "execute_result",
          "data": {
            "text/plain": [
              "'4'"
            ],
            "application/vnd.google.colaboratory.intrinsic+json": {
              "type": "string"
            }
          },
          "metadata": {},
          "execution_count": 15
        }
      ]
    },
    {
      "cell_type": "code",
      "source": [
        "cur = ['.' for i in range(4)]\n",
        "cur[2] = 'Q'\n",
        "''.join(cur)"
      ],
      "metadata": {
        "colab": {
          "base_uri": "https://localhost:8080/",
          "height": 35
        },
        "id": "kTf5pE04x2v7",
        "outputId": "2039ef4e-ed0a-4791-c110-0efc62b84792"
      },
      "execution_count": 25,
      "outputs": [
        {
          "output_type": "execute_result",
          "data": {
            "text/plain": [
              "'..Q.'"
            ],
            "application/vnd.google.colaboratory.intrinsic+json": {
              "type": "string"
            }
          },
          "metadata": {},
          "execution_count": 25
        }
      ]
    },
    {
      "cell_type": "code",
      "source": [],
      "metadata": {
        "id": "oL7RHWon2UtC"
      },
      "execution_count": null,
      "outputs": []
    }
  ]
}