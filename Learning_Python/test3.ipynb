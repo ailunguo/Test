{
  "nbformat": 4,
  "nbformat_minor": 0,
  "metadata": {
    "colab": {
      "provenance": [],
      "authorship_tag": "ABX9TyP5P8VR8I3DCGn74DvjEBJC",
      "include_colab_link": true
    },
    "kernelspec": {
      "name": "python3",
      "display_name": "Python 3"
    },
    "language_info": {
      "name": "python"
    }
  },
  "cells": [
    {
      "cell_type": "markdown",
      "metadata": {
        "id": "view-in-github",
        "colab_type": "text"
      },
      "source": [
        "<a href=\"https://colab.research.google.com/github/ailunguo/Test/blob/main/Learning_Python/test3.ipynb\" target=\"_parent\"><img src=\"https://colab.research.google.com/assets/colab-badge.svg\" alt=\"Open In Colab\"/></a>"
      ]
    },
    {
      "cell_type": "code",
      "execution_count": 1,
      "metadata": {
        "colab": {
          "base_uri": "https://localhost:8080/"
        },
        "id": "6KpF9f8hLK3_",
        "outputId": "43a114a3-0e7a-4f3b-adb7-2168ece84f4e"
      },
      "outputs": [
        {
          "output_type": "execute_result",
          "data": {
            "text/plain": [
              "[1, 2]"
            ]
          },
          "metadata": {},
          "execution_count": 1
        }
      ],
      "source": [
        "list(range(1, 2 + 1))"
      ]
    },
    {
      "cell_type": "code",
      "source": [
        "for i in range(2, 2):\n",
        "  print(i)"
      ],
      "metadata": {
        "id": "gJ8J1W1CLPOs"
      },
      "execution_count": 2,
      "outputs": []
    },
    {
      "cell_type": "code",
      "source": [],
      "metadata": {
        "id": "nROIH7-qZhji"
      },
      "execution_count": null,
      "outputs": []
    }
  ]
}