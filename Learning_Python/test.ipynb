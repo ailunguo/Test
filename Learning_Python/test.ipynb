{
  "nbformat": 4,
  "nbformat_minor": 0,
  "metadata": {
    "colab": {
      "provenance": [],
      "authorship_tag": "ABX9TyMAJEqufBfilo7RP6nuBvmZ",
      "include_colab_link": true
    },
    "kernelspec": {
      "name": "python3",
      "display_name": "Python 3"
    },
    "language_info": {
      "name": "python"
    }
  },
  "cells": [
    {
      "cell_type": "markdown",
      "metadata": {
        "id": "view-in-github",
        "colab_type": "text"
      },
      "source": [
        "<a href=\"https://colab.research.google.com/github/ailunguo/Test/blob/main/Learning_Python/test.ipynb\" target=\"_parent\"><img src=\"https://colab.research.google.com/assets/colab-badge.svg\" alt=\"Open In Colab\"/></a>"
      ]
    },
    {
      "cell_type": "code",
      "execution_count": null,
      "metadata": {
        "colab": {
          "base_uri": "https://localhost:8080/"
        },
        "id": "unUu1uK-fkUj",
        "outputId": "dc3e4c2f-bee3-408c-bb3b-fdaf12c3dcb7"
      },
      "outputs": [
        {
          "output_type": "execute_result",
          "data": {
            "text/plain": [
              "1"
            ]
          },
          "metadata": {},
          "execution_count": 2
        }
      ],
      "source": [
        "s = set()\n",
        "s.add(0)\n",
        "s.add(0)\n",
        "len(s)"
      ]
    },
    {
      "cell_type": "code",
      "source": [
        "# node.val, rootval, ans\n",
        "# if ans != -1 and node.val > ans:\n",
        "# if node.val > rootval"
      ],
      "metadata": {
        "id": "wN-14f3ifqVj"
      },
      "execution_count": null,
      "outputs": []
    },
    {
      "cell_type": "code",
      "source": [
        "lt = []\n",
        "lt.insert(0, 3)\n",
        "lt.insert(0, 4)\n",
        "a = lt.pop()\n",
        "a"
      ],
      "metadata": {
        "colab": {
          "base_uri": "https://localhost:8080/"
        },
        "id": "Zfj9uTNAH6bU",
        "outputId": "0a96d867-8975-4c3c-e998-80b201e990a8"
      },
      "execution_count": null,
      "outputs": [
        {
          "output_type": "execute_result",
          "data": {
            "text/plain": [
              "3"
            ]
          },
          "metadata": {},
          "execution_count": 5
        }
      ]
    },
    {
      "cell_type": "code",
      "source": [
        "for i in range(1):\n",
        "  print(i)"
      ],
      "metadata": {
        "colab": {
          "base_uri": "https://localhost:8080/"
        },
        "id": "i_DauRfkH_L-",
        "outputId": "0edadffb-2a93-4910-a061-bbb30117e643"
      },
      "execution_count": null,
      "outputs": [
        {
          "output_type": "stream",
          "name": "stdout",
          "text": [
            "0\n"
          ]
        }
      ]
    },
    {
      "cell_type": "code",
      "source": [
        "if []:\n",
        "  print('true')\n",
        "else:\n",
        "  print('False')"
      ],
      "metadata": {
        "colab": {
          "base_uri": "https://localhost:8080/"
        },
        "id": "CEnwdjNxMSWF",
        "outputId": "9ad7b283-ba76-4273-bba0-05d9564488be"
      },
      "execution_count": null,
      "outputs": [
        {
          "output_type": "stream",
          "name": "stdout",
          "text": [
            "False\n"
          ]
        }
      ]
    },
    {
      "cell_type": "code",
      "source": [
        "def inter(root):\n",
        "  # 首先定义一个cur，它是当前要进行左中右中序遍历的节点\n",
        "  cur = root\n",
        "  lt_node = []\n",
        "  lt = []\n",
        "  while cur or lt_node:\n",
        "    # 遍历cur的所有左节点然后压入栈中\n",
        "    while cur:\n",
        "      lt_node.append(cur)\n",
        "      cur = cur.left\n",
        "    # 结束循环之后cur是空的\n",
        "    # 定义一个node节点，此节点是要打印的节点或遍历的节点\n",
        "    node = lt_node.pop()\n",
        "    lt.append(node)\n",
        "    if node.right: # 如果遍历的节点有右子节点就继续遍历它的右子节点，因为此时node就是中节点\n",
        "      cur = node.right\n",
        "  return lt"
      ],
      "metadata": {
        "id": "eAT6Ay8mTPla"
      },
      "execution_count": null,
      "outputs": []
    }
  ]
}