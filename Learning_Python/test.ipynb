{
  "nbformat": 4,
  "nbformat_minor": 0,
  "metadata": {
    "colab": {
      "provenance": [],
      "authorship_tag": "ABX9TyMJK7ci686/FtLwc7W2bdgU",
      "include_colab_link": true
    },
    "kernelspec": {
      "name": "python3",
      "display_name": "Python 3"
    },
    "language_info": {
      "name": "python"
    }
  },
  "cells": [
    {
      "cell_type": "markdown",
      "metadata": {
        "id": "view-in-github",
        "colab_type": "text"
      },
      "source": [
        "<a href=\"https://colab.research.google.com/github/ailunguo/Test/blob/main/Learning_Python/test.ipynb\" target=\"_parent\"><img src=\"https://colab.research.google.com/assets/colab-badge.svg\" alt=\"Open In Colab\"/></a>"
      ]
    },
    {
      "cell_type": "code",
      "execution_count": 2,
      "metadata": {
        "colab": {
          "base_uri": "https://localhost:8080/"
        },
        "id": "unUu1uK-fkUj",
        "outputId": "dc3e4c2f-bee3-408c-bb3b-fdaf12c3dcb7"
      },
      "outputs": [
        {
          "output_type": "execute_result",
          "data": {
            "text/plain": [
              "1"
            ]
          },
          "metadata": {},
          "execution_count": 2
        }
      ],
      "source": [
        "s = set()\n",
        "s.add(0)\n",
        "s.add(0)\n",
        "len(s)"
      ]
    },
    {
      "cell_type": "code",
      "source": [
        "# node.val, rootval, ans\n",
        "# if ans != -1 and node.val > ans:\n",
        "# if node.val > rootval"
      ],
      "metadata": {
        "id": "wN-14f3ifqVj"
      },
      "execution_count": null,
      "outputs": []
    }
  ]
}