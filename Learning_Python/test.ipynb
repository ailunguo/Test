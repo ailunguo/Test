{
  "nbformat": 4,
  "nbformat_minor": 0,
  "metadata": {
    "colab": {
      "provenance": [],
      "authorship_tag": "ABX9TyPmXjq1v+0Gpa0w62HVw85L",
      "include_colab_link": true
    },
    "kernelspec": {
      "name": "python3",
      "display_name": "Python 3"
    },
    "language_info": {
      "name": "python"
    }
  },
  "cells": [
    {
      "cell_type": "markdown",
      "metadata": {
        "id": "view-in-github",
        "colab_type": "text"
      },
      "source": [
        "<a href=\"https://colab.research.google.com/github/ailunguo/Test/blob/main/Learning_Python/test.ipynb\" target=\"_parent\"><img src=\"https://colab.research.google.com/assets/colab-badge.svg\" alt=\"Open In Colab\"/></a>"
      ]
    },
    {
      "cell_type": "code",
      "execution_count": null,
      "metadata": {
        "colab": {
          "base_uri": "https://localhost:8080/"
        },
        "id": "unUu1uK-fkUj",
        "outputId": "dc3e4c2f-bee3-408c-bb3b-fdaf12c3dcb7"
      },
      "outputs": [
        {
          "output_type": "execute_result",
          "data": {
            "text/plain": [
              "1"
            ]
          },
          "metadata": {},
          "execution_count": 2
        }
      ],
      "source": [
        "s = set()\n",
        "s.add(0)\n",
        "s.add(0)\n",
        "len(s)"
      ]
    },
    {
      "cell_type": "code",
      "source": [
        "# node.val, rootval, ans\n",
        "# if ans != -1 and node.val > ans:\n",
        "# if node.val > rootval"
      ],
      "metadata": {
        "id": "wN-14f3ifqVj"
      },
      "execution_count": null,
      "outputs": []
    },
    {
      "cell_type": "code",
      "source": [
        "lt = []\n",
        "lt.insert(0, 3)\n",
        "lt.insert(0, 4)\n",
        "a = lt.pop()\n",
        "a"
      ],
      "metadata": {
        "colab": {
          "base_uri": "https://localhost:8080/"
        },
        "id": "Zfj9uTNAH6bU",
        "outputId": "0a96d867-8975-4c3c-e998-80b201e990a8"
      },
      "execution_count": null,
      "outputs": [
        {
          "output_type": "execute_result",
          "data": {
            "text/plain": [
              "3"
            ]
          },
          "metadata": {},
          "execution_count": 5
        }
      ]
    },
    {
      "cell_type": "code",
      "source": [
        "for i in range(1):\n",
        "  print(i)"
      ],
      "metadata": {
        "colab": {
          "base_uri": "https://localhost:8080/"
        },
        "id": "i_DauRfkH_L-",
        "outputId": "0edadffb-2a93-4910-a061-bbb30117e643"
      },
      "execution_count": null,
      "outputs": [
        {
          "output_type": "stream",
          "name": "stdout",
          "text": [
            "0\n"
          ]
        }
      ]
    },
    {
      "cell_type": "code",
      "source": [
        "if []:\n",
        "  print('true')\n",
        "else:\n",
        "  print('False')"
      ],
      "metadata": {
        "colab": {
          "base_uri": "https://localhost:8080/"
        },
        "id": "CEnwdjNxMSWF",
        "outputId": "9ad7b283-ba76-4273-bba0-05d9564488be"
      },
      "execution_count": null,
      "outputs": [
        {
          "output_type": "stream",
          "name": "stdout",
          "text": [
            "False\n"
          ]
        }
      ]
    },
    {
      "cell_type": "code",
      "source": [
        "def inter(root):\n",
        "  # 首先定义一个cur，它是当前要进行左中右中序遍历的节点\n",
        "  cur = root\n",
        "  lt_node = []\n",
        "  lt = []\n",
        "  while cur or lt_node:\n",
        "    # 遍历cur的所有左节点然后压入栈中\n",
        "    while cur:\n",
        "      lt_node.append(cur)\n",
        "      cur = cur.left\n",
        "    # 结束循环之后cur是空的\n",
        "    # 定义一个node节点，此节点是要打印的节点或遍历的节点\n",
        "    node = lt_node.pop()\n",
        "    lt.append(node)\n",
        "    if node.right: # 如果遍历的节点有右子节点就继续遍历它的右子节点，因为此时node就是中节点\n",
        "      cur = node.right\n",
        "  return lt"
      ],
      "metadata": {
        "id": "eAT6Ay8mTPla"
      },
      "execution_count": null,
      "outputs": []
    },
    {
      "cell_type": "code",
      "source": [
        "dt = {}\n",
        "lt = [1, 3, 4, 2, 2, 1, 1, 1]\n",
        "for i in lt:\n",
        "  if i in dt:\n",
        "    dt[i] += 1\n",
        "  else:\n",
        "    dt[i] = 1\n",
        "max(dt.values())"
      ],
      "metadata": {
        "colab": {
          "base_uri": "https://localhost:8080/"
        },
        "id": "abKTOuvNthib",
        "outputId": "9e45e377-76ff-453a-ec4c-7a06e9fe9d14"
      },
      "execution_count": null,
      "outputs": [
        {
          "output_type": "execute_result",
          "data": {
            "text/plain": [
              "4"
            ]
          },
          "metadata": {},
          "execution_count": 17
        }
      ]
    },
    {
      "cell_type": "code",
      "source": [
        "t = {'a': 3, '5': 6}\n",
        "for ch in t:\n",
        "  print(ch)"
      ],
      "metadata": {
        "id": "c14Pjsaitq2i",
        "colab": {
          "base_uri": "https://localhost:8080/"
        },
        "outputId": "abe1a28c-2d55-46bf-a357-ea9225e6803c"
      },
      "execution_count": null,
      "outputs": [
        {
          "output_type": "stream",
          "name": "stdout",
          "text": [
            "a\n",
            "5\n"
          ]
        }
      ]
    },
    {
      "cell_type": "code",
      "source": [
        "t.pop('a')"
      ],
      "metadata": {
        "colab": {
          "base_uri": "https://localhost:8080/"
        },
        "id": "xY1Iyp3aP_Fz",
        "outputId": "4d6b5098-1756-4432-d4b7-53515d806fa8"
      },
      "execution_count": null,
      "outputs": [
        {
          "output_type": "execute_result",
          "data": {
            "text/plain": [
              "3"
            ]
          },
          "metadata": {},
          "execution_count": 3
        }
      ]
    },
    {
      "cell_type": "code",
      "source": [
        "t"
      ],
      "metadata": {
        "colab": {
          "base_uri": "https://localhost:8080/"
        },
        "id": "jP7K9fHOQ0lQ",
        "outputId": "90988913-726b-42a7-86c5-6adc8682710a"
      },
      "execution_count": null,
      "outputs": [
        {
          "output_type": "execute_result",
          "data": {
            "text/plain": [
              "{'5': 6}"
            ]
          },
          "metadata": {},
          "execution_count": 4
        }
      ]
    },
    {
      "cell_type": "code",
      "source": [
        "5//2*2"
      ],
      "metadata": {
        "colab": {
          "base_uri": "https://localhost:8080/"
        },
        "id": "4Wx45NzaQ73I",
        "outputId": "44f941d2-2694-4f2b-c55b-c4a686327316"
      },
      "execution_count": null,
      "outputs": [
        {
          "output_type": "execute_result",
          "data": {
            "text/plain": [
              "4"
            ]
          },
          "metadata": {},
          "execution_count": 7
        }
      ]
    },
    {
      "cell_type": "code",
      "source": [
        "t = {'a': 'c'}\n",
        "t['a'] = 'd'\n",
        "t"
      ],
      "metadata": {
        "colab": {
          "base_uri": "https://localhost:8080/"
        },
        "id": "LvCl5pH6aENB",
        "outputId": "b5718017-e1e3-4198-a409-f6358168519c"
      },
      "execution_count": null,
      "outputs": [
        {
          "output_type": "execute_result",
          "data": {
            "text/plain": [
              "{'a': 'd'}"
            ]
          },
          "metadata": {},
          "execution_count": 8
        }
      ]
    },
    {
      "cell_type": "code",
      "source": [
        "def isSubstring(s):\n",
        "  left = 0\n",
        "  right = len(s) - 1\n",
        "  while right > left:\n",
        "    if s[left] == s[right]:\n",
        "      left += 1\n",
        "      right -= 1\n",
        "      continue\n",
        "    else:\n",
        "      return False\n",
        "  return True\n",
        "isSubstring('aaa')"
      ],
      "metadata": {
        "colab": {
          "base_uri": "https://localhost:8080/"
        },
        "id": "PGpLCuPicPev",
        "outputId": "c3992146-9b70-4786-a9e7-db87eedb856a"
      },
      "execution_count": null,
      "outputs": [
        {
          "output_type": "execute_result",
          "data": {
            "text/plain": [
              "True"
            ]
          },
          "metadata": {},
          "execution_count": 12
        }
      ]
    },
    {
      "cell_type": "code",
      "source": [
        "isSubstring('ag')"
      ],
      "metadata": {
        "colab": {
          "base_uri": "https://localhost:8080/"
        },
        "id": "1z9Rfjiui6_A",
        "outputId": "240501f8-2416-4e38-c1fe-9535c86028cd"
      },
      "execution_count": null,
      "outputs": [
        {
          "output_type": "execute_result",
          "data": {
            "text/plain": [
              "False"
            ]
          },
          "metadata": {},
          "execution_count": 13
        }
      ]
    },
    {
      "cell_type": "code",
      "source": [
        "t = True\n",
        "i = 1 if t else 4\n"
      ],
      "metadata": {
        "id": "KgNSb0SXjeUR"
      },
      "execution_count": null,
      "outputs": []
    },
    {
      "cell_type": "code",
      "source": [
        "i"
      ],
      "metadata": {
        "colab": {
          "base_uri": "https://localhost:8080/"
        },
        "id": "ByLZXMCvX7Nt",
        "outputId": "9b928c78-015c-4ed5-a964-78763923d687"
      },
      "execution_count": null,
      "outputs": [
        {
          "output_type": "execute_result",
          "data": {
            "text/plain": [
              "1"
            ]
          },
          "metadata": {},
          "execution_count": 4
        }
      ]
    },
    {
      "cell_type": "code",
      "source": [
        "t = 1456\n",
        "i = str(t)\n",
        "i"
      ],
      "metadata": {
        "colab": {
          "base_uri": "https://localhost:8080/",
          "height": 35
        },
        "id": "qYHBsnmwaV2U",
        "outputId": "63d90954-1563-4472-bc85-3912de60c23b"
      },
      "execution_count": null,
      "outputs": [
        {
          "output_type": "execute_result",
          "data": {
            "text/plain": [
              "'1456'"
            ],
            "application/vnd.google.colaboratory.intrinsic+json": {
              "type": "string"
            }
          },
          "metadata": {},
          "execution_count": 5
        }
      ]
    },
    {
      "cell_type": "code",
      "source": [
        "for i in range(10):\n",
        "  print(i)\n",
        "  if i == 5:\n",
        "    break"
      ],
      "metadata": {
        "id": "fwA7c2ytesV7",
        "colab": {
          "base_uri": "https://localhost:8080/"
        },
        "outputId": "d1dfe15a-d046-424b-b43f-514aec014a77"
      },
      "execution_count": null,
      "outputs": [
        {
          "output_type": "stream",
          "name": "stdout",
          "text": [
            "0\n",
            "1\n",
            "2\n",
            "3\n",
            "4\n",
            "5\n"
          ]
        }
      ]
    },
    {
      "cell_type": "code",
      "source": [
        "lt = [[0] * 3] * 2\n",
        "lt"
      ],
      "metadata": {
        "colab": {
          "base_uri": "https://localhost:8080/"
        },
        "id": "DY3eWM0iWkkj",
        "outputId": "a9d640a4-3168-4c7a-cbf0-f83ea7f335b8"
      },
      "execution_count": null,
      "outputs": [
        {
          "output_type": "execute_result",
          "data": {
            "text/plain": [
              "[[0, 0, 0], [0, 0, 0]]"
            ]
          },
          "metadata": {},
          "execution_count": 3
        }
      ]
    },
    {
      "cell_type": "code",
      "source": [
        "def matrixReshape(mat, r, c):\n",
        "  a = [[0, 0], [0, 0]]\n",
        "  b = [[0] * c] * r # 这样的创建会造成列表中的所有行都是一个地址\n",
        "  print(b)\n",
        "  if len(mat) * len(mat[0]) != r * c:\n",
        "      return mat\n",
        "  r_count = 0\n",
        "  c_count = 0\n",
        "  for i in range(len(mat)):\n",
        "    for j in range(len(mat[0])):\n",
        "      if c_count == c:\n",
        "        c_count = 0\n",
        "        r_count += 1\n",
        "      b[r_count][c_count] = mat[i][j]\n",
        "      a[r_count][c_count] = mat[i][j]\n",
        "      # print(r_count, c_count, mat[i][j])\n",
        "      c_count += 1\n",
        "  return b, a\n"
      ],
      "metadata": {
        "id": "yQKIjfHdYMo5"
      },
      "execution_count": null,
      "outputs": []
    },
    {
      "cell_type": "code",
      "source": [
        "matrixReshape([[1, 2], [3, 4]], 2, 2)"
      ],
      "metadata": {
        "colab": {
          "base_uri": "https://localhost:8080/"
        },
        "id": "FblqNETPaXrS",
        "outputId": "d252af0f-6435-496b-db40-454c63cb9f46"
      },
      "execution_count": null,
      "outputs": [
        {
          "output_type": "stream",
          "name": "stdout",
          "text": [
            "[[0, 0], [0, 0]]\n"
          ]
        },
        {
          "output_type": "execute_result",
          "data": {
            "text/plain": [
              "([[3, 4], [3, 4]], [[1, 2], [3, 4]])"
            ]
          },
          "metadata": {},
          "execution_count": 23
        }
      ]
    },
    {
      "cell_type": "code",
      "source": [
        "a = [[0], [0], [0], [0]]\n",
        "a[0][0] = 1\n",
        "a[1][0] = 2\n",
        "a[2][0] = 3\n",
        "a[3][0] = 4\n",
        "a"
      ],
      "metadata": {
        "colab": {
          "base_uri": "https://localhost:8080/"
        },
        "id": "vHqOS-OKaj14",
        "outputId": "7477c1e2-78ca-4cc0-e5ae-d498f97c70b4"
      },
      "execution_count": null,
      "outputs": [
        {
          "output_type": "execute_result",
          "data": {
            "text/plain": [
              "[[1], [2], [3], [4]]"
            ]
          },
          "metadata": {},
          "execution_count": 11
        }
      ]
    },
    {
      "cell_type": "code",
      "source": [
        "for i in range(10):\n",
        "  print(i)\n",
        "  if i == 3:\n",
        "    i += 3\n"
      ],
      "metadata": {
        "colab": {
          "base_uri": "https://localhost:8080/"
        },
        "id": "9_KhGtDlbvT_",
        "outputId": "eac9d2f2-40c8-4f16-e38a-e729b48f88d3"
      },
      "execution_count": null,
      "outputs": [
        {
          "output_type": "stream",
          "name": "stdout",
          "text": [
            "0\n",
            "1\n",
            "2\n",
            "3\n",
            "4\n",
            "5\n",
            "6\n",
            "7\n",
            "8\n",
            "9\n"
          ]
        }
      ]
    },
    {
      "cell_type": "code",
      "source": [
        "matrix = [[1, 2, 3], [1, 2, 6], [3, 4, 6]]\n",
        "pq = [(matrix[i][0], i, 0) for i in range(3)]\n",
        "print(pq)"
      ],
      "metadata": {
        "id": "hT5vIG0TcQHn",
        "colab": {
          "base_uri": "https://localhost:8080/"
        },
        "outputId": "dd4e9fab-732e-4f7d-f9ec-93eabec4bf87"
      },
      "execution_count": null,
      "outputs": [
        {
          "output_type": "stream",
          "name": "stdout",
          "text": [
            "[(1, 0, 0), (1, 1, 0), (3, 2, 0)]\n"
          ]
        }
      ]
    },
    {
      "cell_type": "code",
      "source": [
        "import heapq"
      ],
      "metadata": {
        "id": "mmbe2pahhwWW"
      },
      "execution_count": null,
      "outputs": []
    },
    {
      "cell_type": "code",
      "source": [
        "heapq.heapify(pq)\n",
        "print(pq)"
      ],
      "metadata": {
        "colab": {
          "base_uri": "https://localhost:8080/"
        },
        "id": "GDiPmljlhiQD",
        "outputId": "eb652064-9bb7-4f83-b2b3-9084970121dd"
      },
      "execution_count": null,
      "outputs": [
        {
          "output_type": "stream",
          "name": "stdout",
          "text": [
            "[(1, 0, 0), (1, 1, 0), (3, 2, 0)]\n"
          ]
        }
      ]
    },
    {
      "cell_type": "code",
      "source": [
        "hash_lt = {}\n",
        "for i in [1, 2, 2, 3]:\n",
        "  if i not in hash_lt:\n",
        "    hash_lt[i] = 1\n",
        "  else:\n",
        "    hash_lt[i] += 1\n",
        "hash_lt"
      ],
      "metadata": {
        "colab": {
          "base_uri": "https://localhost:8080/"
        },
        "id": "F-okCXPlhuKr",
        "outputId": "82c123e9-5336-4253-87f3-0132d632186e"
      },
      "execution_count": null,
      "outputs": [
        {
          "output_type": "execute_result",
          "data": {
            "text/plain": [
              "{1: 1, 2: 2, 3: 1}"
            ]
          },
          "metadata": {},
          "execution_count": 7
        }
      ]
    },
    {
      "cell_type": "code",
      "source": [
        "bit = 3\n",
        "1 << bit & 29 # 看29的二进制位第bit位是否为1，按位与"
      ],
      "metadata": {
        "colab": {
          "base_uri": "https://localhost:8080/"
        },
        "id": "j7-6if7a274E",
        "outputId": "052e3f5c-2cce-41ca-e9d2-f40817925292"
      },
      "execution_count": null,
      "outputs": [
        {
          "output_type": "execute_result",
          "data": {
            "text/plain": [
              "8"
            ]
          },
          "metadata": {},
          "execution_count": 7
        }
      ]
    },
    {
      "cell_type": "code",
      "source": [
        "1 | 2 # 按位或"
      ],
      "metadata": {
        "colab": {
          "base_uri": "https://localhost:8080/"
        },
        "id": "NBjCvwPv1EKs",
        "outputId": "b4238573-a64d-429e-8867-63ae20395a12"
      },
      "execution_count": null,
      "outputs": [
        {
          "output_type": "execute_result",
          "data": {
            "text/plain": [
              "3"
            ]
          },
          "metadata": {},
          "execution_count": 9
        }
      ]
    },
    {
      "cell_type": "code",
      "source": [
        "ans = 0\n",
        "ans |= 1 << bit   # 将第bit位为1添加到ans中"
      ],
      "metadata": {
        "id": "rDp_4gsl2xEq"
      },
      "execution_count": null,
      "outputs": []
    },
    {
      "cell_type": "code",
      "source": [
        "bit_max = 31\n",
        "while not (294 >> bit_max):\n",
        "  bit_max -= 1\n",
        "bit_max\n"
      ],
      "metadata": {
        "colab": {
          "base_uri": "https://localhost:8080/"
        },
        "id": "hKCXa5t93B34",
        "outputId": "a945f438-00e5-471b-df3b-db3df113b9f0"
      },
      "execution_count": null,
      "outputs": [
        {
          "output_type": "execute_result",
          "data": {
            "text/plain": [
              "8"
            ]
          },
          "metadata": {},
          "execution_count": 11
        }
      ]
    },
    {
      "cell_type": "code",
      "source": [
        "import tensorflow as tf"
      ],
      "metadata": {
        "id": "kW-7WdrY5txR"
      },
      "execution_count": null,
      "outputs": []
    },
    {
      "cell_type": "code",
      "source": [
        "tf.__version__"
      ],
      "metadata": {
        "colab": {
          "base_uri": "https://localhost:8080/",
          "height": 35
        },
        "id": "3u-FQgbNOJI3",
        "outputId": "bd6091ba-44d8-42d9-833a-e08bf91bc945"
      },
      "execution_count": null,
      "outputs": [
        {
          "output_type": "execute_result",
          "data": {
            "text/plain": [
              "'2.14.0'"
            ],
            "application/vnd.google.colaboratory.intrinsic+json": {
              "type": "string"
            }
          },
          "metadata": {},
          "execution_count": 2
        }
      ]
    },
    {
      "cell_type": "code",
      "source": [
        "tf.test.is_gpu_available()"
      ],
      "metadata": {
        "colab": {
          "base_uri": "https://localhost:8080/"
        },
        "id": "TbEzopqdOKa3",
        "outputId": "7daea9d2-493c-4764-ef23-169833c6fc59"
      },
      "execution_count": null,
      "outputs": [
        {
          "output_type": "stream",
          "name": "stderr",
          "text": [
            "WARNING:tensorflow:From <ipython-input-5-17bb7203622b>:1: is_gpu_available (from tensorflow.python.framework.test_util) is deprecated and will be removed in a future version.\n",
            "Instructions for updating:\n",
            "Use `tf.config.list_physical_devices('GPU')` instead.\n"
          ]
        },
        {
          "output_type": "execute_result",
          "data": {
            "text/plain": [
              "True"
            ]
          },
          "metadata": {},
          "execution_count": 5
        }
      ]
    },
    {
      "cell_type": "code",
      "source": [
        "for i in range(1, 1):\n",
        "  print(i)"
      ],
      "metadata": {
        "id": "HncGND0_OM7q"
      },
      "execution_count": null,
      "outputs": []
    },
    {
      "cell_type": "code",
      "source": [
        "dt = {'a': 3, 'b': 4, 'e': 1}\n",
        "ans = sorted(dt, key=dt.get)\n",
        "ans"
      ],
      "metadata": {
        "colab": {
          "base_uri": "https://localhost:8080/"
        },
        "id": "mTbE37cxF73S",
        "outputId": "15529d77-fd4d-44fa-aeb1-87aa537bd728"
      },
      "execution_count": null,
      "outputs": [
        {
          "output_type": "execute_result",
          "data": {
            "text/plain": [
              "['e', 'a', 'b']"
            ]
          },
          "metadata": {},
          "execution_count": 5
        }
      ]
    },
    {
      "cell_type": "code",
      "source": [
        "dt = {'a':(3, 1, 2), 'b':(4, 2, 6), 'e':(2, 1, 3)}\n",
        "ans = sorted(dt, key=lambda k: dt[k][0], reverse=True)\n",
        "ans"
      ],
      "metadata": {
        "colab": {
          "base_uri": "https://localhost:8080/"
        },
        "id": "lIG4lrEEMXHr",
        "outputId": "b1c096c4-f057-40bd-b143-93b5874d280a"
      },
      "execution_count": null,
      "outputs": [
        {
          "output_type": "execute_result",
          "data": {
            "text/plain": [
              "['b', 'a', 'e']"
            ]
          },
          "metadata": {},
          "execution_count": 7
        }
      ]
    },
    {
      "cell_type": "code",
      "source": [
        "nums = [1,2,2,3,1]\n",
        "dt = {}\n",
        "for i in range(len(nums)):\n",
        "  cur = nums[i]\n",
        "  if cur in dt:\n",
        "    num = dt[cur][0] + 1\n",
        "    start = dt[cur][1]\n",
        "    end = i\n",
        "  else:\n",
        "    num = 1\n",
        "    start = i\n",
        "    end = i\n",
        "  dt[cur] = (num, start, end)\n",
        "dt"
      ],
      "metadata": {
        "colab": {
          "base_uri": "https://localhost:8080/"
        },
        "id": "EumTkJsaO9SS",
        "outputId": "007266a9-7bf7-485f-ed68-96384c6b7eb1"
      },
      "execution_count": null,
      "outputs": [
        {
          "output_type": "execute_result",
          "data": {
            "text/plain": [
              "{1: (2, 0, 4), 2: (2, 1, 2), 3: (1, 3, 3)}"
            ]
          },
          "metadata": {},
          "execution_count": 8
        }
      ]
    },
    {
      "cell_type": "code",
      "source": [
        "ans = sorted(dt, key=lambda k: dt[k][0], reverse=True)\n",
        "max_num = dt[ans[0]][0]\n",
        "min_num = dt[ans[0]][2] - dt[ans[0]][1] + 1\n",
        "for i in ans:\n",
        "  if dt[i][0] != max_num:\n",
        "    break\n",
        "  else:\n",
        "    length = dt[i][2] - dt[i][1] + 1\n",
        "    min_num = min(min_num, length)\n",
        "min_num"
      ],
      "metadata": {
        "colab": {
          "base_uri": "https://localhost:8080/"
        },
        "id": "RBurwzR3RaRn",
        "outputId": "58253a10-4e65-491d-c73e-f9b75be44d40"
      },
      "execution_count": null,
      "outputs": [
        {
          "output_type": "execute_result",
          "data": {
            "text/plain": [
              "5"
            ]
          },
          "metadata": {},
          "execution_count": 9
        }
      ]
    },
    {
      "cell_type": "code",
      "source": [
        "max_num"
      ],
      "metadata": {
        "colab": {
          "base_uri": "https://localhost:8080/"
        },
        "id": "XgNQdDt9RwxI",
        "outputId": "19c9308c-7fc3-4502-95fe-7aa0279ca959"
      },
      "execution_count": null,
      "outputs": [
        {
          "output_type": "execute_result",
          "data": {
            "text/plain": [
              "2"
            ]
          },
          "metadata": {},
          "execution_count": 10
        }
      ]
    },
    {
      "cell_type": "code",
      "source": [
        "ans"
      ],
      "metadata": {
        "colab": {
          "base_uri": "https://localhost:8080/"
        },
        "id": "MvVR8FsERzfp",
        "outputId": "e37047b4-509d-4a61-f6c9-0f03349eec7a"
      },
      "execution_count": null,
      "outputs": [
        {
          "output_type": "execute_result",
          "data": {
            "text/plain": [
              "[1, 2, 3]"
            ]
          },
          "metadata": {},
          "execution_count": 11
        }
      ]
    },
    {
      "cell_type": "code",
      "source": [
        "dt = set()\n",
        "dt.add(3)\n",
        "dt.add(9)\n",
        "dt.add(1)\n",
        "dt.remove(1)\n",
        "dt"
      ],
      "metadata": {
        "id": "qZ6PIy8YR2Xh",
        "colab": {
          "base_uri": "https://localhost:8080/"
        },
        "outputId": "e7dd73f9-2fe2-4f22-99da-083455bef0e2"
      },
      "execution_count": null,
      "outputs": [
        {
          "output_type": "execute_result",
          "data": {
            "text/plain": [
              "{3, 9}"
            ]
          },
          "metadata": {},
          "execution_count": 20
        }
      ]
    },
    {
      "cell_type": "code",
      "source": [
        "dt.remove(3)\n",
        "dt"
      ],
      "metadata": {
        "colab": {
          "base_uri": "https://localhost:8080/"
        },
        "id": "BB-sL8EZnVXU",
        "outputId": "c4638e44-3d79-4330-bde5-f59a3b2730c1"
      },
      "execution_count": null,
      "outputs": [
        {
          "output_type": "execute_result",
          "data": {
            "text/plain": [
              "{1}"
            ]
          },
          "metadata": {},
          "execution_count": 19
        }
      ]
    },
    {
      "cell_type": "code",
      "source": [],
      "metadata": {
        "colab": {
          "base_uri": "https://localhost:8080/"
        },
        "id": "_3Zh9hOfnmoD",
        "outputId": "070d5143-48ab-4579-be17-96774b1cf64a"
      },
      "execution_count": null,
      "outputs": [
        {
          "output_type": "stream",
          "name": "stdout",
          "text": [
            "Help on class set in module builtins:\n",
            "\n",
            "class set(object)\n",
            " |  set() -> new empty set object\n",
            " |  set(iterable) -> new set object\n",
            " |  \n",
            " |  Build an unordered collection of unique elements.\n",
            " |  \n",
            " |  Methods defined here:\n",
            " |  \n",
            " |  __and__(self, value, /)\n",
            " |      Return self&value.\n",
            " |  \n",
            " |  __contains__(...)\n",
            " |      x.__contains__(y) <==> y in x.\n",
            " |  \n",
            " |  __eq__(self, value, /)\n",
            " |      Return self==value.\n",
            " |  \n",
            " |  __ge__(self, value, /)\n",
            " |      Return self>=value.\n",
            " |  \n",
            " |  __getattribute__(self, name, /)\n",
            " |      Return getattr(self, name).\n",
            " |  \n",
            " |  __gt__(self, value, /)\n",
            " |      Return self>value.\n",
            " |  \n",
            " |  __iand__(self, value, /)\n",
            " |      Return self&=value.\n",
            " |  \n",
            " |  __init__(self, /, *args, **kwargs)\n",
            " |      Initialize self.  See help(type(self)) for accurate signature.\n",
            " |  \n",
            " |  __ior__(self, value, /)\n",
            " |      Return self|=value.\n",
            " |  \n",
            " |  __isub__(self, value, /)\n",
            " |      Return self-=value.\n",
            " |  \n",
            " |  __iter__(self, /)\n",
            " |      Implement iter(self).\n",
            " |  \n",
            " |  __ixor__(self, value, /)\n",
            " |      Return self^=value.\n",
            " |  \n",
            " |  __le__(self, value, /)\n",
            " |      Return self<=value.\n",
            " |  \n",
            " |  __len__(self, /)\n",
            " |      Return len(self).\n",
            " |  \n",
            " |  __lt__(self, value, /)\n",
            " |      Return self<value.\n",
            " |  \n",
            " |  __ne__(self, value, /)\n",
            " |      Return self!=value.\n",
            " |  \n",
            " |  __or__(self, value, /)\n",
            " |      Return self|value.\n",
            " |  \n",
            " |  __rand__(self, value, /)\n",
            " |      Return value&self.\n",
            " |  \n",
            " |  __reduce__(...)\n",
            " |      Return state information for pickling.\n",
            " |  \n",
            " |  __repr__(self, /)\n",
            " |      Return repr(self).\n",
            " |  \n",
            " |  __ror__(self, value, /)\n",
            " |      Return value|self.\n",
            " |  \n",
            " |  __rsub__(self, value, /)\n",
            " |      Return value-self.\n",
            " |  \n",
            " |  __rxor__(self, value, /)\n",
            " |      Return value^self.\n",
            " |  \n",
            " |  __sizeof__(...)\n",
            " |      S.__sizeof__() -> size of S in memory, in bytes\n",
            " |  \n",
            " |  __sub__(self, value, /)\n",
            " |      Return self-value.\n",
            " |  \n",
            " |  __xor__(self, value, /)\n",
            " |      Return self^value.\n",
            " |  \n",
            " |  add(...)\n",
            " |      Add an element to a set.\n",
            " |      \n",
            " |      This has no effect if the element is already present.\n",
            " |  \n",
            " |  clear(...)\n",
            " |      Remove all elements from this set.\n",
            " |  \n",
            " |  copy(...)\n",
            " |      Return a shallow copy of a set.\n",
            " |  \n",
            " |  difference(...)\n",
            " |      Return the difference of two or more sets as a new set.\n",
            " |      \n",
            " |      (i.e. all elements that are in this set but not the others.)\n",
            " |  \n",
            " |  difference_update(...)\n",
            " |      Remove all elements of another set from this set.\n",
            " |  \n",
            " |  discard(...)\n",
            " |      Remove an element from a set if it is a member.\n",
            " |      \n",
            " |      If the element is not a member, do nothing.\n",
            " |  \n",
            " |  intersection(...)\n",
            " |      Return the intersection of two sets as a new set.\n",
            " |      \n",
            " |      (i.e. all elements that are in both sets.)\n",
            " |  \n",
            " |  intersection_update(...)\n",
            " |      Update a set with the intersection of itself and another.\n",
            " |  \n",
            " |  isdisjoint(...)\n",
            " |      Return True if two sets have a null intersection.\n",
            " |  \n",
            " |  issubset(...)\n",
            " |      Report whether another set contains this set.\n",
            " |  \n",
            " |  issuperset(...)\n",
            " |      Report whether this set contains another set.\n",
            " |  \n",
            " |  pop(...)\n",
            " |      Remove and return an arbitrary set element.\n",
            " |      Raises KeyError if the set is empty.\n",
            " |  \n",
            " |  remove(...)\n",
            " |      Remove an element from a set; it must be a member.\n",
            " |      \n",
            " |      If the element is not a member, raise a KeyError.\n",
            " |  \n",
            " |  symmetric_difference(...)\n",
            " |      Return the symmetric difference of two sets as a new set.\n",
            " |      \n",
            " |      (i.e. all elements that are in exactly one of the sets.)\n",
            " |  \n",
            " |  symmetric_difference_update(...)\n",
            " |      Update a set with the symmetric difference of itself and another.\n",
            " |  \n",
            " |  union(...)\n",
            " |      Return the union of sets as a new set.\n",
            " |      \n",
            " |      (i.e. all elements that are in either set.)\n",
            " |  \n",
            " |  update(...)\n",
            " |      Update a set with the union of itself and others.\n",
            " |  \n",
            " |  ----------------------------------------------------------------------\n",
            " |  Class methods defined here:\n",
            " |  \n",
            " |  __class_getitem__(...) from builtins.type\n",
            " |      See PEP 585\n",
            " |  \n",
            " |  ----------------------------------------------------------------------\n",
            " |  Static methods defined here:\n",
            " |  \n",
            " |  __new__(*args, **kwargs) from builtins.type\n",
            " |      Create and return a new object.  See help(type) for accurate signature.\n",
            " |  \n",
            " |  ----------------------------------------------------------------------\n",
            " |  Data and other attributes defined here:\n",
            " |  \n",
            " |  __hash__ = None\n",
            "\n"
          ]
        }
      ]
    },
    {
      "cell_type": "code",
      "source": [],
      "metadata": {
        "id": "ngWwROJC-Hta"
      },
      "execution_count": null,
      "outputs": []
    }
  ]
}