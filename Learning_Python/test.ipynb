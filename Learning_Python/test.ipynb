{
  "nbformat": 4,
  "nbformat_minor": 0,
  "metadata": {
    "colab": {
      "provenance": [],
      "authorship_tag": "ABX9TyPsRaZt2+TMik/RIkFifWHO",
      "include_colab_link": true
    },
    "kernelspec": {
      "name": "python3",
      "display_name": "Python 3"
    },
    "language_info": {
      "name": "python"
    }
  },
  "cells": [
    {
      "cell_type": "markdown",
      "metadata": {
        "id": "view-in-github",
        "colab_type": "text"
      },
      "source": [
        "<a href=\"https://colab.research.google.com/github/ailunguo/Test/blob/main/Learning_Python/test.ipynb\" target=\"_parent\"><img src=\"https://colab.research.google.com/assets/colab-badge.svg\" alt=\"Open In Colab\"/></a>"
      ]
    },
    {
      "cell_type": "code",
      "execution_count": null,
      "metadata": {
        "colab": {
          "base_uri": "https://localhost:8080/"
        },
        "id": "unUu1uK-fkUj",
        "outputId": "dc3e4c2f-bee3-408c-bb3b-fdaf12c3dcb7"
      },
      "outputs": [
        {
          "output_type": "execute_result",
          "data": {
            "text/plain": [
              "1"
            ]
          },
          "metadata": {},
          "execution_count": 2
        }
      ],
      "source": [
        "s = set()\n",
        "s.add(0)\n",
        "s.add(0)\n",
        "len(s)"
      ]
    },
    {
      "cell_type": "code",
      "source": [
        "# node.val, rootval, ans\n",
        "# if ans != -1 and node.val > ans:\n",
        "# if node.val > rootval"
      ],
      "metadata": {
        "id": "wN-14f3ifqVj"
      },
      "execution_count": null,
      "outputs": []
    },
    {
      "cell_type": "code",
      "source": [
        "lt = []\n",
        "lt.insert(0, 3)\n",
        "lt.insert(0, 4)\n",
        "a = lt.pop()\n",
        "a"
      ],
      "metadata": {
        "colab": {
          "base_uri": "https://localhost:8080/"
        },
        "id": "Zfj9uTNAH6bU",
        "outputId": "0a96d867-8975-4c3c-e998-80b201e990a8"
      },
      "execution_count": null,
      "outputs": [
        {
          "output_type": "execute_result",
          "data": {
            "text/plain": [
              "3"
            ]
          },
          "metadata": {},
          "execution_count": 5
        }
      ]
    },
    {
      "cell_type": "code",
      "source": [
        "for i in range(1):\n",
        "  print(i)"
      ],
      "metadata": {
        "colab": {
          "base_uri": "https://localhost:8080/"
        },
        "id": "i_DauRfkH_L-",
        "outputId": "0edadffb-2a93-4910-a061-bbb30117e643"
      },
      "execution_count": null,
      "outputs": [
        {
          "output_type": "stream",
          "name": "stdout",
          "text": [
            "0\n"
          ]
        }
      ]
    },
    {
      "cell_type": "code",
      "source": [
        "if []:\n",
        "  print('true')\n",
        "else:\n",
        "  print('False')"
      ],
      "metadata": {
        "colab": {
          "base_uri": "https://localhost:8080/"
        },
        "id": "CEnwdjNxMSWF",
        "outputId": "9ad7b283-ba76-4273-bba0-05d9564488be"
      },
      "execution_count": null,
      "outputs": [
        {
          "output_type": "stream",
          "name": "stdout",
          "text": [
            "False\n"
          ]
        }
      ]
    },
    {
      "cell_type": "code",
      "source": [
        "def inter(root):\n",
        "  # 首先定义一个cur，它是当前要进行左中右中序遍历的节点\n",
        "  cur = root\n",
        "  lt_node = []\n",
        "  lt = []\n",
        "  while cur or lt_node:\n",
        "    # 遍历cur的所有左节点然后压入栈中\n",
        "    while cur:\n",
        "      lt_node.append(cur)\n",
        "      cur = cur.left\n",
        "    # 结束循环之后cur是空的\n",
        "    # 定义一个node节点，此节点是要打印的节点或遍历的节点\n",
        "    node = lt_node.pop()\n",
        "    lt.append(node)\n",
        "    if node.right: # 如果遍历的节点有右子节点就继续遍历它的右子节点，因为此时node就是中节点\n",
        "      cur = node.right\n",
        "  return lt"
      ],
      "metadata": {
        "id": "eAT6Ay8mTPla"
      },
      "execution_count": null,
      "outputs": []
    },
    {
      "cell_type": "code",
      "source": [
        "dt = {}\n",
        "lt = [1, 3, 4, 2, 2, 1, 1, 1]\n",
        "for i in lt:\n",
        "  if i in dt:\n",
        "    dt[i] += 1\n",
        "  else:\n",
        "    dt[i] = 1\n",
        "max(dt.values())"
      ],
      "metadata": {
        "colab": {
          "base_uri": "https://localhost:8080/"
        },
        "id": "abKTOuvNthib",
        "outputId": "9e45e377-76ff-453a-ec4c-7a06e9fe9d14"
      },
      "execution_count": null,
      "outputs": [
        {
          "output_type": "execute_result",
          "data": {
            "text/plain": [
              "4"
            ]
          },
          "metadata": {},
          "execution_count": 17
        }
      ]
    },
    {
      "cell_type": "code",
      "source": [
        "t = {'a': 3, '5': 6}\n",
        "for ch in t:\n",
        "  print(ch)"
      ],
      "metadata": {
        "id": "c14Pjsaitq2i",
        "colab": {
          "base_uri": "https://localhost:8080/"
        },
        "outputId": "abe1a28c-2d55-46bf-a357-ea9225e6803c"
      },
      "execution_count": null,
      "outputs": [
        {
          "output_type": "stream",
          "name": "stdout",
          "text": [
            "a\n",
            "5\n"
          ]
        }
      ]
    },
    {
      "cell_type": "code",
      "source": [
        "t.pop('a')"
      ],
      "metadata": {
        "colab": {
          "base_uri": "https://localhost:8080/"
        },
        "id": "xY1Iyp3aP_Fz",
        "outputId": "4d6b5098-1756-4432-d4b7-53515d806fa8"
      },
      "execution_count": null,
      "outputs": [
        {
          "output_type": "execute_result",
          "data": {
            "text/plain": [
              "3"
            ]
          },
          "metadata": {},
          "execution_count": 3
        }
      ]
    },
    {
      "cell_type": "code",
      "source": [
        "t"
      ],
      "metadata": {
        "colab": {
          "base_uri": "https://localhost:8080/"
        },
        "id": "jP7K9fHOQ0lQ",
        "outputId": "90988913-726b-42a7-86c5-6adc8682710a"
      },
      "execution_count": null,
      "outputs": [
        {
          "output_type": "execute_result",
          "data": {
            "text/plain": [
              "{'5': 6}"
            ]
          },
          "metadata": {},
          "execution_count": 4
        }
      ]
    },
    {
      "cell_type": "code",
      "source": [
        "5//2*2"
      ],
      "metadata": {
        "colab": {
          "base_uri": "https://localhost:8080/"
        },
        "id": "4Wx45NzaQ73I",
        "outputId": "44f941d2-2694-4f2b-c55b-c4a686327316"
      },
      "execution_count": null,
      "outputs": [
        {
          "output_type": "execute_result",
          "data": {
            "text/plain": [
              "4"
            ]
          },
          "metadata": {},
          "execution_count": 7
        }
      ]
    },
    {
      "cell_type": "code",
      "source": [
        "t = {'a': 'c'}\n",
        "t['a'] = 'd'\n",
        "t"
      ],
      "metadata": {
        "colab": {
          "base_uri": "https://localhost:8080/"
        },
        "id": "LvCl5pH6aENB",
        "outputId": "b5718017-e1e3-4198-a409-f6358168519c"
      },
      "execution_count": null,
      "outputs": [
        {
          "output_type": "execute_result",
          "data": {
            "text/plain": [
              "{'a': 'd'}"
            ]
          },
          "metadata": {},
          "execution_count": 8
        }
      ]
    },
    {
      "cell_type": "code",
      "source": [
        "def isSubstring(s):\n",
        "  left = 0\n",
        "  right = len(s) - 1\n",
        "  while right > left:\n",
        "    if s[left] == s[right]:\n",
        "      left += 1\n",
        "      right -= 1\n",
        "      continue\n",
        "    else:\n",
        "      return False\n",
        "  return True\n",
        "isSubstring('aaa')"
      ],
      "metadata": {
        "colab": {
          "base_uri": "https://localhost:8080/"
        },
        "id": "PGpLCuPicPev",
        "outputId": "c3992146-9b70-4786-a9e7-db87eedb856a"
      },
      "execution_count": null,
      "outputs": [
        {
          "output_type": "execute_result",
          "data": {
            "text/plain": [
              "True"
            ]
          },
          "metadata": {},
          "execution_count": 12
        }
      ]
    },
    {
      "cell_type": "code",
      "source": [
        "isSubstring('ag')"
      ],
      "metadata": {
        "colab": {
          "base_uri": "https://localhost:8080/"
        },
        "id": "1z9Rfjiui6_A",
        "outputId": "240501f8-2416-4e38-c1fe-9535c86028cd"
      },
      "execution_count": null,
      "outputs": [
        {
          "output_type": "execute_result",
          "data": {
            "text/plain": [
              "False"
            ]
          },
          "metadata": {},
          "execution_count": 13
        }
      ]
    },
    {
      "cell_type": "code",
      "source": [
        "t = True\n",
        "i = 1 if t else 4\n"
      ],
      "metadata": {
        "id": "KgNSb0SXjeUR"
      },
      "execution_count": null,
      "outputs": []
    },
    {
      "cell_type": "code",
      "source": [
        "i"
      ],
      "metadata": {
        "colab": {
          "base_uri": "https://localhost:8080/"
        },
        "id": "ByLZXMCvX7Nt",
        "outputId": "9b928c78-015c-4ed5-a964-78763923d687"
      },
      "execution_count": null,
      "outputs": [
        {
          "output_type": "execute_result",
          "data": {
            "text/plain": [
              "1"
            ]
          },
          "metadata": {},
          "execution_count": 4
        }
      ]
    },
    {
      "cell_type": "code",
      "source": [
        "t = 1456\n",
        "i = str(t)\n",
        "i"
      ],
      "metadata": {
        "colab": {
          "base_uri": "https://localhost:8080/",
          "height": 35
        },
        "id": "qYHBsnmwaV2U",
        "outputId": "63d90954-1563-4472-bc85-3912de60c23b"
      },
      "execution_count": null,
      "outputs": [
        {
          "output_type": "execute_result",
          "data": {
            "text/plain": [
              "'1456'"
            ],
            "application/vnd.google.colaboratory.intrinsic+json": {
              "type": "string"
            }
          },
          "metadata": {},
          "execution_count": 5
        }
      ]
    },
    {
      "cell_type": "code",
      "source": [],
      "metadata": {
        "id": "fwA7c2ytesV7"
      },
      "execution_count": null,
      "outputs": []
    }
  ]
}