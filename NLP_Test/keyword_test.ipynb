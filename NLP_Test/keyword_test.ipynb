{
  "nbformat": 4,
  "nbformat_minor": 0,
  "metadata": {
    "colab": {
      "provenance": [],
      "authorship_tag": "ABX9TyOoKnHsm0iQl7iytM4Yd+5w",
      "include_colab_link": true
    },
    "kernelspec": {
      "name": "python3",
      "display_name": "Python 3"
    },
    "language_info": {
      "name": "python"
    }
  },
  "cells": [
    {
      "cell_type": "markdown",
      "metadata": {
        "id": "view-in-github",
        "colab_type": "text"
      },
      "source": [
        "<a href=\"https://colab.research.google.com/github/ailunguo/Test/blob/main/NLP_Test/keyword_test.ipynb\" target=\"_parent\"><img src=\"https://colab.research.google.com/assets/colab-badge.svg\" alt=\"Open In Colab\"/></a>"
      ]
    },
    {
      "cell_type": "code",
      "source": [
        "!pip install textrank4zh"
      ],
      "metadata": {
        "colab": {
          "base_uri": "https://localhost:8080/"
        },
        "id": "iByMIQ9FqtfP",
        "outputId": "29e3744e-5251-4916-b3cf-3a26ae467f08"
      },
      "execution_count": 1,
      "outputs": [
        {
          "output_type": "stream",
          "name": "stdout",
          "text": [
            "Collecting textrank4zh\n",
            "  Downloading textrank4zh-0.3.zip (13 kB)\n",
            "  Preparing metadata (setup.py) ... \u001b[?25l\u001b[?25hdone\n",
            "Requirement already satisfied: jieba>=0.35 in /usr/local/lib/python3.10/dist-packages (from textrank4zh) (0.42.1)\n",
            "Requirement already satisfied: numpy>=1.7.1 in /usr/local/lib/python3.10/dist-packages (from textrank4zh) (1.23.5)\n",
            "Requirement already satisfied: networkx>=1.9.1 in /usr/local/lib/python3.10/dist-packages (from textrank4zh) (3.1)\n",
            "Building wheels for collected packages: textrank4zh\n",
            "  Building wheel for textrank4zh (setup.py) ... \u001b[?25l\u001b[?25hdone\n",
            "  Created wheel for textrank4zh: filename=textrank4zh-0.3-py3-none-any.whl size=13402 sha256=64e46882cc504eeefdc4ec49598fca8d14f1eb49bdf6b9c33b2cf9e21ad54177\n",
            "  Stored in directory: /root/.cache/pip/wheels/7c/4e/89/5c1f3fa225bf1fa153fd535681c2c582b92bb61e9e8c2441c7\n",
            "Successfully built textrank4zh\n",
            "Installing collected packages: textrank4zh\n",
            "Successfully installed textrank4zh-0.3\n"
          ]
        }
      ]
    },
    {
      "cell_type": "code",
      "execution_count": 2,
      "metadata": {
        "id": "G2_5y44Bmflk"
      },
      "outputs": [],
      "source": [
        "import jieba.analyse\n",
        "from textrank4zh import TextRank4Keyword"
      ]
    },
    {
      "cell_type": "code",
      "source": [
        "def jieba_test(sentence):\n",
        "  result = jieba.analyse.extract_tags(sentence, topK=5, withWeight=True, allowPOS=())\n",
        "  print('jieba 分词得到的关键词权重：')\n",
        "  for i in result:\n",
        "    print(i)\n",
        "\n",
        "# allowPOS:词性过滤，为空则不过滤，若提供则仅返回符合词性要求的关键词"
      ],
      "metadata": {
        "id": "kOizxXOBqMiO"
      },
      "execution_count": 3,
      "outputs": []
    },
    {
      "cell_type": "code",
      "source": [
        "sentence = \"中国是一个有着悠久历史和灿烂文化的国家。\"\n",
        "jieba_test(sentence)"
      ],
      "metadata": {
        "colab": {
          "base_uri": "https://localhost:8080/"
        },
        "id": "2P-dgu5YrT-n",
        "outputId": "8be75dae-55d6-40ae-8663-9d8966013f8d"
      },
      "execution_count": 4,
      "outputs": [
        {
          "output_type": "stream",
          "name": "stderr",
          "text": [
            "Building prefix dict from the default dictionary ...\n",
            "DEBUG:jieba:Building prefix dict from the default dictionary ...\n",
            "Dumping model to file cache /tmp/jieba.cache\n",
            "DEBUG:jieba:Dumping model to file cache /tmp/jieba.cache\n",
            "Loading model cost 0.895 seconds.\n",
            "DEBUG:jieba:Loading model cost 0.895 seconds.\n",
            "Prefix dict has been built successfully.\n",
            "DEBUG:jieba:Prefix dict has been built successfully.\n"
          ]
        },
        {
          "output_type": "stream",
          "name": "stdout",
          "text": [
            "jieba 分词得到的关键词权重：\n",
            "('悠久', 1.0514674907275)\n",
            "('灿烂', 1.0292813704825)\n",
            "('有着', 0.767366583415)\n",
            "('文化', 0.63612817547875)\n",
            "('历史', 0.57540532164375)\n"
          ]
        }
      ]
    },
    {
      "cell_type": "code",
      "source": [
        "# TextRank4Keyword()\n",
        "def TextRank4zh_test(sentence):\n",
        "  tr4w = TextRank4Keyword()\n",
        "  tr4w.analyze(sentence, lower=True, window=5)\n",
        "  print(\"TextRank4zh_test 方法得到的关键词：\")\n",
        "  for item in tr4w.get_keywords(5, word_min_len=1):\n",
        "    print(item)\n",
        "\n",
        "# analyze() 对文本进行分析\n",
        "# get_keywords() 获得重要的关键词"
      ],
      "metadata": {
        "id": "Gtui5n_7rgUm"
      },
      "execution_count": 5,
      "outputs": []
    },
    {
      "cell_type": "code",
      "source": [
        "!pip install networkx==3.1"
      ],
      "metadata": {
        "colab": {
          "base_uri": "https://localhost:8080/"
        },
        "id": "pAcO8LULwpJV",
        "outputId": "63b0fa00-0cfd-48e2-b98d-c6577f5d54ec"
      },
      "execution_count": 11,
      "outputs": [
        {
          "output_type": "stream",
          "name": "stdout",
          "text": [
            "Requirement already satisfied: networkx==3.1 in /usr/local/lib/python3.10/dist-packages (3.1)\n"
          ]
        }
      ]
    },
    {
      "cell_type": "code",
      "source": [
        "TextRank4zh_test(sentence)"
      ],
      "metadata": {
        "colab": {
          "base_uri": "https://localhost:8080/"
        },
        "id": "bTyZZ_QLtK4H",
        "outputId": "a86ce60e-1d74-4ee3-f2d3-102b748b6666"
      },
      "execution_count": 9,
      "outputs": [
        {
          "output_type": "stream",
          "name": "stdout",
          "text": [
            "TextRank4zh_test 方法得到的关键词：\n",
            "{'word': '历史', 'weight': 0.2770643638571485}\n",
            "{'word': '有着', 'weight': 0.2124087591240713}\n",
            "{'word': '文化', 'weight': 0.2124087591240713}\n",
            "{'word': '中国', 'weight': 0.14905905894735447}\n",
            "{'word': '国家', 'weight': 0.14905905894735444}\n"
          ]
        }
      ]
    },
    {
      "cell_type": "code",
      "source": [
        "!pip show networkx"
      ],
      "metadata": {
        "colab": {
          "base_uri": "https://localhost:8080/"
        },
        "id": "tLNtnosTtQP9",
        "outputId": "2ef14f5c-4f61-4872-a084-3e7ef08eae5c"
      },
      "execution_count": 8,
      "outputs": [
        {
          "output_type": "stream",
          "name": "stdout",
          "text": [
            "Name: networkx\n",
            "Version: 3.1\n",
            "Summary: Python package for creating and manipulating graphs and networks\n",
            "Home-page: https://networkx.org/\n",
            "Author: Aric Hagberg\n",
            "Author-email: hagberg@lanl.gov\n",
            "License: \n",
            "Location: /usr/local/lib/python3.10/dist-packages\n",
            "Requires: \n",
            "Required-by: hyperopt, python-louvain, scikit-image, textrank4zh, torch\n"
          ]
        }
      ]
    }
  ]
}