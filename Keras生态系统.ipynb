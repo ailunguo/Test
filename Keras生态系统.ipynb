{
  "nbformat": 4,
  "nbformat_minor": 0,
  "metadata": {
    "colab": {
      "provenance": [],
      "authorship_tag": "ABX9TyNVQx/G8O3BKYtPvpZ7pk8f",
      "include_colab_link": true
    },
    "kernelspec": {
      "name": "python3",
      "display_name": "Python 3"
    },
    "language_info": {
      "name": "python"
    }
  },
  "cells": [
    {
      "cell_type": "markdown",
      "metadata": {
        "id": "view-in-github",
        "colab_type": "text"
      },
      "source": [
        "<a href=\"https://colab.research.google.com/github/ailunguo/Test/blob/main/Keras%E7%94%9F%E6%80%81%E7%B3%BB%E7%BB%9F.ipynb\" target=\"_parent\"><img src=\"https://colab.research.google.com/assets/colab-badge.svg\" alt=\"Open In Colab\"/></a>"
      ]
    },
    {
      "cell_type": "markdown",
      "source": [
        "## Keras调优器\n",
        "### KerasTuner是一个易于使用、可拓展的超参数优化框架，解决了超参数搜索的痛点。"
      ],
      "metadata": {
        "id": "UaVgjQFFy8jm"
      }
    },
    {
      "cell_type": "markdown",
      "source": [
        "## Keras自然语言处理\n",
        "### KerasNLP是一个自然语言处理库，可为用户的整个开发周期提供支持。"
      ],
      "metadata": {
        "id": "xtCGZc3GzRln"
      }
    },
    {
      "cell_type": "markdown",
      "source": [
        "## KerasCV\n",
        "### KerasCV是一个模块化构建块(层、指标、损失、数据增强)的存储库，应用计算机视觉工程师可以利用它为常见用例快速组装生产级、最先进的训练和推理管道，例如图像分类、目标检测、图像分割、图像数据增强等。"
      ],
      "metadata": {
        "id": "oQnkzlAb0SY-"
      }
    },
    {
      "cell_type": "markdown",
      "source": [
        "## AutoKeras\n",
        "### AutoKeras是一个基于Keras的AutoML系统。目标是让每个人都能使用机器学习。"
      ],
      "metadata": {
        "id": "6Jotf59b04un"
      }
    },
    {
      "cell_type": "code",
      "execution_count": null,
      "metadata": {
        "id": "jDvlTbuFyezj"
      },
      "outputs": [],
      "source": [
        "# AutoKeras\n",
        "# import autokeras as ak\n",
        "\n",
        "# clf = ak.ImageClassifier()\n",
        "# clf.fit(x_train, y_train)\n",
        "# results = clf.predict(x_test)"
      ]
    },
    {
      "cell_type": "markdown",
      "source": [
        "## 模型优化工具包\n",
        "### 其是一组实用程序，可通过执行训练后权重量化和剪枝感知训练，使推理模型更快、内存效率更高、能效更高。它对Keras模型具有本机支持，并且其修建API直接构建在Keras API之上"
      ],
      "metadata": {
        "id": "A9P9_9zs1cKo"
      }
    },
    {
      "cell_type": "code",
      "source": [
        "# import tensorflow_model_optimization as tfmot\n",
        "\n",
        "# Define a Keras model.\n",
        "# model = tf.keras.Sequential([...])\n",
        "\n",
        "# Define a training-time pruning schedule\n",
        "# pruning_schedule = tfmot.sparsity.keras.PolynomialDecay(\n",
        "#     initial_sparsity=0.0, final_sparsity=0.5,\n",
        "#     begin_step=2000, end_step=4000)\n",
        "\n",
        "# Convert your Keras model to a pruning-optimized model\n",
        "# model_for_pruning = tfmot.sparsity.keras.prune_low_magnitude(\n",
        "#     model, pruning_schedule=pruning_schedule)\n",
        "\n",
        "# Fit the optimized model\n",
        "# model_for_pruning.fit(...)"
      ],
      "metadata": {
        "id": "IEx52UK5yxPr"
      },
      "execution_count": null,
      "outputs": []
    },
    {
      "cell_type": "markdown",
      "source": [
        "# 一般的问题"
      ],
      "metadata": {
        "id": "JFS321E_5P8R"
      }
    },
    {
      "cell_type": "markdown",
      "source": [
        "## 如何在多个GPU上(在一台机器上)训练Keras模型\n",
        "### 在多个GPU上运行单个模型有两种方法：数据并行和设备并行。在大多数情况下，您最需要的是数据并行性\n",
        "### 1）数据并行性\n",
        "数据并行性在于在每个设备上复制一次目标模型，并使用每个副本来处理输入数据的不同部分。"
      ],
      "metadata": {
        "id": "RfXUNqT85Umg"
      }
    },
    {
      "cell_type": "code",
      "source": [
        "# a) 实力化\"分发策略\"对象，例如MirroredStrategy（在每个可用设备上复制模型并保持每个模型的状态同步\n",
        "# strategy = tf.distribute.MirroredStrategy()\n",
        "# b） 创建模型并在策略范围内编译它\n",
        "# with strategy.scope():\n",
        "#   # This could be any kind of model -- Functional, subclass...\n",
        "#   model = tf.keras.Sequential([\n",
        "#       tf.keras.layers.Conv2D(32, 3, activation='relu', input_shape=(28, 28, 1)),\n",
        "#       tf.keras.layers.GlobalMaxPooling2D(),\n",
        "#       tf.keras.layers.Dense(10)])\n",
        "#   model.compile(loss=tf.keras.losses.SparseCategoricalCrossentropy(from_logits=True),\n",
        "#          optimizer=tf.keras.optimizers.Adam(),\n",
        "#          metrics=[tf.keras.metrics.SparseCategoricalAccuracy()])"
      ],
      "metadata": {
        "id": "KRzfbjyZ2Eop"
      },
      "execution_count": null,
      "outputs": []
    },
    {
      "cell_type": "code",
      "source": [
        "# model.fit(train_dataset, epochs=12, callbacks=callbacks)"
      ],
      "metadata": {
        "id": "U6h07ABc8Xdv"
      },
      "execution_count": null,
      "outputs": []
    },
    {
      "cell_type": "markdown",
      "source": [
        "### 2) 模型并行性\n",
        "模型并行性在于在不同设备上运行同一模型的不同部分。它最适合具有并行架构的模型，例如具有两个分支的模型"
      ],
      "metadata": {
        "id": "FSYBd26b8eYP"
      }
    },
    {
      "cell_type": "code",
      "source": [
        "# Model where a shared LSTM is used to encode two different sequences in parallel\n",
        "# input_a = keras.Input(shape=(140, 256))\n",
        "# input_b = keras.Input(shape=(140, 256))\n",
        "\n",
        "# shared_lstm = keras.layers.LSTM(64)\n",
        "\n",
        "# Process the first sequence on one GPU\n",
        "# with tf.device_scope('/gpu:0'):\n",
        "#   encode_a = shared_lstm(input_a)\n",
        "\n",
        "# Process the next sequence on another GPU\n",
        "# with tf.device_scope('/gpu:1'):\n",
        "#   encode_b = shared_lstm(input_b)\n",
        "\n",
        "# Concatenate results on CPU\n",
        "# with tf.device_scope('cpu:0'):\n",
        "#   merged_vector = keras.layers.concatenate(\n",
        "#       [encoded_a, encoded_b], axis=-1)"
      ],
      "metadata": {
        "id": "KwDdCr2u85IP"
      },
      "execution_count": null,
      "outputs": []
    },
    {
      "cell_type": "markdown",
      "source": [
        "## 保存模型\n",
        "### 不建议使用pickle或cPickle保存Keras模型\n",
        "1，全模型保存（配置+权重）\n",
        "保存：model.save(your_file_path.keras)\n",
        "加载：model = keras.models.load_model(your_file_path)"
      ],
      "metadata": {
        "id": "Wi0mCDktBX3Y"
      }
    },
    {
      "cell_type": "code",
      "source": [
        "# 自定义train_step\n",
        "from tensorflow import keras\n",
        "import tensorflow as tf\n",
        "import numpy as np"
      ],
      "metadata": {
        "id": "qGmVtdnyK_UI"
      },
      "execution_count": 1,
      "outputs": []
    },
    {
      "cell_type": "code",
      "source": [
        "class MyCustomModel(keras.Model):\n",
        "\n",
        "  def train_step(self, data):\n",
        "\n",
        "    x, y = data\n",
        "\n",
        "    with tf.GradientTape() as tape:\n",
        "      y_pred = self(x, training=True)\n",
        "      loss = self.compiled_loss(y, y_pred,\n",
        "                      regularization_losses=self.losses)\n",
        "\n",
        "    trainable_vars = self.trainable_variables\n",
        "    gradients = tape.gradient(loss, trainable_vars)\n",
        "    self.optimizer.apply_gradients(zip(gradients, trainable_vars))\n",
        "    self.compiled_metrics.update_state(y, y_pred)\n",
        "\n",
        "    return {m.name: m.result() for m in self.metrics}"
      ],
      "metadata": {
        "id": "sjwPLQX3vlHW"
      },
      "execution_count": 5,
      "outputs": []
    },
    {
      "cell_type": "code",
      "source": [
        "inputs = keras.Input(shape=(32,))\n",
        "outputs = keras.layers.Dense(1)(inputs)\n",
        "model = MyCustomModel(inputs, outputs)\n",
        "model.compile(optimizer='adam', loss='mse', metrics=['accuracy'])"
      ],
      "metadata": {
        "id": "PgWt2tpZy_a2"
      },
      "execution_count": 6,
      "outputs": []
    },
    {
      "cell_type": "code",
      "source": [
        "x = np.random.random((1000, 32))\n",
        "y = np.random.random((1000, 1))\n",
        "model.fit(x, y, epochs=10)"
      ],
      "metadata": {
        "colab": {
          "base_uri": "https://localhost:8080/"
        },
        "id": "Q_xso_C32KgP",
        "outputId": "846d15c6-4dbb-4fde-9c51-b8475d32a46c"
      },
      "execution_count": 7,
      "outputs": [
        {
          "output_type": "stream",
          "name": "stdout",
          "text": [
            "Epoch 1/10\n",
            "32/32 [==============================] - 1s 2ms/step - loss: 0.3057 - accuracy: 0.0000e+00\n",
            "Epoch 2/10\n",
            "32/32 [==============================] - 0s 1ms/step - loss: 0.2638 - accuracy: 0.0000e+00\n",
            "Epoch 3/10\n",
            "32/32 [==============================] - 0s 1ms/step - loss: 0.2536 - accuracy: 0.0000e+00\n",
            "Epoch 4/10\n",
            "32/32 [==============================] - 0s 2ms/step - loss: 0.2432 - accuracy: 0.0000e+00\n",
            "Epoch 5/10\n",
            "32/32 [==============================] - 0s 2ms/step - loss: 0.2329 - accuracy: 0.0000e+00\n",
            "Epoch 6/10\n",
            "32/32 [==============================] - 0s 2ms/step - loss: 0.2221 - accuracy: 0.0000e+00\n",
            "Epoch 7/10\n",
            "32/32 [==============================] - 0s 2ms/step - loss: 0.2124 - accuracy: 0.0000e+00\n",
            "Epoch 8/10\n",
            "32/32 [==============================] - 0s 1ms/step - loss: 0.2030 - accuracy: 0.0000e+00\n",
            "Epoch 9/10\n",
            "32/32 [==============================] - 0s 2ms/step - loss: 0.1944 - accuracy: 0.0000e+00\n",
            "Epoch 10/10\n",
            "32/32 [==============================] - 0s 1ms/step - loss: 0.1861 - accuracy: 0.0000e+00\n"
          ]
        },
        {
          "output_type": "execute_result",
          "data": {
            "text/plain": [
              "<keras.src.callbacks.History at 0x781bec3ac9a0>"
            ]
          },
          "metadata": {},
          "execution_count": 7
        }
      ]
    },
    {
      "cell_type": "code",
      "source": [
        "# 还可以轻松添加对样本加权的支持\n",
        "class MyCustomModel(keras.Model):\n",
        "\n",
        "  def train_step(self, data):\n",
        "\n",
        "    if len(data) == 3:\n",
        "      x, y, sample_weight = data\n",
        "    else:\n",
        "      x, y = data\n",
        "\n",
        "    with tf.GradientTape() as tape:\n",
        "      y_pred = self(x, training=True)\n",
        "\n",
        "      loss = self.compiled_loss(y, y_pred,\n",
        "                      sample_weight=sample_weight,\n",
        "                      regularization_losses=self.losses)\n",
        "\n",
        "    trainable_vars = self.trainable_variables\n",
        "    gradients = tape.gradient(loss, trainable_vars)\n",
        "    self.optimizer.apply_gradients(zip(gradients, trainable_vars))\n",
        "    self.compiled_metrics.update_state(\n",
        "        y, y_pred, sample_weight=sample_weight)\n",
        "    return {m.name: m.result() for m in self.metrics}"
      ],
      "metadata": {
        "id": "amIKoaKe2UcW"
      },
      "execution_count": 12,
      "outputs": []
    },
    {
      "cell_type": "code",
      "source": [
        "inputs = keras.Input(shape=(32,))\n",
        "outputs = keras.layers.Dense(1)(inputs)\n",
        "model = MyCustomModel(inputs, outputs)\n",
        "model.compile(optimizer='adam', loss='mse', metrics=['accuracy'])\n",
        "\n",
        "x = np.random.random((1000, 32))\n",
        "y = np.random.random((1000, 1))\n",
        "sw = np.random.random((1000, 1))\n",
        "model.fit(x, y, sample_weight=sw, epochs=10)"
      ],
      "metadata": {
        "colab": {
          "base_uri": "https://localhost:8080/"
        },
        "id": "fgm126xZ4vKv",
        "outputId": "86a89018-e821-408c-a67e-841ea5659686"
      },
      "execution_count": 13,
      "outputs": [
        {
          "output_type": "stream",
          "name": "stdout",
          "text": [
            "Epoch 1/10\n",
            "32/32 [==============================] - 0s 2ms/step - loss: 0.2295 - accuracy: 0.0000e+00\n",
            "Epoch 2/10\n",
            "32/32 [==============================] - 0s 1ms/step - loss: 0.1521 - accuracy: 0.0000e+00\n",
            "Epoch 3/10\n",
            "32/32 [==============================] - 0s 1ms/step - loss: 0.1444 - accuracy: 0.0000e+00\n",
            "Epoch 4/10\n",
            "32/32 [==============================] - 0s 2ms/step - loss: 0.1404 - accuracy: 0.0000e+00\n",
            "Epoch 5/10\n",
            "32/32 [==============================] - 0s 2ms/step - loss: 0.1354 - accuracy: 0.0000e+00\n",
            "Epoch 6/10\n",
            "32/32 [==============================] - 0s 1ms/step - loss: 0.1315 - accuracy: 0.0000e+00\n",
            "Epoch 7/10\n",
            "32/32 [==============================] - 0s 2ms/step - loss: 0.1263 - accuracy: 0.0000e+00\n",
            "Epoch 8/10\n",
            "32/32 [==============================] - 0s 2ms/step - loss: 0.1214 - accuracy: 0.0000e+00\n",
            "Epoch 9/10\n",
            "32/32 [==============================] - 0s 1ms/step - loss: 0.1168 - accuracy: 0.0000e+00\n",
            "Epoch 10/10\n",
            "32/32 [==============================] - 0s 2ms/step - loss: 0.1123 - accuracy: 0.0000e+00\n"
          ]
        },
        {
          "output_type": "execute_result",
          "data": {
            "text/plain": [
              "<keras.src.callbacks.History at 0x781bddf54fd0>"
            ]
          },
          "metadata": {},
          "execution_count": 13
        }
      ]
    },
    {
      "cell_type": "code",
      "source": [
        "# 还可以通过覆盖来自定义评估test_step\n",
        "class MyCustomModel(keras.Model):\n",
        "  def test_step(self, data):\n",
        "    x, y = data\n",
        "    y_pred = self(x, training=False)\n",
        "    self.compiled_loss(\n",
        "        y, y_pred, regularization_losses=self.lossess)\n",
        "    self.compiled_metrics.update_state(y, y_pred)\n",
        "    return {m.name: m.result() for m in self.metrics}\n",
        ""
      ],
      "metadata": {
        "id": "xSLTpvwT5Wwq"
      },
      "execution_count": 14,
      "outputs": []
    },
    {
      "cell_type": "code",
      "source": [
        "optimizer = tf.keras.optimizers.Adam()\n",
        "loss_fn = tf.keras.losses.kl_divergence\n",
        "\n",
        "for inputs, target in dataset:\n",
        "  with tf.GradientTape() as tape:\n",
        "    predictions = model(inputs)\n",
        "    loss_value = loss_fn(targets, predictions)\n",
        "  gradients = tape.gradient(loss_value, model.trainable_weights)\n",
        "  optimizer.apply_gradients(zip(gradients, model.trainable_weights))"
      ],
      "metadata": {
        "colab": {
          "base_uri": "https://localhost:8080/",
          "height": 255
        },
        "id": "kVyggC1G64On",
        "outputId": "f2aa8a35-9cbd-4e1f-b07b-6900a6a29446"
      },
      "execution_count": 15,
      "outputs": [
        {
          "output_type": "error",
          "ename": "NameError",
          "evalue": "ignored",
          "traceback": [
            "\u001b[0;31m---------------------------------------------------------------------------\u001b[0m",
            "\u001b[0;31mNameError\u001b[0m                                 Traceback (most recent call last)",
            "\u001b[0;32m<ipython-input-15-6a114299c02d>\u001b[0m in \u001b[0;36m<cell line: 4>\u001b[0;34m()\u001b[0m\n\u001b[1;32m      2\u001b[0m \u001b[0mloss_fn\u001b[0m \u001b[0;34m=\u001b[0m \u001b[0mtf\u001b[0m\u001b[0;34m.\u001b[0m\u001b[0mkeras\u001b[0m\u001b[0;34m.\u001b[0m\u001b[0mlosses\u001b[0m\u001b[0;34m.\u001b[0m\u001b[0mkl_divergence\u001b[0m\u001b[0;34m\u001b[0m\u001b[0;34m\u001b[0m\u001b[0m\n\u001b[1;32m      3\u001b[0m \u001b[0;34m\u001b[0m\u001b[0m\n\u001b[0;32m----> 4\u001b[0;31m \u001b[0;32mfor\u001b[0m \u001b[0minputs\u001b[0m\u001b[0;34m,\u001b[0m \u001b[0mtarget\u001b[0m \u001b[0;32min\u001b[0m \u001b[0mdataset\u001b[0m\u001b[0;34m:\u001b[0m\u001b[0;34m\u001b[0m\u001b[0;34m\u001b[0m\u001b[0m\n\u001b[0m\u001b[1;32m      5\u001b[0m   \u001b[0;32mwith\u001b[0m \u001b[0mtf\u001b[0m\u001b[0;34m.\u001b[0m\u001b[0mGradientTape\u001b[0m\u001b[0;34m(\u001b[0m\u001b[0;34m)\u001b[0m \u001b[0;32mas\u001b[0m \u001b[0mtape\u001b[0m\u001b[0;34m:\u001b[0m\u001b[0;34m\u001b[0m\u001b[0;34m\u001b[0m\u001b[0m\n\u001b[1;32m      6\u001b[0m     \u001b[0mpredictions\u001b[0m \u001b[0;34m=\u001b[0m \u001b[0mmodel\u001b[0m\u001b[0;34m(\u001b[0m\u001b[0minputs\u001b[0m\u001b[0;34m)\u001b[0m\u001b[0;34m\u001b[0m\u001b[0;34m\u001b[0m\u001b[0m\n",
            "\u001b[0;31mNameError\u001b[0m: name 'dataset' is not defined"
          ]
        }
      ]
    },
    {
      "cell_type": "markdown",
      "source": [
        "## 如何获得中间层的输出(特征提取)"
      ],
      "metadata": {
        "id": "bgsDuV3Z8ycd"
      }
    },
    {
      "cell_type": "code",
      "source": [
        "# 在函数式API中，如果某个层仅被调用一次，可以通过检索输出layer.output和其输入layer.input"
      ],
      "metadata": {
        "id": "gH3AS6YK8bR5"
      },
      "execution_count": 16,
      "outputs": []
    },
    {
      "cell_type": "code",
      "source": [
        "from tensorflow import keras\n",
        "from tensorflow.keras import layers\n",
        "\n",
        "model = Sequential([\n",
        "    layers.Conv2D(32, 3, activation='relu'),\n",
        "    layers.Conv2D(32, 3, activation='relu'),\n",
        "    layers.MaxPooling2D(2),\n",
        "    layers.Conv2D(32, 3, activation='relu'),\n",
        "    layers.Conv2D(32, 3, activation='relu'),\n",
        "    layers.GlobalMaxPooling2D(),\n",
        "    layers.Dense(10),\n",
        "])\n",
        "extractor = keras.Model(inputs=model.inputs,\n",
        "             outputs=[layer.output for layer in model.layers])\n",
        "features = extractor(data)"
      ],
      "metadata": {
        "id": "t-4-QlKv9Nkn"
      },
      "execution_count": null,
      "outputs": []
    },
    {
      "cell_type": "code",
      "source": [
        "# 使用有状态的RNN\n",
        "\n",
        "from tensorflow import keras\n",
        "from tensorflow.keras import layers\n",
        "import numpy as np\n",
        "\n",
        "x = np.random.random((32, 21, 16))\n",
        "model = keras.Sequential()\n",
        "model.add(layers.LSTM(32, input_shape=(10, 16), batch_size=32, stateful=True))\n",
        "model.add(layers.Dense(16, activation='softmax'))\n",
        "\n",
        "model.compile(optimizer='rmsprop', loss='categorical_crossentropy')\n",
        "\n",
        "model.train_on_batch(x[:, :10, :], np.reshape(x[:, 10, :], (32, 16)))\n",
        "\n",
        "model.train_on_batch(x[:, 10:20, :], np.reshape(x[:, 20, :], (32, 16)))\n",
        "\n",
        "model.reset_states()\n",
        "\n",
        "model.layers[0].reset_states()"
      ],
      "metadata": {
        "id": "fCLnyybEAIMO"
      },
      "execution_count": 17,
      "outputs": []
    },
    {
      "cell_type": "code",
      "source": [],
      "metadata": {
        "id": "lRgNehUUCPCB"
      },
      "execution_count": null,
      "outputs": []
    }
  ]
}