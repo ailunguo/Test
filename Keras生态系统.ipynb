{
  "nbformat": 4,
  "nbformat_minor": 0,
  "metadata": {
    "colab": {
      "provenance": [],
      "authorship_tag": "ABX9TyMtQ4ddZ+ovA71Zx/MC+xg7",
      "include_colab_link": true
    },
    "kernelspec": {
      "name": "python3",
      "display_name": "Python 3"
    },
    "language_info": {
      "name": "python"
    }
  },
  "cells": [
    {
      "cell_type": "markdown",
      "metadata": {
        "id": "view-in-github",
        "colab_type": "text"
      },
      "source": [
        "<a href=\"https://colab.research.google.com/github/ailunguo/Test/blob/main/Keras%E7%94%9F%E6%80%81%E7%B3%BB%E7%BB%9F.ipynb\" target=\"_parent\"><img src=\"https://colab.research.google.com/assets/colab-badge.svg\" alt=\"Open In Colab\"/></a>"
      ]
    },
    {
      "cell_type": "markdown",
      "source": [
        "## Keras调优器\n",
        "### KerasTuner是一个易于使用、可拓展的超参数优化框架，解决了超参数搜索的痛点。"
      ],
      "metadata": {
        "id": "UaVgjQFFy8jm"
      }
    },
    {
      "cell_type": "markdown",
      "source": [
        "## Keras自然语言处理\n",
        "### KerasNLP是一个自然语言处理库，可为用户的整个开发周期提供支持。"
      ],
      "metadata": {
        "id": "xtCGZc3GzRln"
      }
    },
    {
      "cell_type": "markdown",
      "source": [
        "## KerasCV\n",
        "### KerasCV是一个模块化构建块(层、指标、损失、数据增强)的存储库，应用计算机视觉工程师可以利用它为常见用例快速组装生产级、最先进的训练和推理管道，例如图像分类、目标检测、图像分割、图像数据增强等。"
      ],
      "metadata": {
        "id": "oQnkzlAb0SY-"
      }
    },
    {
      "cell_type": "markdown",
      "source": [
        "## AutoKeras\n",
        "### AutoKeras是一个基于Keras的AutoML系统。目标是让每个人都能使用机器学习。"
      ],
      "metadata": {
        "id": "6Jotf59b04un"
      }
    },
    {
      "cell_type": "code",
      "execution_count": 3,
      "metadata": {
        "id": "jDvlTbuFyezj"
      },
      "outputs": [],
      "source": [
        "# AutoKeras\n",
        "# import autokeras as ak\n",
        "\n",
        "# clf = ak.ImageClassifier()\n",
        "# clf.fit(x_train, y_train)\n",
        "# results = clf.predict(x_test)"
      ]
    },
    {
      "cell_type": "markdown",
      "source": [
        "## 模型优化工具包\n",
        "### 其是一组实用程序，可通过执行训练后权重量化和剪枝感知训练，使推理模型更快、内存效率更高、能效更高。它对Keras模型具有本机支持，并且其修建API直接构建在Keras API之上"
      ],
      "metadata": {
        "id": "A9P9_9zs1cKo"
      }
    },
    {
      "cell_type": "code",
      "source": [
        "# import tensorflow_model_optimization as tfmot\n",
        "\n",
        "# Define a Keras model.\n",
        "# model = tf.keras.Sequential([...])\n",
        "\n",
        "# Define a training-time pruning schedule\n",
        "# pruning_schedule = tfmot.sparsity.keras.PolynomialDecay(\n",
        "#     initial_sparsity=0.0, final_sparsity=0.5,\n",
        "#     begin_step=2000, end_step=4000)\n",
        "\n",
        "# Convert your Keras model to a pruning-optimized model\n",
        "# model_for_pruning = tfmot.sparsity.keras.prune_low_magnitude(\n",
        "#     model, pruning_schedule=pruning_schedule)\n",
        "\n",
        "# Fit the optimized model\n",
        "# model_for_pruning.fit(...)"
      ],
      "metadata": {
        "id": "IEx52UK5yxPr"
      },
      "execution_count": 6,
      "outputs": []
    },
    {
      "cell_type": "markdown",
      "source": [
        "# 一般的问题"
      ],
      "metadata": {
        "id": "JFS321E_5P8R"
      }
    },
    {
      "cell_type": "markdown",
      "source": [
        "## 如何在多个GPU上(在一台机器上)训练Keras模型\n",
        "### 在多个GPU上运行单个模型有两种方法：数据并行和设备并行。在大多数情况下，您最需要的是数据并行性\n",
        "### 1）数据并行性\n",
        "数据并行性在于在每个设备上复制一次目标模型，并使用每个副本来处理输入数据的不同部分。"
      ],
      "metadata": {
        "id": "RfXUNqT85Umg"
      }
    },
    {
      "cell_type": "code",
      "source": [
        "# a) 实力化\"分发策略\"对象，例如MirroredStrategy（在每个可用设备上复制模型并保持每个模型的状态同步\n",
        "# strategy = tf.distribute.MirroredStrategy()\n",
        "# b） 创建模型并在策略范围内编译它\n",
        "# with strategy.scope():\n",
        "#   # This could be any kind of model -- Functional, subclass...\n",
        "#   model = tf.keras.Sequential([\n",
        "#       tf.keras.layers.Conv2D(32, 3, activation='relu', input_shape=(28, 28, 1)),\n",
        "#       tf.keras.layers.GlobalMaxPooling2D(),\n",
        "#       tf.keras.layers.Dense(10)])\n",
        "#   model.compile(loss=tf.keras.losses.SparseCategoricalCrossentropy(from_logits=True),\n",
        "#          optimizer=tf.keras.optimizers.Adam(),\n",
        "#          metrics=[tf.keras.metrics.SparseCategoricalAccuracy()])"
      ],
      "metadata": {
        "id": "KRzfbjyZ2Eop"
      },
      "execution_count": null,
      "outputs": []
    },
    {
      "cell_type": "code",
      "source": [
        "# model.fit(train_dataset, epochs=12, callbacks=callbacks)"
      ],
      "metadata": {
        "id": "U6h07ABc8Xdv"
      },
      "execution_count": null,
      "outputs": []
    },
    {
      "cell_type": "markdown",
      "source": [
        "### 2) 模型并行性\n",
        "模型并行性在于在不同设备上运行同一模型的不同部分。它最适合具有并行架构的模型，例如具有两个分支的模型"
      ],
      "metadata": {
        "id": "FSYBd26b8eYP"
      }
    },
    {
      "cell_type": "code",
      "source": [
        "# Model where a shared LSTM is used to encode two different sequences in parallel\n",
        "# input_a = keras.Input(shape=(140, 256))\n",
        "# input_b = keras.Input(shape=(140, 256))\n",
        "\n",
        "# shared_lstm = keras.layers.LSTM(64)\n",
        "\n",
        "# Process the first sequence on one GPU\n",
        "# with tf.device_scope('/gpu:0'):\n",
        "#   encode_a = shared_lstm(input_a)\n",
        "\n",
        "# Process the next sequence on another GPU\n",
        "# with tf.device_scope('/gpu:1'):\n",
        "#   encode_b = shared_lstm(input_b)\n",
        "\n",
        "# Concatenate results on CPU\n",
        "# with tf.device_scope('cpu:0'):\n",
        "#   merged_vector = keras.layers.concatenate(\n",
        "#       [encoded_a, encoded_b], axis=-1)"
      ],
      "metadata": {
        "id": "KwDdCr2u85IP"
      },
      "execution_count": null,
      "outputs": []
    },
    {
      "cell_type": "markdown",
      "source": [
        "## 保存模型\n",
        "### 不建议使用pickle或cPickle保存Keras模型\n",
        "1，全模型保存（配置+权重）\n",
        "保存：model.save(your_file_path.keras)\n",
        "加载：model = keras.models.load_model(your_file_path)"
      ],
      "metadata": {
        "id": "Wi0mCDktBX3Y"
      }
    },
    {
      "cell_type": "code",
      "source": [],
      "metadata": {
        "id": "qGmVtdnyK_UI"
      },
      "execution_count": null,
      "outputs": []
    }
  ]
}