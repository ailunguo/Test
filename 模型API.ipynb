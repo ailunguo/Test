{
  "nbformat": 4,
  "nbformat_minor": 0,
  "metadata": {
    "colab": {
      "provenance": [],
      "authorship_tag": "ABX9TyOsEWTLWRznzSE05xTj4kLU",
      "include_colab_link": true
    },
    "kernelspec": {
      "name": "python3",
      "display_name": "Python 3"
    },
    "language_info": {
      "name": "python"
    }
  },
  "cells": [
    {
      "cell_type": "markdown",
      "metadata": {
        "id": "view-in-github",
        "colab_type": "text"
      },
      "source": [
        "<a href=\"https://colab.research.google.com/github/ailunguo/Test/blob/main/%E6%A8%A1%E5%9E%8BAPI.ipynb\" target=\"_parent\"><img src=\"https://colab.research.google.com/assets/colab-badge.svg\" alt=\"Open In Colab\"/></a>"
      ]
    },
    {
      "cell_type": "markdown",
      "source": [
        "# 类模型"
      ],
      "metadata": {
        "id": "ZsizUnIrLHjg"
      }
    },
    {
      "cell_type": "code",
      "execution_count": null,
      "metadata": {
        "id": "h47uyZyoK7io"
      },
      "outputs": [],
      "source": [
        "import tensorflow as tf\n",
        "import keras"
      ]
    },
    {
      "cell_type": "code",
      "source": [
        "# 1\n",
        "# tf.keras.Model()\n",
        "inputs = tf.keras.Input(shape=(3,))\n",
        "x = tf.keras.layers.Dense(4, activation=tf.nn.relu)(inputs)\n",
        "outputs = tf.keras.layers.Dense(5, activation=tf.nn.softmax)(x)\n",
        "model = tf.keras.Model(inputs=inputs, outputs=outputs)"
      ],
      "metadata": {
        "id": "_3mgiGOZLS6E"
      },
      "execution_count": null,
      "outputs": []
    },
    {
      "cell_type": "code",
      "source": [
        "# 示例\n",
        "inputs = keras.Input(shape=(None, None, 3))\n",
        "processed = keras.layers.RandomCrop(width=32, height=32)(inputs)\n",
        "conv = keras.layers.Conv2D(filters=2, kernel_size=3)(processed)\n",
        "pooling = keras.layers.GlobalAveragePooling2D()(conv)\n",
        "feature = keras.layers.Dense(10)(pooling)\n",
        "\n",
        "full_model = keras.Model(inputs, feature)\n",
        "backbone = keras.Model(processed, conv)\n",
        "activations = keras.Model(conv, feature)"
      ],
      "metadata": {
        "id": "8X2OpL7WMszR"
      },
      "execution_count": null,
      "outputs": []
    },
    {
      "cell_type": "code",
      "source": [
        "# 2，模型子类化\n",
        "class MyModel(tf.keras.Model):\n",
        "\n",
        "  def __init__(self):\n",
        "    super().__init__()\n",
        "    self.dense1 = tf.keras.layers.Dense(4, activation=tf.nn.relu)\n",
        "    self.dense2 = tf.keras.layers.Dense2(5, activation=tf.nn.softmax)\n",
        "    # x = tf.keras.layers.Dense(4, activation=tf.nn.relu)(inputs)\n",
        "    # outputs = tf.keras.layers.Dense(5, activation=tf.nn.softmax)(x)\n",
        "\n",
        "  def call(self, inputs):\n",
        "    x = self.dense1(inputs)\n",
        "    return self.dense2(x)\n",
        "model = MyModel()"
      ],
      "metadata": {
        "id": "xMPx0CiBOklo"
      },
      "execution_count": null,
      "outputs": []
    },
    {
      "cell_type": "code",
      "source": [
        "# 可以在call()中包含一个training布尔参数来指定不同的行为\n",
        "class MyModel(tf.keras.Model):\n",
        "\n",
        "  def __init__(self):\n",
        "    super().__init__()\n",
        "    self.dense1 = tf.keras.layers.Dense(4, activation=tf.nn.relu)\n",
        "    self.dense2 = tf.keras.layers.Dense(5, activation=tf.nn.softmax)\n",
        "    self.dropout = tf.keras.layers.Dropout(0.5)\n",
        "\n",
        "  def call(self, inputs, training=False):\n",
        "    x = self.dense1(inputs)\n",
        "    if training:\n",
        "      x = self.dropout(x, training=training)\n",
        "    return self.dense2(x)\n",
        "\n",
        "model = MyModel()"
      ],
      "metadata": {
        "id": "eum4bewUPe13"
      },
      "execution_count": null,
      "outputs": []
    },
    {
      "cell_type": "markdown",
      "source": [
        "### summary方法"
      ],
      "metadata": {
        "id": "_irhthvzRVHX"
      }
    },
    {
      "cell_type": "code",
      "source": [
        "Model.summary(\n",
        "    line_length=None, # 打印行的总长度\n",
        "    positions=None,  # 每行中日志元素的相对和绝对位置\n",
        "    print_fn=None,   #\n",
        "    expand_nested=False,\n",
        "    show_trainable=False, # 是否显示图层是否可训练\n",
        "    layer_range=None,\n",
        ")"
      ],
      "metadata": {
        "id": "NarGNMKvRNpV"
      },
      "execution_count": null,
      "outputs": []
    },
    {
      "cell_type": "code",
      "source": [
        "# get_layer方法\n",
        "Model.get_layer(name=None, index=None)\n",
        "# name: 字符串，图层的名称\n",
        "# index: 整数，图层的索引"
      ],
      "metadata": {
        "id": "l_f37KGaSfOm"
      },
      "execution_count": null,
      "outputs": []
    },
    {
      "cell_type": "markdown",
      "source": [
        "# Sequential类"
      ],
      "metadata": {
        "id": "rVboa2jqS2N1"
      }
    },
    {
      "cell_type": "code",
      "source": [
        "tf.keras.Sequential(layers=None, name=None)"
      ],
      "metadata": {
        "id": "Tp8GNcTLS6ZY"
      },
      "execution_count": null,
      "outputs": []
    },
    {
      "cell_type": "code",
      "source": [
        "# 示例\n",
        "# 由于没有指定激活函数，默认使用线性激活函数\n",
        "model = tf.keras.Sequential()\n",
        "# 第一个层要说明输入层的维度\n",
        "model.add(tf.keras.layers.Dense(8, input_shape=(16,)))\n",
        "model.add(tf.keras.layers.Dense(4))\n",
        "\n",
        "# 下面的与上面的类似\n",
        "mdoel = tf.keras.Sequential()\n",
        "model.add(tf.keras.Input(shape=(16,)))\n",
        "model.add(tf.keras.layers.Dense(8))\n",
        "\n",
        "# 也可以忽略输入\n",
        "model = tf.keras.Sequential()\n",
        "model.add(tf.keras.layers.Dense(8))\n",
        "model.add(tf.keras.layers.Dense(4))\n",
        "# 但是模型的权重不会被创建\n",
        "\n",
        "model = tf.keras.Sequential()\n",
        "model.add(tf.keras.layers.Dense(8, input_shape=(16,)))\n",
        "model.add(tf.keras.layers.Dense(4))\n",
        "len(model.weights) == 4 # 两个层，分别两两个权重和两个偏差\n",
        "\n",
        "# 如果不添加输入层，那权重需要手动创建，并指定输入层\n",
        "model = tf.keras.Sequential()\n",
        "model.add(tf.keras.layers.Dense(8))\n",
        "model.add(tf.keras.layers.Dense(4))\n",
        "model.build((None, 16))\n",
        "len(model.weights) == 4\n",
        "\n",
        "# 如果没有手动创建，那么在fit,eval或给模型输入数据时会自动创建\n",
        "model = tf.keras.Sequential()\n",
        "model.add(tf.keras.layers.Dense(8))\n",
        "model.add(tf.keras.layers.Dense(1))\n",
        "model.compile(optimizer='sgd', loss='mse')\n",
        "model.fit(x, y, batch_size=32, epochs=10) # 这个操作会自动创建权重"
      ],
      "metadata": {
        "id": "xRV2esr-TFXF"
      },
      "execution_count": null,
      "outputs": []
    },
    {
      "cell_type": "code",
      "source": [
        "Sequential.pop() # 删除模型的最后一层"
      ],
      "metadata": {
        "id": "dgdGKdakXe0d"
      },
      "execution_count": null,
      "outputs": []
    },
    {
      "cell_type": "markdown",
      "source": [
        "# 模型训练API"
      ],
      "metadata": {
        "id": "ggirz8a1XpYD"
      }
    },
    {
      "cell_type": "code",
      "source": [
        "# compile方法\n",
        "Model.compile(\n",
        "    optimizer='rmsprop',\n",
        "    loss=None,\n",
        "    metrics=None,\n",
        "    loss_weights=None,\n",
        "    weighted_metrics=None,\n",
        "    run_eagerly=None,\n",
        "    steps_per_execution=None,\n",
        "    jit_compile=None,\n",
        "    pss_evaluation_shards=0,\n",
        "    **kwargs\n",
        ")"
      ],
      "metadata": {
        "id": "60rCOnXpXrxt"
      },
      "execution_count": null,
      "outputs": []
    },
    {
      "cell_type": "code",
      "source": [
        "# 示例\n",
        "model.compile(optimizer=tf.keras.optimizers.Adam(learning_rate=1e-3),\n",
        "       loss=tf.keras.losses.BinaryCrossentropy(),\n",
        "       metrics=[tf.keras.metrics.BinaryAccuracy(),\n",
        "            tf.keras.metrics.FalseNegatives()])"
      ],
      "metadata": {
        "id": "5lXH0b6WaHEU"
      },
      "execution_count": null,
      "outputs": []
    },
    {
      "cell_type": "markdown",
      "source": [
        "optimizer: 字符串，优化器名称或优化器示例\n",
        "loss: 损失函数\n",
        "metrics: 模型在训练和测试期间要评估的指标列表\n",
        "loss_weights: 列表或字典，以对不同模型输出的损失贡献加权。\n",
        "weighted_metrics: 训练和测试期间要评估和加权的指标列表\n",
        "run_eagerly: bool值\n",
        "steps_per_execution: 整数，每次调用期间要运行的批次数\n",
        "jit_compile: 如果为true使用XLA编译模型训练步骤，XLA是一个用于机器学习的优化编译器\n",
        "pss_evaluation_shards: 整数"
      ],
      "metadata": {
        "id": "Ltc_DWH2azgT"
      }
    },
    {
      "cell_type": "code",
      "source": [
        "# fit()方法\n",
        "Model.fit(\n",
        "    x=None,\n",
        "    y=None,\n",
        "    batch_size=None,\n",
        "    epochs=1,\n",
        "    verbose='auto',\n",
        "    callback=None,\n",
        "    validation_split=0.0\n",
        "    validation_data=None,\n",
        "    shuffle=True,\n",
        "    class_weight=None,\n",
        "    sample_weight=None,\n",
        "    initial_epoch=0,\n",
        "    steps_per_epoch=None,\n",
        "    validation_steps=None,\n",
        "    validation_batch_size=None,\n",
        "    validation_freq=1,\n",
        "    max_queue_size=10,\n",
        "    workers=1,\n",
        "    use_multiprocessing=False,\n",
        ")"
      ],
      "metadata": {
        "id": "D-8LYPxdc6fT"
      },
      "execution_count": null,
      "outputs": []
    },
    {
      "cell_type": "markdown",
      "source": [
        "verbose: 'auto',0,1,2。0=静默，1=进度条，2=每轮一行，在大多数情况下'auto'变为1。在生产环境中，建议使用2。'auto'与ParameterServerStrategy一起时为2\n",
        "\n",
        "valid_split: 验证集的比例\n",
        "\n",
        "validation_data：用于评估每个时期结束时的损失和任何模型指标的数据。该模型不会根据此数据进行训练"
      ],
      "metadata": {
        "id": "aFrBfxSNeu6y"
      }
    },
    {
      "cell_type": "code",
      "source": [
        "# evaluate方法\n",
        "Model.evaluate(\n",
        "    x=None,\n",
        "    y=None,\n",
        "    batch_size=None,\n",
        "    verbose='auto',\n",
        "    sample_weight=None,\n",
        "    steps=None,\n",
        "    callbacks=None,\n",
        "    max_queue_size=10,\n",
        "    workers=1,\n",
        "    use_multiprocessing=False,\n",
        "    return_dict=False,\n",
        "    **kwargs\n",
        ")"
      ],
      "metadata": {
        "id": "q0mcszmjhBGp"
      },
      "execution_count": null,
      "outputs": []
    },
    {
      "cell_type": "code",
      "source": [
        "# predict方法\n",
        "Model.predict(\n",
        "    x,\n",
        "    batch_size=None,\n",
        "    verbose='auto',\n",
        "    steps=None,\n",
        "    callbacks=None,\n",
        "    max_queue_size=10,\n",
        "    workers=1,\n",
        "    use_multiprocessing=False,\n",
        ")"
      ],
      "metadata": {
        "id": "eSL3gUyehtng"
      },
      "execution_count": null,
      "outputs": []
    },
    {
      "cell_type": "code",
      "source": [
        "# train_on_batch方法\n",
        "Model.train_on_batch(\n",
        "    x,\n",
        "    y=None,\n",
        "    sample_weight=None,\n",
        "    calss_weight=None,\n",
        "    reset_metrics=True,\n",
        "    return_dict=False,\n",
        ")\n",
        "# 对单批数据运行单个梯度更新\n"
      ],
      "metadata": {
        "id": "uKdRnH_tiRDA"
      },
      "execution_count": null,
      "outputs": []
    },
    {
      "cell_type": "code",
      "source": [
        "# test_on_batch方法\n",
        "Model.test_on_batch(\n",
        "    x, y=None,\n",
        "    sample_weight=None,\n",
        "    reset_metrics=True,\n",
        "    return_dict=False\n",
        ")\n",
        "# 在单批样品上测试模型"
      ],
      "metadata": {
        "id": "oIJJ-mmRiqP0"
      },
      "execution_count": null,
      "outputs": []
    },
    {
      "cell_type": "code",
      "source": [
        "# predict_on_batch方法\n",
        "Model.predict_on_batch(x)\n",
        "# 返回单批样本的预测"
      ],
      "metadata": {
        "id": "AYs4vKvNjEuI"
      },
      "execution_count": null,
      "outputs": []
    },
    {
      "cell_type": "code",
      "source": [
        "# run_eagerly\n",
        "# tf.keras.Model.run_eagerly可设置属性，指示模型是否应立即运行，\n",
        "# 急切的运行代码意味着你的模型将像Python代码一样一步步运行。\n",
        "# 运行速度较慢，但通过单步执行各个层调用，更容易调试它\n",
        "# 默认情况下，我们将尝试将您的模型编译为静态图，以提供最佳的执行性能。"
      ],
      "metadata": {
        "id": "oBcsj3vUjVj5"
      },
      "execution_count": null,
      "outputs": []
    },
    {
      "cell_type": "markdown",
      "source": [
        "# 模型保存"
      ],
      "metadata": {
        "id": "G7XWn1PzTipZ"
      }
    },
    {
      "cell_type": "code",
      "source": [
        "# 整个模型保存和加载\n",
        "# save方法\n",
        "Model.save(filepath, overwrite=True, save_format=None, **kwargs)\n",
        "# overwrite: 我们是否应该覆盖目标位置的任何现有模型\n",
        "# save_format: 'keras','tf','h5',模型文件保存的模式"
      ],
      "metadata": {
        "id": "hoDJmsPHThtZ"
      },
      "execution_count": null,
      "outputs": []
    },
    {
      "cell_type": "code",
      "source": [
        "model = tf.keras.Sequential([\n",
        "    tf.keras.layers.Dense(5, input_shape=(3,)),\n",
        "    tf.keras.layers.Softmax()\n",
        "])\n",
        "model.save('model.keras')\n",
        "loaded_model = tf.keras.models.load_model('model.keras')\n",
        "x = tf.random.uniform((10, 3))\n",
        "assert np.allclose(model.predict(x), loaded_model.predict(x))"
      ],
      "metadata": {
        "id": "tMg5s8WCU11S"
      },
      "execution_count": null,
      "outputs": []
    },
    {
      "cell_type": "code",
      "source": [
        "# save_model函数\n",
        "tf.keras.saving.save_model(\n",
        "    model, filepath, overwrite=True, save_format=None, **kwargs\n",
        ")\n"
      ],
      "metadata": {
        "id": "lklgYBNaVgPh"
      },
      "execution_count": null,
      "outputs": []
    },
    {
      "cell_type": "code",
      "source": [
        "# load_model函数\n",
        "tf.keras.saving.load_model(\n",
        "    filepath, custom_objects=None, compile=True, safe_mode=True, **kwargs\n",
        ")\n",
        "# safe_mode: 确保代码不被随意执行，默认为True"
      ],
      "metadata": {
        "id": "OqmajXM6Wy-Q"
      },
      "execution_count": null,
      "outputs": []
    },
    {
      "cell_type": "markdown",
      "source": [
        "只保存权重"
      ],
      "metadata": {
        "id": "DU-LNR8nZF4Z"
      }
    },
    {
      "cell_type": "code",
      "source": [
        "# get_weights方法\n",
        "Model.get_weights()\n",
        "\n",
        "# set_weights方法\n",
        "Model.set_weights(weights) # 为model设置weights权重"
      ],
      "metadata": {
        "id": "Oa5qjRAzZHfH"
      },
      "execution_count": null,
      "outputs": []
    },
    {
      "cell_type": "code",
      "source": [
        "import tensorflow as tf"
      ],
      "metadata": {
        "id": "qNgxskA9Z0qY"
      },
      "execution_count": null,
      "outputs": []
    },
    {
      "cell_type": "code",
      "source": [
        "layer_a = tf.keras.layers.Dense(1,\n",
        "      kernel_initializer=tf.constant_initializer(1.))\n",
        "a_out = layer_a(tf.convert_to_tensor([[1., 2., 3.]]))\n",
        "layer_a.get_weights() # 得到layer_a的权重"
      ],
      "metadata": {
        "colab": {
          "base_uri": "https://localhost:8080/"
        },
        "id": "Qy0p1EjDZ4SS",
        "outputId": "60702e3b-a91d-44b3-b948-dea5a7ebea75"
      },
      "execution_count": null,
      "outputs": [
        {
          "output_type": "execute_result",
          "data": {
            "text/plain": [
              "[array([[1.],\n",
              "        [1.],\n",
              "        [1.]], dtype=float32),\n",
              " array([0.], dtype=float32)]"
            ]
          },
          "metadata": {},
          "execution_count": 2
        }
      ]
    },
    {
      "cell_type": "code",
      "source": [
        "layer_b = tf.keras.layers.Dense(1,\n",
        "      kernel_initializer=tf.constant_initializer(2.))\n",
        "b_out = layer_b(tf.convert_to_tensor([[10., 20., 30.]]))\n",
        "layer_b.get_weights() # 得到layer_b的权重"
      ],
      "metadata": {
        "colab": {
          "base_uri": "https://localhost:8080/"
        },
        "id": "RknqTB7fabB6",
        "outputId": "bdb5d845-bac6-4aa8-8abc-d45c0524b689"
      },
      "execution_count": null,
      "outputs": [
        {
          "output_type": "execute_result",
          "data": {
            "text/plain": [
              "[array([[2.],\n",
              "        [2.],\n",
              "        [2.]], dtype=float32),\n",
              " array([0.], dtype=float32)]"
            ]
          },
          "metadata": {},
          "execution_count": 4
        }
      ]
    },
    {
      "cell_type": "code",
      "source": [
        "# 通过set_weights将layer_b的权重设置为layer_a的权重\n",
        "# 前提是这两个模型的权重的shape是一样的\n",
        "layer_b.set_weights(layer_a.get_weights())\n",
        "layer_b.get_weights()"
      ],
      "metadata": {
        "colab": {
          "base_uri": "https://localhost:8080/"
        },
        "id": "ZINsHOjtaz55",
        "outputId": "461acc8e-b71f-4275-99df-49602cf2ea05"
      },
      "execution_count": null,
      "outputs": [
        {
          "output_type": "execute_result",
          "data": {
            "text/plain": [
              "[array([[1.],\n",
              "        [1.],\n",
              "        [1.]], dtype=float32),\n",
              " array([0.], dtype=float32)]"
            ]
          },
          "metadata": {},
          "execution_count": 6
        }
      ]
    },
    {
      "cell_type": "code",
      "source": [
        "# save_weights方法\n",
        "Model.save_weights(filepath, overwrite=True, save_format=None, options=None)"
      ],
      "metadata": {
        "id": "3cxMGUIgbFMB"
      },
      "execution_count": null,
      "outputs": []
    },
    {
      "cell_type": "code",
      "source": [
        "# load_weights方法\n",
        "Model.load_weights(filepath, skip_mismatch=False, by_name=False, options=None)\n",
        "# by_name=True,如果权重以.h5形式保存，在加载权重时可以通过by_name=True。\n",
        "# 这种形式下只有layers的名称相同才会被加载，这对模型微调和迁移学习非常有用，当一些层被改变之后\n"
      ],
      "metadata": {
        "id": "Eo9VdTywee-J"
      },
      "execution_count": null,
      "outputs": []
    },
    {
      "cell_type": "markdown",
      "source": [
        "模型配置序列化"
      ],
      "metadata": {
        "id": "0grUFoEBf0Kp"
      }
    },
    {
      "cell_type": "code",
      "source": [
        "# get_config方法\n",
        "Model.get_config()\n",
        "\n",
        "# from_config方法\n",
        "Model.from_config(config, custom_objects=None)"
      ],
      "metadata": {
        "id": "TDwW5JTAf10Z"
      },
      "execution_count": null,
      "outputs": []
    },
    {
      "cell_type": "code",
      "source": [
        "# clone_model函数\n",
        "tf.keras.models.clone_model(model, input_tensors=None, clone_function=None)\n",
        "\n",
        "# 例子\n",
        "model = keras.Sequential([\n",
        "    keras.Input(shape=(728,)),\n",
        "    keras.layers.Dense(32, activation='relu'),\n",
        "    keras.layers.Dense(1, activation='softmax'),\n",
        "])\n",
        "# 创建一个新的模型并初始化新的权重\n",
        "new_model = clone_model(model)"
      ],
      "metadata": {
        "id": "1YCDkcqIhyZf"
      },
      "execution_count": null,
      "outputs": []
    },
    {
      "cell_type": "markdown",
      "source": [
        "模型导出用于推理"
      ],
      "metadata": {
        "id": "iK2Qnqdqjf4X"
      }
    },
    {
      "cell_type": "code",
      "source": [
        "# ExportArchive类\n",
        "tf.keras.export.ExportArchive()\n",
        "\n",
        "# 例子\n",
        "export_archive = ExportArchive()\n",
        "export_archive.track(model)\n",
        "export_archive.add_endpoint(\n",
        "    name='serve',\n",
        "    fn=model.call,\n",
        "    input_signature=[tf.TensorSpec(shape=(None,3), dtype=tf.float32)],\n",
        ")\n",
        "export_archive.write_out('path/to/location')\n",
        "\n",
        "serving_model = tf.saved_model.load('path/to/location')\n",
        "outputs = serving_model.serve(inputs)"
      ],
      "metadata": {
        "id": "B1fYBwN0jiaA"
      },
      "execution_count": null,
      "outputs": []
    },
    {
      "cell_type": "code",
      "source": [
        "# 下面介绍了如何导出一个模型，该模型具有一个用于推理的端点和一个用于训练模式前向传播的端点\n",
        "export_archive = ExportArchive()\n",
        "export_archive.track(model)\n",
        "export_archive.add_endpoint(\n",
        "    name='call_inference',\n",
        "    fn=lambda x: model.call(x, training=False),\n",
        "    input_signature=[tf.TensorSpec(shape=(None, 3), dtype=tf.float32)],\n",
        ")\n",
        "export_archive.add_endpoint(\n",
        "    name='call_training',\n",
        "    fn=lambda x: model.call(x, training=True),\n",
        "    input_signature=[tf.TensorSpec(shape=(None, 3), dtype=tf.float32)],\n",
        ")\n",
        "export_archive.write_out('path/to/location')\n"
      ],
      "metadata": {
        "id": "z--rLhVNoSPW"
      },
      "execution_count": null,
      "outputs": []
    }
  ]
}